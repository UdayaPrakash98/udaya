{
  "nbformat": 4,
  "nbformat_minor": 5,
  "metadata": {
    "kernelspec": {
      "display_name": "Python 3",
      "language": "python",
      "name": "python3"
    },
    "language_info": {
      "codemirror_mode": {
        "name": "ipython",
        "version": 3
      },
      "file_extension": ".py",
      "mimetype": "text/x-python",
      "name": "python",
      "nbconvert_exporter": "python",
      "pygments_lexer": "ipython3",
      "version": "3.8.5"
    },
    "colab": {
      "name": "Programming Assignment_14.ipynb",
      "provenance": []
    }
  },
  "cells": [
    {
      "cell_type": "markdown",
      "metadata": {
        "id": "5e0eb2d8"
      },
      "source": [
        "### Question 1:Define a class with a generator which can iterate the numbers, which are divisible by 7, between a given range 0 and n."
      ],
      "id": "5e0eb2d8"
    },
    {
      "cell_type": "code",
      "metadata": {
        "id": "3f452275"
      },
      "source": [
        "class itrate:\n",
        "    def __init__(self,n):\n",
        "        self.n  = n\n",
        "    \n",
        "    def divisible(self):\n",
        "        for i in range(0, self.n):\n",
        "            if i%7==0 and i>0:\n",
        "                print(i)\n",
        "            "
      ],
      "id": "3f452275",
      "execution_count": null,
      "outputs": []
    },
    {
      "cell_type": "code",
      "metadata": {
        "id": "dc29ae02",
        "outputId": "76d4fc39-f7e7-40bd-d298-e789ee3a5c75"
      },
      "source": [
        "a = itrate(100)\n",
        "a.divisible()"
      ],
      "id": "dc29ae02",
      "execution_count": null,
      "outputs": [
        {
          "name": "stdout",
          "output_type": "stream",
          "text": [
            "7\n",
            "14\n",
            "21\n",
            "28\n",
            "35\n",
            "42\n",
            "49\n",
            "56\n",
            "63\n",
            "70\n",
            "77\n",
            "84\n",
            "91\n",
            "98\n"
          ]
        }
      ]
    },
    {
      "cell_type": "markdown",
      "metadata": {
        "id": "f5957a9b"
      },
      "source": [
        "### Question 2: Write a program to compute the frequency of the words from the input. The outputshould output after sorting the key alphanumerically.\n",
        "#### Suppose the following input is supplied to the program:\n",
        "#### New to Python or choosing between Python 2 and Python 3? Read Python 2 or\n",
        "#### Python 3.\n",
        "#### Then, the output should be:\n",
        "#### 2:2\n",
        "#### 3.:1\n",
        "#### 3?:1\n",
        "#### New:1\n",
        "#### Python:5\n",
        "#### Read:1\n",
        "#### and:1\n",
        "#### between:1\n",
        "#### choosing:1\n",
        "#### or:2\n",
        "#### to:1"
      ],
      "id": "f5957a9b"
    },
    {
      "cell_type": "code",
      "metadata": {
        "id": "bd917623",
        "outputId": "20d20818-1359-4479-9f39-faa431c3f0f2"
      },
      "source": [
        "input_string = str(input(\"Enter the string: \")).split()\n",
        "frequency_check = sorted(set(input_string))\n",
        "\n",
        "for i in frequency_check:\n",
        "    print(\"{}:{}\".format(i,input_string.count(i)))\n",
        "    "
      ],
      "id": "bd917623",
      "execution_count": null,
      "outputs": [
        {
          "name": "stdout",
          "output_type": "stream",
          "text": [
            "Enter the string: New to Python or choosing between Python 2 and Python 3? Read Python 2 or Python 3.\n",
            "2:2\n",
            "3.:1\n",
            "3?:1\n",
            "New:1\n",
            "Python:5\n",
            "Read:1\n",
            "and:1\n",
            "between:1\n",
            "choosing:1\n",
            "or:2\n",
            "to:1\n"
          ]
        }
      ]
    },
    {
      "cell_type": "markdown",
      "metadata": {
        "id": "200c014b"
      },
      "source": [
        "### Question 3: Define a class Person and its two child classes: Male and Female. All classes have a method &quot;getGender&quot; which can print &quot;Male&quot; for Male class and &quot;Female&quot; for Female class."
      ],
      "id": "200c014b"
    },
    {
      "cell_type": "code",
      "metadata": {
        "id": "65bc5864",
        "outputId": "fc358258-afbb-42d6-fce1-885dd139955c"
      },
      "source": [
        "class person:\n",
        "    def getgender(self):\n",
        "        pass\n",
        "\n",
        "class male(person):\n",
        "    def getgender(self):\n",
        "        return \"male\"\n",
        "\n",
        "class female(person):\n",
        "    def getgender(self):\n",
        "        return \"female\"\n",
        "    \n",
        "m = male()\n",
        "print(m.getgender())\n",
        "f = female()\n",
        "print(f.getgender())"
      ],
      "id": "65bc5864",
      "execution_count": null,
      "outputs": [
        {
          "name": "stdout",
          "output_type": "stream",
          "text": [
            "male\n",
            "female\n"
          ]
        }
      ]
    },
    {
      "cell_type": "markdown",
      "metadata": {
        "id": "1e75526d"
      },
      "source": [
        "### Question 4: Please write a program to generate all sentences where subject is in [&quot;I&quot;, &quot;You&quot;] and verb is in [&quot;Play&quot;, &quot;Love&quot;] and the object is in [&quot;Hockey&quot;,&quot;Football&quot;]."
      ],
      "id": "1e75526d"
    },
    {
      "cell_type": "code",
      "metadata": {
        "id": "fc7e8c66",
        "outputId": "2c63a4f5-2df5-4741-c1a1-b871255eecf2"
      },
      "source": [
        "subject = [\"I\", \"You\"]\n",
        "verb = [\"Play\", \"Love\"]\n",
        "objects = [\"Hockey\",\"Football\"]\n",
        "\n",
        "for i in subject:\n",
        "    for j in verb:\n",
        "        for k in objects:\n",
        "            print(\"{} {} {}\".format(i,j,k))"
      ],
      "id": "fc7e8c66",
      "execution_count": null,
      "outputs": [
        {
          "name": "stdout",
          "output_type": "stream",
          "text": [
            "I Play Hockey\n",
            "I Play Football\n",
            "I Love Hockey\n",
            "I Love Football\n",
            "You Play Hockey\n",
            "You Play Football\n",
            "You Love Hockey\n",
            "You Love Football\n"
          ]
        }
      ]
    },
    {
      "cell_type": "markdown",
      "metadata": {
        "id": "777133de"
      },
      "source": [
        "### Question 5: Please write a program to compress and decompress the string &quot;hello world!hello world!hello world!hello world!&quot;."
      ],
      "id": "777133de"
    },
    {
      "cell_type": "code",
      "metadata": {
        "id": "86e0da78",
        "outputId": "8804584e-7c10-4536-9f83-9760125660eb"
      },
      "source": [
        "import zlib\n",
        "string = 'hello world!hello world!hello world!hello world!'.encode()\n",
        "com = zlib.compress(s)\n",
        "print(t)\n",
        "print(zlib.decompress(t))"
      ],
      "id": "86e0da78",
      "execution_count": null,
      "outputs": [
        {
          "name": "stdout",
          "output_type": "stream",
          "text": [
            "b'x\\x9c\\xcbH\\xcd\\xc9\\xc9W(\\xcf/\\xcaIQ\\xcc \\x82\\r\\x00\\xbd[\\x11\\xf5'\n",
            "b'hello world!hello world!hello world!hello world!'\n"
          ]
        }
      ]
    },
    {
      "cell_type": "markdown",
      "metadata": {
        "id": "2cf4573b"
      },
      "source": [
        "### Question 6: Please write a binary search function which searches an item in a sorted list. The function should return the index of element to be searched in the list."
      ],
      "id": "2cf4573b"
    },
    {
      "cell_type": "code",
      "metadata": {
        "id": "40d28667"
      },
      "source": [
        "def binary_search(l,n):\n",
        "    low = 0\n",
        "    high = len(l)-1\n",
        "\n",
        "    \n",
        "    while low<=high:\n",
        "        mid = (low+high)//2\n",
        "        \n",
        "        if l[mid]<n:\n",
        "            low = mid+1\n",
        "        elif l[mid]>n:\n",
        "            high = mid-1\n",
        "        else:\n",
        "            return mid\n",
        "    return \"element not in list\"\n",
        "            \n",
        "            \n",
        "        "
      ],
      "id": "40d28667",
      "execution_count": null,
      "outputs": []
    },
    {
      "cell_type": "code",
      "metadata": {
        "id": "9b730c52",
        "outputId": "5c10f0c4-4ba0-47bf-a1a8-955486be8ad1"
      },
      "source": [
        "l = [12,4,2,31,21]\n",
        "l.sort()\n",
        "print(l)\n",
        "binary_search(l,2)"
      ],
      "id": "9b730c52",
      "execution_count": null,
      "outputs": [
        {
          "name": "stdout",
          "output_type": "stream",
          "text": [
            "[2, 4, 12, 21, 31]\n"
          ]
        },
        {
          "data": {
            "text/plain": [
              "0"
            ]
          },
          "execution_count": 58,
          "metadata": {},
          "output_type": "execute_result"
        }
      ]
    },
    {
      "cell_type": "code",
      "metadata": {
        "id": "7e0817c7",
        "outputId": "e8043ede-965c-4755-a0f9-5499d5ce63fb"
      },
      "source": [
        "binary_search(l,5)"
      ],
      "id": "7e0817c7",
      "execution_count": null,
      "outputs": [
        {
          "data": {
            "text/plain": [
              "'element not in list'"
            ]
          },
          "execution_count": 59,
          "metadata": {},
          "output_type": "execute_result"
        }
      ]
    }
  ]
}