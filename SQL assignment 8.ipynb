{
 "cells": [
  {
   "cell_type": "code",
   "execution_count": null,
   "id": "d50a73cb",
   "metadata": {},
   "outputs": [],
   "source": [
    "1.Write an SQL query to fetch intersecting records of two tables.\n",
    "\n",
    "(SELECT * FROM Worker)\n",
    "INTERSECT\n",
    "(SELECT * FROM WorkerClone);\n"
   ]
  },
  {
   "cell_type": "code",
   "execution_count": null,
   "id": "e7687672",
   "metadata": {},
   "outputs": [],
   "source": [
    "2.Write an SQL query to show records from one table that another table does not\n",
    "have.\n",
    "\n",
    "SELECT * FROM Worker\n",
    "MINUS\n",
    "SELECT * FROM Title;"
   ]
  }
 ],
 "metadata": {
  "kernelspec": {
   "display_name": "Python 3",
   "language": "python",
   "name": "python3"
  },
  "language_info": {
   "codemirror_mode": {
    "name": "ipython",
    "version": 3
   },
   "file_extension": ".py",
   "mimetype": "text/x-python",
   "name": "python",
   "nbconvert_exporter": "python",
   "pygments_lexer": "ipython3",
   "version": "3.9.5"
  }
 },
 "nbformat": 4,
 "nbformat_minor": 5
}
