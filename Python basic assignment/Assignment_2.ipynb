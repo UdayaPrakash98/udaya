{
  "nbformat": 4,
  "nbformat_minor": 0,
  "metadata": {
    "kernelspec": {
      "display_name": "Python 3",
      "language": "python",
      "name": "python3"
    },
    "language_info": {
      "codemirror_mode": {
        "name": "ipython",
        "version": 3
      },
      "file_extension": ".py",
      "mimetype": "text/x-python",
      "name": "python",
      "nbconvert_exporter": "python",
      "pygments_lexer": "ipython3",
      "version": "3.8.5"
    },
    "colab": {
      "name": "Assignment_2.ipynb",
      "provenance": []
    }
  },
  "cells": [
    {
      "cell_type": "markdown",
      "metadata": {
        "id": "blmf3PT25Q9g"
      },
      "source": [
        "### 1.What are the two values of the Boolean data type? How do you write them?"
      ]
    },
    {
      "cell_type": "code",
      "metadata": {
        "id": "s4FB5EoI5Q9j"
      },
      "source": [
        "Two Boolean data types are:\n",
        "    1. True\n",
        "    2. False\n",
        "    \n",
        "    1. True == 1\n",
        "    2. False == 0\n",
        "We can evaluate any expression in python and get one of the two answers: True or False\n",
        "\n"
      ],
      "execution_count": null,
      "outputs": []
    },
    {
      "cell_type": "code",
      "metadata": {
        "id": "aKXMIqBb5Q9m",
        "outputId": "97b0cbc9-8075-4b97-f712-23836e9d931e"
      },
      "source": [
        "#Example:\n",
        "print(10>9)\n",
        "    "
      ],
      "execution_count": null,
      "outputs": [
        {
          "name": "stdout",
          "output_type": "stream",
          "text": [
            "True\n"
          ]
        }
      ]
    },
    {
      "cell_type": "code",
      "metadata": {
        "id": "dMhyGsbb5Q9n",
        "outputId": "c474600f-4377-4f26-d8ec-6ef5e04a68e6"
      },
      "source": [
        "print(11<9)"
      ],
      "execution_count": null,
      "outputs": [
        {
          "name": "stdout",
          "output_type": "stream",
          "text": [
            "False\n"
          ]
        }
      ]
    },
    {
      "cell_type": "markdown",
      "metadata": {
        "id": "Nd07Px2r5Q9o"
      },
      "source": [
        "### 2. What are the three different types of Boolean operators?"
      ]
    },
    {
      "cell_type": "code",
      "metadata": {
        "id": "D1kOJ6MK5Q9p"
      },
      "source": [
        "Three different types of boolean operators are:\n",
        "        1. and\n",
        "        2. or\n",
        "        3. not"
      ],
      "execution_count": null,
      "outputs": []
    },
    {
      "cell_type": "code",
      "metadata": {
        "id": "ra83tdMJ5Q9q",
        "outputId": "6dff217d-a3a9-47fa-f027-3c9c2db2b79f"
      },
      "source": [
        "if 10>9 and 10>8:\n",
        "    print(True)"
      ],
      "execution_count": null,
      "outputs": [
        {
          "name": "stdout",
          "output_type": "stream",
          "text": [
            "True\n"
          ]
        }
      ]
    },
    {
      "cell_type": "code",
      "metadata": {
        "id": "sIeIQM1t5Q9r",
        "outputId": "3980950f-193b-4d2a-a09b-7ef93c13826d"
      },
      "source": [
        "if 10>11 or 10>8:\n",
        "    print(True)"
      ],
      "execution_count": null,
      "outputs": [
        {
          "name": "stdout",
          "output_type": "stream",
          "text": [
            "True\n"
          ]
        }
      ]
    },
    {
      "cell_type": "code",
      "metadata": {
        "id": "HB0I5Mbv5Q9s",
        "outputId": "149a45ce-1a2e-4f8f-823d-3d9ff3c27f42"
      },
      "source": [
        "l = [1,2,3,4]\n",
        "m = []\n",
        "for i in l:\n",
        "    if i not in m:\n",
        "        m.append(i)\n",
        "print(m)"
      ],
      "execution_count": null,
      "outputs": [
        {
          "name": "stdout",
          "output_type": "stream",
          "text": [
            "[1, 2, 3, 4]\n"
          ]
        }
      ]
    },
    {
      "cell_type": "markdown",
      "metadata": {
        "id": "eIr9d7KU5Q9u"
      },
      "source": [
        "### 3. Make a list of each Boolean operator&#39;s truth tables (i.e. every possible combination of Boolean\n",
        "### values for the operator and what it evaluate )."
      ]
    },
    {
      "cell_type": "code",
      "metadata": {
        "id": "wGc5E7P05Q9v"
      },
      "source": [
        "True == 1 and False == 0\n",
        "     x  y  x or y\n",
        "     0  0     0     \n",
        "     0  1     1\n",
        "     1  0     1\n",
        "     1  1     1\n",
        "     \n",
        "     x  y  x and y\n",
        "     0  0     0     \n",
        "     0  1     0\n",
        "     1  0     0\n",
        "     1  1     1\n"
      ],
      "execution_count": null,
      "outputs": []
    },
    {
      "cell_type": "markdown",
      "metadata": {
        "id": "coH4kIHf5Q9v"
      },
      "source": [
        "### 4. What are the values of the following expressions?"
      ]
    },
    {
      "cell_type": "code",
      "metadata": {
        "id": "0c0uGh9e5Q9w",
        "outputId": "eb3dd9ce-cd01-41fe-e69b-2d1931f78b8a"
      },
      "source": [
        "print(\"(5 > 4) and (3 == 5)-->\",(5 > 4) and (3 == 5))\n",
        "print(\"not(5>4)-->\",not(5>4))\n",
        "print(\"(5>4)or(3==5)-->\",(5>4)or(3==5))\n",
        "print(\"not ((5 > 4) or (3 == 5))-->\",not ((5 > 4) or (3 == 5)))\n",
        "print(\"(True and True) and (True == False)-->\",(True and True) and (True == False))\n",
        "print(\"(not False) or (not True)-->\",(not False) or (not True))"
      ],
      "execution_count": null,
      "outputs": [
        {
          "name": "stdout",
          "output_type": "stream",
          "text": [
            "(5 > 4) and (3 == 5)--> False\n",
            "not(5>4)--> False\n",
            "(5>4)or(3==5)--> True\n",
            "not ((5 > 4) or (3 == 5))--> False\n",
            "(True and True) and (True == False)--> False\n",
            "(not False) or (not True)--> True\n"
          ]
        }
      ]
    },
    {
      "cell_type": "markdown",
      "metadata": {
        "id": "5-AchAZg5Q9w"
      },
      "source": [
        "### 5. What are the six comparison operators?"
      ]
    },
    {
      "cell_type": "code",
      "metadata": {
        "id": "Zgxdu5Am5Q9x"
      },
      "source": [
        "Comparisor operators are as follows:\n",
        "    1. <  greater than\n",
        "    2. >  less than\n",
        "    3. <= less than equal to\n",
        "    4. >= greater than equal to\n",
        "    5. == equal to\n",
        "    6. != not equal to"
      ],
      "execution_count": null,
      "outputs": []
    },
    {
      "cell_type": "markdown",
      "metadata": {
        "id": "aJDuxpnx5Q9x"
      },
      "source": [
        "### 6. How do you tell the difference between the equal to and assignment operators?Describe a\n",
        "### condition and when you would use one."
      ]
    },
    {
      "cell_type": "code",
      "metadata": {
        "id": "nX4oinhM5Q9x"
      },
      "source": [
        "== is equal to i.e double = sign\n",
        "= is assignment operator\n",
        "\n",
        "for example:"
      ],
      "execution_count": null,
      "outputs": []
    },
    {
      "cell_type": "code",
      "metadata": {
        "id": "rjb25Pz95Q9y",
        "outputId": "590a0912-62b5-4f6c-f13e-44256007b3a6"
      },
      "source": [
        "# Assignment operator example\n",
        "a = 10\n",
        "b = 10  \n",
        "\n",
        "# Equal to operator example\n",
        "if a==b:\n",
        "    print(True)"
      ],
      "execution_count": null,
      "outputs": [
        {
          "name": "stdout",
          "output_type": "stream",
          "text": [
            "True\n"
          ]
        }
      ]
    },
    {
      "cell_type": "markdown",
      "metadata": {
        "id": "dUNrNuKF5Q9y"
      },
      "source": [
        "### 7. Identify the three blocks in this code:"
      ]
    },
    {
      "cell_type": "code",
      "metadata": {
        "id": "anqt-ewK5Q9y",
        "outputId": "27fd5094-29ec-4300-ccee-5e795802feef"
      },
      "source": [
        "spam = 0\n",
        "if spam == 10:\n",
        "    print('eggs')   # A block is a piece of Python program text that is executed as a unit\n",
        "    if spam > 5:    # so here everything inside if statement is a block.  \n",
        "        print('bacon')\n",
        "    else:\n",
        "        print('ham')\n",
        "    print('spam')\n",
        "print('spam')"
      ],
      "execution_count": null,
      "outputs": [
        {
          "name": "stdout",
          "output_type": "stream",
          "text": [
            "spam\n"
          ]
        }
      ]
    },
    {
      "cell_type": "markdown",
      "metadata": {
        "id": "g8jLDwpM5Q9z"
      },
      "source": [
        "### 8. Write code that prints Hello if 1 is stored in spam, prints Howdy if 2 is stored in spam, and prints\n",
        "### Greetings! if anything else is stored in spam."
      ]
    },
    {
      "cell_type": "code",
      "metadata": {
        "id": "Oraq-7EF5Q90",
        "outputId": "a8c4ab99-682b-4e5a-b22d-5706463a169c"
      },
      "source": [
        "spam = int(input())\n",
        "\n",
        "if spam==1:\n",
        "    print(\"Hello\")\n",
        "elif spam==2:\n",
        "    print(\"Howdy\")\n",
        "else:\n",
        "    print(\"Greetings!\")"
      ],
      "execution_count": null,
      "outputs": [
        {
          "name": "stdout",
          "output_type": "stream",
          "text": [
            "1\n",
            "Hello\n"
          ]
        }
      ]
    },
    {
      "cell_type": "code",
      "metadata": {
        "id": "S7DKgW685Q91",
        "outputId": "2f8c14f0-aa28-4b3f-c178-3c0ea8827b1a"
      },
      "source": [
        "spam = int(input())\n",
        "\n",
        "if spam==1:\n",
        "    print(\"Hello\")\n",
        "elif spam==2:\n",
        "    print(\"Howdy\")\n",
        "else:\n",
        "    print(\"Greetings!\")"
      ],
      "execution_count": null,
      "outputs": [
        {
          "name": "stdout",
          "output_type": "stream",
          "text": [
            "2\n",
            "Howdy\n"
          ]
        }
      ]
    },
    {
      "cell_type": "code",
      "metadata": {
        "id": "PXCGKuL05Q92",
        "outputId": "e6a5871a-d773-4e7c-b268-c7384427cefa"
      },
      "source": [
        "spam = int(input())\n",
        "\n",
        "if spam==1:\n",
        "    print(\"Hello\")\n",
        "elif spam==2:\n",
        "    print(\"Howdy\")\n",
        "else:\n",
        "    print(\"Greetings!\")"
      ],
      "execution_count": null,
      "outputs": [
        {
          "name": "stdout",
          "output_type": "stream",
          "text": [
            "5\n",
            "Greetings!\n"
          ]
        }
      ]
    },
    {
      "cell_type": "markdown",
      "metadata": {
        "id": "fpB0zzc85Q92"
      },
      "source": [
        "### 9.If your programme is stuck in an endless loop, what keys you’ll press?"
      ]
    },
    {
      "cell_type": "code",
      "metadata": {
        "id": "8UQ11Czn5Q92"
      },
      "source": [
        "In case of jupyter we can stop kernal.\n",
        "In case of command line prompt press Ctrl+C"
      ],
      "execution_count": null,
      "outputs": []
    },
    {
      "cell_type": "markdown",
      "metadata": {
        "id": "fvESi_2O5Q93"
      },
      "source": [
        "### 10. How can you tell the difference between break and continue?"
      ]
    },
    {
      "cell_type": "code",
      "metadata": {
        "id": "DxjS0eAo5Q93",
        "outputId": "c8fe1459-09fc-4360-c56c-16aaf66541c7"
      },
      "source": [
        "#example of break:\n",
        "for i in range(10):\n",
        "    if i==5:\n",
        "        break\n",
        "    print(i)"
      ],
      "execution_count": null,
      "outputs": [
        {
          "name": "stdout",
          "output_type": "stream",
          "text": [
            "0\n",
            "1\n",
            "2\n",
            "3\n",
            "4\n"
          ]
        }
      ]
    },
    {
      "cell_type": "code",
      "metadata": {
        "id": "342eYyZ45Q93",
        "outputId": "4228d282-42cf-4b46-d48b-191e58f844f8"
      },
      "source": [
        "l = [10,20,30,40,50]\n",
        "for i in l:\n",
        "    if i==30:\n",
        "        continue\n",
        "    print(i)"
      ],
      "execution_count": null,
      "outputs": [
        {
          "name": "stdout",
          "output_type": "stream",
          "text": [
            "10\n",
            "20\n",
            "40\n",
            "50\n"
          ]
        }
      ]
    },
    {
      "cell_type": "markdown",
      "metadata": {
        "id": "s1L0kigi5Q94"
      },
      "source": [
        "### 11. In a for loop, what is the difference between range(10), range(0, 10), and range(0, 10, 1)?"
      ]
    },
    {
      "cell_type": "code",
      "metadata": {
        "id": "rCXitk_m5Q94"
      },
      "source": [
        "both range(10) and range(0,10) are same because the both give numbers from 0 to 9.\n",
        "also in case of range(0,10,1) give same output starting from 0 with increment of 1 \n",
        "upto 9"
      ],
      "execution_count": null,
      "outputs": []
    },
    {
      "cell_type": "markdown",
      "metadata": {
        "id": "ElF7Oqr85Q94"
      },
      "source": [
        "### 12. Write a short program that prints the numbers 1 to 10 using a for loop. Then write an equivalent\n",
        "### program that prints the numbers 1 to 10 using a while loop."
      ]
    },
    {
      "cell_type": "code",
      "metadata": {
        "id": "R-xUimnG5Q94",
        "outputId": "fa305bc2-9df7-4e05-c028-55c20035f40a"
      },
      "source": [
        "#for loop:\n",
        "\n",
        "for i in range(1,11):\n",
        "    print(i)"
      ],
      "execution_count": null,
      "outputs": [
        {
          "name": "stdout",
          "output_type": "stream",
          "text": [
            "1\n",
            "2\n",
            "3\n",
            "4\n",
            "5\n",
            "6\n",
            "7\n",
            "8\n",
            "9\n",
            "10\n"
          ]
        }
      ]
    },
    {
      "cell_type": "code",
      "metadata": {
        "id": "pgsPjrmR5Q94",
        "outputId": "57786115-e61d-42e7-eb2b-6e601dc4b98c"
      },
      "source": [
        "#while loop:\n",
        "i = 1\n",
        "while i>0 and i<=10:\n",
        "    print(i)\n",
        "    i = i+1"
      ],
      "execution_count": null,
      "outputs": [
        {
          "name": "stdout",
          "output_type": "stream",
          "text": [
            "1\n",
            "2\n",
            "3\n",
            "4\n",
            "5\n",
            "6\n",
            "7\n",
            "8\n",
            "9\n",
            "10\n"
          ]
        }
      ]
    },
    {
      "cell_type": "markdown",
      "metadata": {
        "id": "7OpTrtUW5Q95"
      },
      "source": [
        "### 13. If you had a function named bacon() inside a module named spam, how would you call it after\n",
        "###        importing spam?"
      ]
    },
    {
      "cell_type": "code",
      "metadata": {
        "id": "WaVFqi7L5Q95"
      },
      "source": [
        "from spam import bacon\n",
        "\n",
        "or\n",
        "\n",
        "spam.bacon()"
      ],
      "execution_count": null,
      "outputs": []
    }
  ]
}