{
  "nbformat": 4,
  "nbformat_minor": 5,
  "metadata": {
    "kernelspec": {
      "display_name": "Python 3",
      "language": "python",
      "name": "python3"
    },
    "language_info": {
      "codemirror_mode": {
        "name": "ipython",
        "version": 3
      },
      "file_extension": ".py",
      "mimetype": "text/x-python",
      "name": "python",
      "nbconvert_exporter": "python",
      "pygments_lexer": "ipython3",
      "version": "3.8.5"
    },
    "colab": {
      "name": "Programming Assignment_17.ipynb",
      "provenance": []
    }
  },
  "cells": [
    {
      "cell_type": "markdown",
      "metadata": {
        "id": "86a0e148"
      },
      "source": [
        "### Question1. Create a function that takes three arguments a, b, c and returns the sum of the numbers that are evenly divided by c from the range a, b inclusive.\n",
        "#### Examples\n",
        "#### evenly_divisible(1, 10, 20) ➞ 0\n",
        "#### # No number between 1 and 10 can be evenly divided by 20.\n",
        "#### evenly_divisible(1, 10, 2) ➞ 30\n",
        "#### # 2 + 4 + 6 + 8 + 10 = 30\n",
        "#### evenly_divisible(1, 10, 3) ➞ 18\n",
        "#### # 3 + 6 + 9 = 18"
      ],
      "id": "86a0e148"
    },
    {
      "cell_type": "code",
      "metadata": {
        "id": "e1b17ba7"
      },
      "source": [
        "def evenly_divisible(a,b,c):\n",
        "    sum = 0\n",
        "    for i in range(a-1,b+1,c):\n",
        "        sum = sum+i\n",
        "    if sum%c==0:\n",
        "        print(\"--> \",sum)\n",
        "    else:\n",
        "        print(\"--> 0\")"
      ],
      "id": "e1b17ba7",
      "execution_count": null,
      "outputs": []
    },
    {
      "cell_type": "code",
      "metadata": {
        "id": "056b292a",
        "outputId": "e12496f1-3c1b-47ef-f727-488f93b9bec4"
      },
      "source": [
        "evenly_divisible(1, 10, 20)"
      ],
      "id": "056b292a",
      "execution_count": null,
      "outputs": [
        {
          "name": "stdout",
          "output_type": "stream",
          "text": [
            "-->  0\n"
          ]
        }
      ]
    },
    {
      "cell_type": "code",
      "metadata": {
        "id": "9ed0f01b",
        "outputId": "1b226848-391d-40d7-f161-9c715f833fbe"
      },
      "source": [
        "evenly_divisible(1, 10, 2)"
      ],
      "id": "9ed0f01b",
      "execution_count": null,
      "outputs": [
        {
          "name": "stdout",
          "output_type": "stream",
          "text": [
            "-->  30\n"
          ]
        }
      ]
    },
    {
      "cell_type": "code",
      "metadata": {
        "id": "e705a542",
        "outputId": "5602cdd0-85c1-4cad-d27b-8554f5396267"
      },
      "source": [
        "evenly_divisible(1, 10, 3)"
      ],
      "id": "e705a542",
      "execution_count": null,
      "outputs": [
        {
          "name": "stdout",
          "output_type": "stream",
          "text": [
            "-->  18\n"
          ]
        }
      ]
    },
    {
      "cell_type": "markdown",
      "metadata": {
        "id": "f8fb16d0"
      },
      "source": [
        "### Question2. Create a function that returns True if a given inequality expression is correct and False otherwise.\n",
        "### Examples\n",
        "#### correct_signs(&quot;3 &lt; 7 &lt; 11&quot;) ➞ True\n",
        "#### correct_signs(&quot;13 &gt; 44 &gt; 33 &gt; 1&quot;) ➞ False\n",
        "#### correct_signs(&quot;1 &lt; 2 &lt; 6 &lt; 9 &gt; 3&quot;) ➞ True"
      ],
      "id": "f8fb16d0"
    },
    {
      "cell_type": "code",
      "metadata": {
        "id": "96aa6ccb"
      },
      "source": [
        "def correct_signs(inequality):\n",
        "    return eval(inequality)"
      ],
      "id": "96aa6ccb",
      "execution_count": null,
      "outputs": []
    },
    {
      "cell_type": "code",
      "metadata": {
        "id": "cfdcb8ef",
        "outputId": "0d5450b4-5408-494b-f96c-7c46c4560c3f"
      },
      "source": [
        "correct_signs(\"3<6<11\")"
      ],
      "id": "cfdcb8ef",
      "execution_count": null,
      "outputs": [
        {
          "data": {
            "text/plain": [
              "True"
            ]
          },
          "execution_count": 26,
          "metadata": {},
          "output_type": "execute_result"
        }
      ]
    },
    {
      "cell_type": "code",
      "metadata": {
        "id": "53738f7b",
        "outputId": "54b2df40-67a7-4c56-d533-ef2e9233f30c"
      },
      "source": [
        "correct_signs(\"13 > 44 > 33 > 1\")"
      ],
      "id": "53738f7b",
      "execution_count": null,
      "outputs": [
        {
          "data": {
            "text/plain": [
              "False"
            ]
          },
          "execution_count": 27,
          "metadata": {},
          "output_type": "execute_result"
        }
      ]
    },
    {
      "cell_type": "code",
      "metadata": {
        "id": "b6bf4453",
        "outputId": "22ea2e21-503d-4f7f-996b-589f8efd19f5"
      },
      "source": [
        "correct_signs(\"1 < 2 < 6 < 9 > 3\")"
      ],
      "id": "b6bf4453",
      "execution_count": null,
      "outputs": [
        {
          "data": {
            "text/plain": [
              "True"
            ]
          },
          "execution_count": 28,
          "metadata": {},
          "output_type": "execute_result"
        }
      ]
    },
    {
      "cell_type": "markdown",
      "metadata": {
        "id": "130b5392"
      },
      "source": [
        "### Question3. Create a function that replaces all the vowels in a string with a specified character.\n",
        "#### Examples\n",
        "#### replace_vowels(&quot;the aardvark&quot;, &quot;#&quot;) ➞ &quot;th# ##rdv#rk&quot;\n",
        "#### replace_vowels(&quot;minnie mouse&quot;, &quot;?&quot;) ➞ &quot;m?nn?? m??s?&quot;\n",
        "#### replace_vowels(&quot;shakespeare&quot;, &quot;*&quot;) ➞ &quot;sh*k*sp**r*&quot;"
      ],
      "id": "130b5392"
    },
    {
      "cell_type": "code",
      "metadata": {
        "id": "70d2ef87"
      },
      "source": [
        "def replace_vowels(string, spl_char):\n",
        "    vowels = 'aeiouAEIOU'\n",
        "    for i in vowels:\n",
        "        string = string.replace(i,spl_char)\n",
        "    return string"
      ],
      "id": "70d2ef87",
      "execution_count": null,
      "outputs": []
    },
    {
      "cell_type": "code",
      "metadata": {
        "id": "646e99b9",
        "outputId": "7d23940b-5bfc-4e82-b741-59a5ded5c60a"
      },
      "source": [
        "replace_vowels(\"the aardvark\", \"#\")"
      ],
      "id": "646e99b9",
      "execution_count": null,
      "outputs": [
        {
          "data": {
            "text/plain": [
              "'th# ##rdv#rk'"
            ]
          },
          "execution_count": 33,
          "metadata": {},
          "output_type": "execute_result"
        }
      ]
    },
    {
      "cell_type": "code",
      "metadata": {
        "id": "8c73e2be",
        "outputId": "9289e2de-16a6-4966-8f5a-34d37a075f47"
      },
      "source": [
        "replace_vowels(\"minnie mouse\", \"?\")"
      ],
      "id": "8c73e2be",
      "execution_count": null,
      "outputs": [
        {
          "data": {
            "text/plain": [
              "'m?nn?? m??s?'"
            ]
          },
          "execution_count": 34,
          "metadata": {},
          "output_type": "execute_result"
        }
      ]
    },
    {
      "cell_type": "code",
      "metadata": {
        "id": "f59ff1c6",
        "outputId": "694f21c3-7609-4dc3-d86e-a3857d38d14f"
      },
      "source": [
        "replace_vowels(\"shakespeare\", \"\")"
      ],
      "id": "f59ff1c6",
      "execution_count": null,
      "outputs": [
        {
          "data": {
            "text/plain": [
              "'shkspr'"
            ]
          },
          "execution_count": 35,
          "metadata": {},
          "output_type": "execute_result"
        }
      ]
    },
    {
      "cell_type": "markdown",
      "metadata": {
        "id": "ab7c3c6b"
      },
      "source": [
        "### Question4. Write a function that calculates the factorial of a number recursively.\n",
        "#### Examples\n",
        "#### factorial(5) ➞ 120\n",
        "#### factorial(3) ➞ 6\n",
        "#### factorial(1) ➞ 1\n",
        "#### factorial(0) ➞ 1"
      ],
      "id": "ab7c3c6b"
    },
    {
      "cell_type": "code",
      "metadata": {
        "id": "2cec4e81"
      },
      "source": [
        "def factorial(n):\n",
        "    if n==0:\n",
        "        return 1\n",
        "    return n * factorial(n-1)"
      ],
      "id": "2cec4e81",
      "execution_count": null,
      "outputs": []
    },
    {
      "cell_type": "code",
      "metadata": {
        "id": "1997ee47",
        "outputId": "ce1efeb2-56cb-4c20-8b47-c0e52b45aeb7"
      },
      "source": [
        "factorial(5)"
      ],
      "id": "1997ee47",
      "execution_count": null,
      "outputs": [
        {
          "data": {
            "text/plain": [
              "120"
            ]
          },
          "execution_count": 42,
          "metadata": {},
          "output_type": "execute_result"
        }
      ]
    },
    {
      "cell_type": "code",
      "metadata": {
        "id": "7be27fd4",
        "outputId": "28b808a2-8340-4a28-9f01-dce3163455c4"
      },
      "source": [
        "factorial(3)"
      ],
      "id": "7be27fd4",
      "execution_count": null,
      "outputs": [
        {
          "data": {
            "text/plain": [
              "6"
            ]
          },
          "execution_count": 43,
          "metadata": {},
          "output_type": "execute_result"
        }
      ]
    },
    {
      "cell_type": "code",
      "metadata": {
        "id": "2c83f0c4",
        "outputId": "d5c30c10-7268-46be-bcca-0e06d50df0f0"
      },
      "source": [
        "factorial(1)"
      ],
      "id": "2c83f0c4",
      "execution_count": null,
      "outputs": [
        {
          "data": {
            "text/plain": [
              "1"
            ]
          },
          "execution_count": 44,
          "metadata": {},
          "output_type": "execute_result"
        }
      ]
    },
    {
      "cell_type": "code",
      "metadata": {
        "id": "58514f1f",
        "outputId": "418b04bb-6c88-4d54-efe8-0f5109ce9574"
      },
      "source": [
        "factorial(0)"
      ],
      "id": "58514f1f",
      "execution_count": null,
      "outputs": [
        {
          "data": {
            "text/plain": [
              "1"
            ]
          },
          "execution_count": 45,
          "metadata": {},
          "output_type": "execute_result"
        }
      ]
    },
    {
      "cell_type": "markdown",
      "metadata": {
        "id": "7322ad72"
      },
      "source": [
        "### Question 5 Hamming distance is the number of characters that differ between two strings. \n",
        "#### To illustrate:\n",
        "#### String1: &quot;abcbba&quot;\n",
        "#### String2: &quot;abcbda&quot;\n",
        "#### Hamming Distance: 1 - &quot;b&quot; vs. &quot;d&quot; is the only difference.\n",
        "#### Create a function that computes the hamming distance between two strings.\n",
        "#### Examples\n",
        "#### hamming_distance(&quot;abcde&quot;, &quot;bcdef&quot;) ➞ 5\n",
        "#### hamming_distance(&quot;abcde&quot;, &quot;abcde&quot;) ➞ 0\n",
        "#### hamming_distance(&quot;strong&quot;, &quot;strung&quot;) ➞ 1"
      ],
      "id": "7322ad72"
    },
    {
      "cell_type": "code",
      "metadata": {
        "id": "fdb36145"
      },
      "source": [
        "def hamming_distance(string1, string2):\n",
        "    count = 0\n",
        "    i = 0\n",
        "    while i<len(string1):\n",
        "        if string1[i]!=string2[i]:\n",
        "            count = count+1\n",
        "        i = i+1\n",
        "    return count\n",
        "    "
      ],
      "id": "fdb36145",
      "execution_count": null,
      "outputs": []
    },
    {
      "cell_type": "code",
      "metadata": {
        "id": "96bce5ef",
        "outputId": "43c7cc00-e94e-49de-d43b-0f14c05cfa67"
      },
      "source": [
        "hamming_distance(\"abcde\", \"bcdef\")"
      ],
      "id": "96bce5ef",
      "execution_count": null,
      "outputs": [
        {
          "data": {
            "text/plain": [
              "5"
            ]
          },
          "execution_count": 47,
          "metadata": {},
          "output_type": "execute_result"
        }
      ]
    },
    {
      "cell_type": "code",
      "metadata": {
        "id": "c409d977",
        "outputId": "5102d9ce-3903-418f-ad58-e1576d800d83"
      },
      "source": [
        "hamming_distance(\"abcde\", \"abcde\")"
      ],
      "id": "c409d977",
      "execution_count": null,
      "outputs": [
        {
          "data": {
            "text/plain": [
              "0"
            ]
          },
          "execution_count": 48,
          "metadata": {},
          "output_type": "execute_result"
        }
      ]
    },
    {
      "cell_type": "code",
      "metadata": {
        "id": "08ac7271",
        "outputId": "077a0301-fb34-459f-93a7-0727b421c00f"
      },
      "source": [
        "hamming_distance(\"strong\", \"strung\")"
      ],
      "id": "08ac7271",
      "execution_count": null,
      "outputs": [
        {
          "data": {
            "text/plain": [
              "1"
            ]
          },
          "execution_count": 49,
          "metadata": {},
          "output_type": "execute_result"
        }
      ]
    }
  ]
}