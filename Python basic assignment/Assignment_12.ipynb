{
  "nbformat": 4,
  "nbformat_minor": 5,
  "metadata": {
    "kernelspec": {
      "display_name": "Python 3",
      "language": "python",
      "name": "python3"
    },
    "language_info": {
      "codemirror_mode": {
        "name": "ipython",
        "version": 3
      },
      "file_extension": ".py",
      "mimetype": "text/x-python",
      "name": "python",
      "nbconvert_exporter": "python",
      "pygments_lexer": "ipython3",
      "version": "3.8.5"
    },
    "colab": {
      "name": "Assignment_12.ipynb",
      "provenance": []
    }
  },
  "cells": [
    {
      "cell_type": "markdown",
      "metadata": {
        "id": "8511c88d"
      },
      "source": [
        "### 1. In what modes should the PdfFileReader() and PdfFileWriter() File objects will be opened?"
      ],
      "id": "8511c88d"
    },
    {
      "cell_type": "code",
      "metadata": {
        "id": "6b2f7d9b"
      },
      "source": [
        "import PyPDF2"
      ],
      "id": "6b2f7d9b",
      "execution_count": null,
      "outputs": []
    },
    {
      "cell_type": "markdown",
      "metadata": {
        "id": "22237eb5"
      },
      "source": [
        "    PdfFileReader() -- it is used in 'rb' mode i.e. read binary\n",
        "    PdfFileWriter() -- it is used in 'wb' mode i.e. write binary"
      ],
      "id": "22237eb5"
    },
    {
      "cell_type": "markdown",
      "metadata": {
        "id": "02930420"
      },
      "source": [
        "### 2. From a PdfFileReader object, how do you get a Page object for page 5?"
      ],
      "id": "02930420"
    },
    {
      "cell_type": "markdown",
      "metadata": {
        "id": "b3be5548"
      },
      "source": [
        "    use getpage(5) method."
      ],
      "id": "b3be5548"
    },
    {
      "cell_type": "markdown",
      "metadata": {
        "id": "2e560d6a"
      },
      "source": [
        "### 3. What PdfFileReader variable stores the number of pages in the PDF document?"
      ],
      "id": "2e560d6a"
    },
    {
      "cell_type": "markdown",
      "metadata": {
        "id": "49af8ef7"
      },
      "source": [
        "    numPages stores the total no of pages in a pdf"
      ],
      "id": "49af8ef7"
    },
    {
      "cell_type": "markdown",
      "metadata": {
        "id": "d64738b9"
      },
      "source": [
        "### 4. If a PdfFileReader object’s PDF is encrypted with the password swordfish, what must you do before you can obtain Page objects from it?"
      ],
      "id": "d64738b9"
    },
    {
      "cell_type": "markdown",
      "metadata": {
        "id": "9d53104d"
      },
      "source": [
        "    step 1 - load pdf [ PyPDF2.PdfFileReader(open('encrypted.pdf', 'rb')) ]\n",
        "    step 2 - check weather it is encrypted [ pdf.isEncrypted ]\n",
        "    step 3 - if encrypted use [ pdf.decrypt('swordfish') ]"
      ],
      "id": "9d53104d"
    },
    {
      "cell_type": "markdown",
      "metadata": {
        "id": "8357fc78"
      },
      "source": [
        "### 5. What methods do you use to rotate a page?"
      ],
      "id": "8357fc78"
    },
    {
      "cell_type": "markdown",
      "metadata": {
        "id": "24cbee53"
      },
      "source": [
        "    For anticlockwise: rotateCounterClockwise() \n",
        "    for clockwise    : rotateClockwise()"
      ],
      "id": "24cbee53"
    },
    {
      "cell_type": "markdown",
      "metadata": {
        "id": "43695954"
      },
      "source": [
        "### 6. What is the difference between a Run object and a Paragraph object?"
      ],
      "id": "43695954"
    },
    {
      "cell_type": "markdown",
      "metadata": {
        "id": "52fdc478"
      },
      "source": [
        "    Word document contain formatted text wrapped within three object levels:\n",
        "        lowest level: run objects.\n",
        "        middle level: paragraph objects.\n",
        "        highest level: document object.\n",
        "        \n",
        "    Run Object is used for inline content, text, pictures and other items within a paragraph. "
      ],
      "id": "52fdc478"
    },
    {
      "cell_type": "markdown",
      "metadata": {
        "id": "902a219b"
      },
      "source": [
        "### 7. How do you obtain a list of Paragraph objects for a Document object that’s stored in a variable named doc? "
      ],
      "id": "902a219b"
    },
    {
      "cell_type": "code",
      "metadata": {
        "id": "94b0d5ae",
        "outputId": "f0cab6ba-dd6f-4f52-bc25-be11aa3a2f32"
      },
      "source": [
        "pip install python-docx"
      ],
      "id": "94b0d5ae",
      "execution_count": null,
      "outputs": [
        {
          "name": "stdout",
          "output_type": "stream",
          "text": [
            "Collecting python-docx\n",
            "  Downloading python-docx-0.8.10.tar.gz (5.5 MB)\n",
            "Requirement already satisfied: lxml>=2.3.2 in d:\\anaconda3\\lib\\site-packages (from python-docx) (4.6.3)\n",
            "Building wheels for collected packages: python-docx\n",
            "  Building wheel for python-docx (setup.py): started\n",
            "  Building wheel for python-docx (setup.py): finished with status 'done'\n",
            "  Created wheel for python-docx: filename=python_docx-0.8.10-py3-none-any.whl size=184489 sha256=f85bef15e1fe4f86cc80c013d5f49090e63407162096f2c50fe66f7f820b8cf6\n",
            "  Stored in directory: c:\\users\\rushikesh pokale\\appdata\\local\\pip\\cache\\wheels\\97\\4c\\2e\\68066cbf12b9b2e66403da8982aaf4f656d9f5cb5dc3179e82\n",
            "Successfully built python-docx\n",
            "Installing collected packages: python-docx\n",
            "Successfully installed python-docx-0.8.10\n",
            "Note: you may need to restart the kernel to use updated packages.\n"
          ]
        }
      ]
    },
    {
      "cell_type": "code",
      "metadata": {
        "id": "d34f2357"
      },
      "source": [
        "import docx"
      ],
      "id": "d34f2357",
      "execution_count": null,
      "outputs": []
    },
    {
      "cell_type": "code",
      "metadata": {
        "id": "727c7baf",
        "outputId": "434b683d-1d4d-4d37-f572-ff4d5d400b91"
      },
      "source": [
        "d = docx.Document('trial.docx')\n",
        "len(d.paragraphs)"
      ],
      "id": "727c7baf",
      "execution_count": null,
      "outputs": [
        {
          "data": {
            "text/plain": [
              "6"
            ]
          },
          "execution_count": 4,
          "metadata": {},
          "output_type": "execute_result"
        }
      ]
    },
    {
      "cell_type": "markdown",
      "metadata": {
        "id": "c034c4a4"
      },
      "source": [
        "### 8. What type of object has bold, underline, italic, strike, and outline variables?"
      ],
      "id": "c034c4a4"
    },
    {
      "cell_type": "markdown",
      "metadata": {
        "id": "a6a0889b"
      },
      "source": [
        "    Run object"
      ],
      "id": "a6a0889b"
    },
    {
      "cell_type": "markdown",
      "metadata": {
        "id": "973aec83"
      },
      "source": [
        "### 9. What is the difference between False, True, and None for the bold variable?"
      ],
      "id": "973aec83"
    },
    {
      "cell_type": "markdown",
      "metadata": {
        "id": "553710ce"
      },
      "source": [
        "    True = on\n",
        "    False = off\n",
        "    none = not available"
      ],
      "id": "553710ce"
    },
    {
      "cell_type": "markdown",
      "metadata": {
        "id": "d305620b"
      },
      "source": [
        "### 10. How do you create a Document object for a new Word document?"
      ],
      "id": "d305620b"
    },
    {
      "cell_type": "code",
      "metadata": {
        "id": "c6d0bf00"
      },
      "source": [
        "doc = docx.Document()\n",
        "doc.add_paragraph('world')\n",
        "doc.save('hello.docx')"
      ],
      "id": "c6d0bf00",
      "execution_count": null,
      "outputs": []
    },
    {
      "cell_type": "markdown",
      "metadata": {
        "id": "5b82b6c5"
      },
      "source": [
        "### 11. How do you add a paragraph with the text &#39;Hello, there!&#39; to a Document object stored in a variable named doc?"
      ],
      "id": "5b82b6c5"
    },
    {
      "cell_type": "code",
      "metadata": {
        "id": "e24339d8"
      },
      "source": [
        "doc = docx.Document()\n",
        "doc.add_paragraph('Hello,there!')\n",
        "doc.save('hellothere.docx')"
      ],
      "id": "e24339d8",
      "execution_count": null,
      "outputs": []
    },
    {
      "cell_type": "markdown",
      "metadata": {
        "id": "b947e872"
      },
      "source": [
        "### 12. What integers represent the levels of headings available in Word documents?"
      ],
      "id": "b947e872"
    },
    {
      "cell_type": "markdown",
      "metadata": {
        "id": "98155ea9"
      },
      "source": [
        "    integers 1 to 4 are for various heading levels where 1 is main heading and 4 the lowest subheading."
      ],
      "id": "98155ea9"
    }
  ]
}