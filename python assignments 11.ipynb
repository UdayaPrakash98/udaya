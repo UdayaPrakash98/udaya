{
 "cells": [
  {
   "cell_type": "code",
   "execution_count": 8,
   "id": "881e187b",
   "metadata": {},
   "outputs": [
    {
     "name": "stdout",
     "output_type": "stream",
     "text": [
      "['this', 'sadesst', 'news', 'from', 'Afghan']\n"
     ]
    }
   ],
   "source": [
    "#1.Write a Python program to find words which are greater than given length k?\n",
    "def string_k(k, str):\n",
    "    string = []\n",
    "    text = str.split(\" \")\n",
    "    for x in text:\n",
    "        if len(x) > k:\n",
    "            string.append(x)\n",
    "    return string \n",
    "k = 3\n",
    "str =\"this is sadesst news from sad Afghan\"\n",
    "print(string_k(k, str))"
   ]
  },
  {
   "cell_type": "code",
   "execution_count": 18,
   "id": "83744d2f",
   "metadata": {},
   "outputs": [
    {
     "name": "stdout",
     "output_type": "stream",
     "text": [
      "The original string is : pywhatkitt for sending my msg\n",
      "The string after removal of i'th character : pywatkitt for sending my msg\n"
     ]
    }
   ],
   "source": [
    "test_str = \"pywhatkitt for sending my msg\"\n",
    "print (\"The original string is : \" + test_str)\n",
    "new_str = \"\"\n",
    "  \n",
    "for i in range(len(test_str)):\n",
    "    if i != 3:\n",
    "        new_str = new_str + test_str[i]\n",
    "    \n",
    "print (\"The string after removal of i'th character : \" + new_str)"
   ]
  },
  {
   "cell_type": "code",
   "execution_count": 24,
   "id": "6b879f23",
   "metadata": {},
   "outputs": [
    {
     "name": "stdout",
     "output_type": "stream",
     "text": [
      "Enter first String with space :: hi this is uday\n",
      "['hi', 'this', 'is', 'uday']\n",
      "Enter second String with (,) :: hi,thus proved afghan is taliban control now\n",
      "['hi', 'thus proved afghan is taliban control now']\n",
      "Enter third String with (:) :: uday:violet\n",
      "['uday', 'violet']\n",
      "Enter fourth String with (;) :: uday you are good;but bad as hell too\n",
      "['uday you are good', 'but bad as hell too']\n",
      "Enter fifth String without space :: thisisnotgoingwell\n",
      "['thisi', 'hisis', 'isisn', 'sisno', 'isnot', 'snotg', 'notgo', 'otgoi', 'tgoin', 'going', 'oingw', 'ingwe', 'ngwel', 'gwell', 'well', 'ell', 'll', 'l']\n"
     ]
    }
   ],
   "source": [
    "#split of string\n",
    "str1=input(\"Enter first String with space :: \")\n",
    "print(str1.split()) \n",
    "str2=input(\"Enter second String with (,) :: \")\n",
    "print(str2.split(','))\n",
    "str3=input(\"Enter third String with (:) :: \")\n",
    "print(str3.split(':')) \n",
    "str4=input(\"Enter fourth String with (;) :: \")\n",
    "print(str4.split(';'))  \n",
    "str5=input(\"Enter fifth String without space :: \")\n",
    "print([str5[i:i+5]for i in range(0,len(str5),1)])  "
   ]
  },
  {
   "cell_type": "code",
   "execution_count": 32,
   "id": "5e4bf3ce",
   "metadata": {},
   "outputs": [
    {
     "name": "stdout",
     "output_type": "stream",
     "text": [
      "StringA is a binary string.\n",
      "StringB is not a binary string.\n"
     ]
    }
   ],
   "source": [
    "#Write a Python to check if a given string is binary string or not?\n",
    "strA = '0110101010101'\n",
    "b = {'0','1'}\n",
    "t = set(stringA)\n",
    "\n",
    "if b == t or t == {'0'} or t == {'1'}:\n",
    "    print(\"StringA is a binary string.\")\n",
    "else:\n",
    "    print(\"StringA is not a binary string.\")\n",
    "\n",
    "strB= '0101301010111'\n",
    "u = set(stringB)\n",
    "\n",
    "if b == u or u == {'0'} or u == {'1'}:\n",
    "     print(\"StringB is a binary string.\")\n",
    "else:\n",
    "    print(\"StringB is not a binary string.\")"
   ]
  },
  {
   "cell_type": "code",
   "execution_count": 36,
   "id": "cc8dff85",
   "metadata": {},
   "outputs": [
    {
     "name": "stdout",
     "output_type": "stream",
     "text": [
      "Enter first string : this is good\n",
      "Enter second string : welcome home\n",
      "Uncommon words are : ['home', 'good', 'is', 'this', 'welcome']\n"
     ]
    }
   ],
   "source": [
    "#Write a Python program to find uncommon words from two Strings?\n",
    "def uncomn_wrd(x,y):\n",
    "    x = x.split()\n",
    "    y = y.split()\n",
    "    k = set(x).symmetric_difference(set(y))\n",
    "\n",
    "    return k\n",
    "str1 = input(\"Enter first string : \")\n",
    "\n",
    "str2 = input(\"Enter second string : \")\n",
    "\n",
    "print(\"Uncommon words are :\", list(uncomn_wrd(str1, str2)))"
   ]
  },
  {
   "cell_type": "code",
   "execution_count": 37,
   "id": "1dc7a8d8",
   "metadata": {},
   "outputs": [
    {
     "name": "stdout",
     "output_type": "stream",
     "text": [
      "enter the string whose duplicate characters :hi this is not we wanted\n",
      "the duplicate character in hi this is not we wanted is\n",
      "['h', 'i', ' ', 't', 's', 'n', 'w', 'e']\n"
     ]
    }
   ],
   "source": [
    "#Write a Python to find all duplicate characters in string?\n",
    "string = input(\"enter the string whose duplicate characters :\")\n",
    "def duplicates_char(s):\n",
    "    elements = {}\n",
    "    for char in s:\n",
    "        if elements.get(char,None) != None:\n",
    "            elements[char]+=1\n",
    "        else:\n",
    "            elements[char] = 1\n",
    "    return [k for k,v in elements.items() if v>1]\n",
    "print(\"the duplicate character in\",string,\"is\")\n",
    "print(duplicates_char(string))"
   ]
  },
  {
   "cell_type": "code",
   "execution_count": 52,
   "id": "17c2258a",
   "metadata": {},
   "outputs": [
    {
     "name": "stdout",
     "output_type": "stream",
     "text": [
      "string is not accepted\n"
     ]
    }
   ],
   "source": [
    "#Write a Python Program to check if a string contains any special character?\n",
    "import re #(regular expression)\n",
    "def s(st):\n",
    "    reg=re.compile('[@#$%^&!*(){}}{}\"\"]')\n",
    "    if (reg.search(st)== None):\n",
    "        print(\"string is accepted\")\n",
    "    else:\n",
    "        print(\"string is not accepted\")\n",
    "st=\"indian@#$army!\"\n",
    "s(st)"
   ]
  },
  {
   "cell_type": "code",
   "execution_count": null,
   "id": "04d53cb6",
   "metadata": {},
   "outputs": [],
   "source": []
  }
 ],
 "metadata": {
  "kernelspec": {
   "display_name": "Python 3",
   "language": "python",
   "name": "python3"
  },
  "language_info": {
   "codemirror_mode": {
    "name": "ipython",
    "version": 3
   },
   "file_extension": ".py",
   "mimetype": "text/x-python",
   "name": "python",
   "nbconvert_exporter": "python",
   "pygments_lexer": "ipython3",
   "version": "3.9.5"
  }
 },
 "nbformat": 4,
 "nbformat_minor": 5
}
