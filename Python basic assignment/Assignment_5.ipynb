{
  "nbformat": 4,
  "nbformat_minor": 0,
  "metadata": {
    "kernelspec": {
      "display_name": "Python 3",
      "language": "python",
      "name": "python3"
    },
    "language_info": {
      "codemirror_mode": {
        "name": "ipython",
        "version": 3
      },
      "file_extension": ".py",
      "mimetype": "text/x-python",
      "name": "python",
      "nbconvert_exporter": "python",
      "pygments_lexer": "ipython3",
      "version": "3.8.5"
    },
    "colab": {
      "name": "Assignment_5.ipynb",
      "provenance": []
    }
  },
  "cells": [
    {
      "cell_type": "markdown",
      "metadata": {
        "id": "Ij7aR7S155ww"
      },
      "source": [
        "### 1. What does an empty dictionary&#39;s code look like?"
      ]
    },
    {
      "cell_type": "code",
      "metadata": {
        "id": "vZGf28tL55w0"
      },
      "source": [
        "d = {}"
      ],
      "execution_count": null,
      "outputs": []
    },
    {
      "cell_type": "markdown",
      "metadata": {
        "id": "gDMaBma255w2"
      },
      "source": [
        "### 2. What is the value of a dictionary value with the key &#39;foo&#39; and the value 42?"
      ]
    },
    {
      "cell_type": "code",
      "metadata": {
        "id": "m7SZBGld55w3",
        "outputId": "d0c2093c-cabd-4b7e-cbec-d9bd1939c454"
      },
      "source": [
        "d = {'foo':42}\n",
        "d"
      ],
      "execution_count": null,
      "outputs": [
        {
          "data": {
            "text/plain": [
              "{'foo': 42}"
            ]
          },
          "execution_count": 3,
          "metadata": {},
          "output_type": "execute_result"
        }
      ]
    },
    {
      "cell_type": "code",
      "metadata": {
        "id": "8EfgWjZD55w5",
        "outputId": "93cf613b-7a6d-4f36-9438-604fc352f3fb"
      },
      "source": [
        "d.values()"
      ],
      "execution_count": null,
      "outputs": [
        {
          "data": {
            "text/plain": [
              "dict_values([42])"
            ]
          },
          "execution_count": 4,
          "metadata": {},
          "output_type": "execute_result"
        }
      ]
    },
    {
      "cell_type": "markdown",
      "metadata": {
        "id": "CyOPyq3n55w6"
      },
      "source": [
        "### 3. What is the most significant distinction between a dictionary and a list?"
      ]
    },
    {
      "cell_type": "markdown",
      "metadata": {
        "id": "BuicfDia55w7"
      },
      "source": [
        "dictionary has a key value pair as one entity whereas there are individual elements in list"
      ]
    },
    {
      "cell_type": "markdown",
      "metadata": {
        "id": "oHfoGZ9y55w9"
      },
      "source": [
        "### 4. What happens if you try to access spam[&#39;foo&#39;] if spam is {&#39;bar&#39;: 100}?"
      ]
    },
    {
      "cell_type": "code",
      "metadata": {
        "id": "ZEAzxXgf55w-",
        "outputId": "51f8cd7b-0341-4bd0-8851-03fc257a136d"
      },
      "source": [
        "spam = {'bar': 100}\n",
        "spam['foo']  #KeyError"
      ],
      "execution_count": null,
      "outputs": [
        {
          "ename": "KeyError",
          "evalue": "'foo'",
          "output_type": "error",
          "traceback": [
            "\u001b[1;31m---------------------------------------------------------------------------\u001b[0m",
            "\u001b[1;31mKeyError\u001b[0m                                  Traceback (most recent call last)",
            "\u001b[1;32m<ipython-input-8-0a5e91516b4a>\u001b[0m in \u001b[0;36m<module>\u001b[1;34m\u001b[0m\n\u001b[0;32m      1\u001b[0m \u001b[0mspam\u001b[0m \u001b[1;33m=\u001b[0m \u001b[1;33m{\u001b[0m\u001b[1;34m'bar'\u001b[0m\u001b[1;33m:\u001b[0m \u001b[1;36m100\u001b[0m\u001b[1;33m}\u001b[0m\u001b[1;33m\u001b[0m\u001b[1;33m\u001b[0m\u001b[0m\n\u001b[1;32m----> 2\u001b[1;33m \u001b[0mspam\u001b[0m\u001b[1;33m[\u001b[0m\u001b[1;34m'foo'\u001b[0m\u001b[1;33m]\u001b[0m  \u001b[1;31m#KeyError\u001b[0m\u001b[1;33m\u001b[0m\u001b[1;33m\u001b[0m\u001b[0m\n\u001b[0m",
            "\u001b[1;31mKeyError\u001b[0m: 'foo'"
          ]
        }
      ]
    },
    {
      "cell_type": "markdown",
      "metadata": {
        "id": "Ib_kwFIg55xA"
      },
      "source": [
        "### 5. If a dictionary is stored in spam, what is the difference between the expressions &#39;cat&#39; in spam and &#39;cat&#39; in spam.keys()?"
      ]
    },
    {
      "cell_type": "markdown",
      "metadata": {
        "id": "46_aEOdv55xB"
      },
      "source": [
        "it checks weather 'cat' is present in dictionary as a key."
      ]
    },
    {
      "cell_type": "markdown",
      "metadata": {
        "id": "W6DoI-kY55xC"
      },
      "source": [
        "### 6. If a dictionary is stored in spam, what is the difference between the expressions &#39;cat&#39; in spam and &#39;cat&#39; in spam.values()?"
      ]
    },
    {
      "cell_type": "markdown",
      "metadata": {
        "id": "e3lB540Z55xD"
      },
      "source": [
        "it checks weather 'cat' is present in dictionary as a value"
      ]
    },
    {
      "cell_type": "markdown",
      "metadata": {
        "id": "iJObk1td55xD"
      },
      "source": [
        "### 7. What is a shortcut for the following code?\n",
        "###    if &#39;color&#39; not in spam:\n",
        "###    spam[&#39;color&#39;] = &#39;black&#39;"
      ]
    },
    {
      "cell_type": "code",
      "metadata": {
        "id": "XXXhPdZJ55xE",
        "outputId": "13bb74cd-e3e0-42da-ae44-604f9f8c2c9e"
      },
      "source": [
        "spam.setdefault('color', 'black')"
      ],
      "execution_count": null,
      "outputs": [
        {
          "data": {
            "text/plain": [
              "'black'"
            ]
          },
          "execution_count": 7,
          "metadata": {},
          "output_type": "execute_result"
        }
      ]
    },
    {
      "cell_type": "markdown",
      "metadata": {
        "id": "ikr06PNs55xE"
      },
      "source": [
        "### 8. How do you &quot;pretty print&quot; dictionary values using which module and function?"
      ]
    },
    {
      "cell_type": "markdown",
      "metadata": {
        "id": "2qY0nMiq55xF"
      },
      "source": [
        "###### module = pprint\n",
        "###### function = pprint.pprint()"
      ]
    }
  ]
}