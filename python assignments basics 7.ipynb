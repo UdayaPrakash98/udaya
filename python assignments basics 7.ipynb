{
 "cells": [
  {
   "cell_type": "code",
   "execution_count": 3,
   "id": "3c3fde59",
   "metadata": {},
   "outputs": [
    {
     "name": "stdout",
     "output_type": "stream",
     "text": [
      "Sum of the array:  150\n"
     ]
    }
   ],
   "source": [
    "#Write a Python Program to find sum of array?\n",
    "arr = [10, 20, 30, 40, 50]\n",
    "print (\"Sum of the array: \",sum(arr))"
   ]
  },
  {
   "cell_type": "code",
   "execution_count": 2,
   "id": "60e4150e",
   "metadata": {},
   "outputs": [
    {
     "name": "stdout",
     "output_type": "stream",
     "text": [
      "Largest element in the given array is 56\n"
     ]
    }
   ],
   "source": [
    "#find largest element in array\n",
    "def l( arr, n):  \n",
    "    maxNum = arr[0] \n",
    "    for i in range(1,n):  \n",
    "        if arr[i] > maxNum:\n",
    "            maxNum = arr[i]\n",
    "    return maxNum\n",
    "\n",
    "\n",
    "arr = [10, 3, 45, 56, 5]  \n",
    "n = len(arr) \n",
    "le = l(arr, n)  \n",
    "print(\"Largest element in the given array is\",le)  "
   ]
  },
  {
   "cell_type": "code",
   "execution_count": null,
   "id": "3c312b32",
   "metadata": {},
   "outputs": [],
   "source": []
  },
  {
   "cell_type": "code",
   "execution_count": null,
   "id": "dc389908",
   "metadata": {},
   "outputs": [],
   "source": [
    "#Write a Python Program for array rotation?\n",
    "def rotateArray(arr, n, d):\n",
    "    temp = []\n",
    "    i = 0\n",
    "    while (i < d):\n",
    "        temp.append(arr[i])\n",
    "        i = i + 1\n",
    "    i = 0\n",
    "    while (d < n):\n",
    "        arr[i] = arr[d]\n",
    "        i = i + 1\n",
    "        d = d + 1\n",
    "    arr[:] = arr[: i] + temp\n",
    "    return arr\n",
    "\n",
    "\n",
    "arr = [1, 2, 3, 4, 5, 6, 7]\n",
    "print(\"Array after left rotation is: \", end=' ')\n",
    "print(rotateArray(arr, len(arr), 2))"
   ]
  },
  {
   "cell_type": "code",
   "execution_count": 1,
   "id": "d5e45356",
   "metadata": {},
   "outputs": [
    {
     "name": "stdout",
     "output_type": "stream",
     "text": [
      "5 6 52 36 12 10 "
     ]
    }
   ],
   "source": [
    "#splitting the array\n",
    "def splitArr(arr, n, k): \n",
    "    for i in range(0, k): \n",
    "        x = arr[0]\n",
    "        for j in range(0, n-1):\n",
    "            arr[j] = arr[j + 1]\n",
    "          \n",
    "        arr[n-1] = x\n",
    "          \n",
    "arr = [12, 10, 5, 6, 52, 36]\n",
    "n = len(arr)\n",
    "position = 2 \n",
    "splitArr(arr, n, position)\n",
    "  \n",
    "for i in range(0, n): \n",
    "    print(arr[i], end = ' ')"
   ]
  },
  {
   "cell_type": "code",
   "execution_count": 4,
   "id": "c8cfdd1d",
   "metadata": {},
   "outputs": [
    {
     "name": "stdout",
     "output_type": "stream",
     "text": [
      "input size of the array :2\n",
      "input value for position 0 : 1\n",
      "input value for position 1 : 5\n",
      "Input array is Monotonic increasing\n"
     ]
    }
   ],
   "source": [
    "#checking whether array is monotomic\n",
    "list_array = list()\n",
    "def is_Monotonic(A):\n",
    "    if all(A[i] <= A[i+1] for i in range (len(A)-1)):\n",
    "        return \"Monotonic increasing\"\n",
    "    elif all(A[i] >= A[i+1] for i in range (len(A)-1)):\n",
    "        return \"Monotonic decreasing\"\n",
    "    return \"not Monotonic array\"\n",
    "n = int(input(\"input size of the array :\"))\n",
    "for i in range(n):\n",
    "    s=int(input(\"input value for position {} : \".format(i)))\n",
    "    list_array.append(s)\n",
    "print(\"Input array is \"+is_Monotonic(list_array))"
   ]
  },
  {
   "cell_type": "code",
   "execution_count": null,
   "id": "a0947fbe",
   "metadata": {},
   "outputs": [],
   "source": []
  }
 ],
 "metadata": {
  "kernelspec": {
   "display_name": "Python 3",
   "language": "python",
   "name": "python3"
  },
  "language_info": {
   "codemirror_mode": {
    "name": "ipython",
    "version": 3
   },
   "file_extension": ".py",
   "mimetype": "text/x-python",
   "name": "python",
   "nbconvert_exporter": "python",
   "pygments_lexer": "ipython3",
   "version": "3.9.5"
  }
 },
 "nbformat": 4,
 "nbformat_minor": 5
}
