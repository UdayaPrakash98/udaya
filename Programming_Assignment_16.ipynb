{
  "nbformat": 4,
  "nbformat_minor": 5,
  "metadata": {
    "kernelspec": {
      "display_name": "Python 3",
      "language": "python",
      "name": "python3"
    },
    "language_info": {
      "codemirror_mode": {
        "name": "ipython",
        "version": 3
      },
      "file_extension": ".py",
      "mimetype": "text/x-python",
      "name": "python",
      "nbconvert_exporter": "python",
      "pygments_lexer": "ipython3",
      "version": "3.8.5"
    },
    "colab": {
      "name": "Programming Assignment_16.ipynb",
      "provenance": []
    }
  },
  "cells": [
    {
      "cell_type": "markdown",
      "metadata": {
        "id": "3d85cb17"
      },
      "source": [
        "### Question1. Write a function that stutters a word as if someone is struggling to read it. The first two letters are repeated twice with an ellipsis ... and space after each, and then the word is pronounced with a question mark ?.\n",
        "#### Examples\n",
        "#### stutter(&quot;incredible&quot;) ➞ &quot;in... in... incredible?&quot;\n",
        "#### stutter(&quot;enthusiastic&quot;) ➞ &quot;en... en... enthusiastic?&quot;\n",
        "#### stutter(&quot;outstanding&quot;) ➞ &quot;ou... ou... outstanding?&quot;\n",
        "#### \n",
        "#### Hint :- Assume all input is in lower case and at least two characters long."
      ],
      "id": "3d85cb17"
    },
    {
      "cell_type": "code",
      "metadata": {
        "id": "b370ec4c"
      },
      "source": [
        "def stutter(word):\n",
        "    print('->',(2*(word[:2]+'... '))+word+'?')"
      ],
      "id": "b370ec4c",
      "execution_count": null,
      "outputs": []
    },
    {
      "cell_type": "code",
      "metadata": {
        "id": "4f2d7553",
        "outputId": "ea3a42ce-7bcc-4424-adf0-b5fad89fa375"
      },
      "source": [
        "stutter(\"incredible\")\n",
        "stutter(\"enthusiastic\")\n",
        "stutter(\"outstanding\")"
      ],
      "id": "4f2d7553",
      "execution_count": null,
      "outputs": [
        {
          "name": "stdout",
          "output_type": "stream",
          "text": [
            "-> in... in... incredible?\n",
            "-> en... en... enthusiastic?\n",
            "-> ou... ou... outstanding?\n"
          ]
        }
      ]
    },
    {
      "cell_type": "markdown",
      "metadata": {
        "id": "f8191ddf"
      },
      "source": [
        "### Question 2.Create a function that takes an angle in radians and returns the corresponding angle in degrees rounded to one decimal place.\n",
        "#### Examples\n",
        "#### radians_to_degrees(1) ➞ 57.3\n",
        "#### radians_to_degrees(20) ➞ 1145.9\n",
        "#### radians_to_degrees(50) ➞ 2864.8"
      ],
      "id": "f8191ddf"
    },
    {
      "cell_type": "code",
      "metadata": {
        "id": "eb9374e5"
      },
      "source": [
        "def radians_to_degrees(n):\n",
        "    return n*180/3.14"
      ],
      "id": "eb9374e5",
      "execution_count": null,
      "outputs": []
    },
    {
      "cell_type": "code",
      "metadata": {
        "id": "03a77cbc",
        "outputId": "610cb950-af19-4f80-ded8-2961f3a9d5d9"
      },
      "source": [
        "radians_to_degrees(1)"
      ],
      "id": "03a77cbc",
      "execution_count": null,
      "outputs": [
        {
          "data": {
            "text/plain": [
              "57.324840764331206"
            ]
          },
          "execution_count": 20,
          "metadata": {},
          "output_type": "execute_result"
        }
      ]
    },
    {
      "cell_type": "code",
      "metadata": {
        "id": "4fa25929",
        "outputId": "7129e21c-ed0c-409d-8738-6d3c4140bd84"
      },
      "source": [
        "radians_to_degrees(20)"
      ],
      "id": "4fa25929",
      "execution_count": null,
      "outputs": [
        {
          "data": {
            "text/plain": [
              "1146.4968152866243"
            ]
          },
          "execution_count": 21,
          "metadata": {},
          "output_type": "execute_result"
        }
      ]
    },
    {
      "cell_type": "code",
      "metadata": {
        "id": "90cacce4",
        "outputId": "d3beec3b-1a21-4db8-bee7-861757502d25"
      },
      "source": [
        "radians_to_degrees(50)"
      ],
      "id": "90cacce4",
      "execution_count": null,
      "outputs": [
        {
          "data": {
            "text/plain": [
              "2866.2420382165606"
            ]
          },
          "execution_count": 22,
          "metadata": {},
          "output_type": "execute_result"
        }
      ]
    },
    {
      "cell_type": "markdown",
      "metadata": {
        "id": "9d66db28"
      },
      "source": [
        "### Question 3. In this challenge, establish if a given integer num is a Curzon number. If 1 plus 2 elevated to num is exactly divisible by 1 plus 2 multiplied by num, then num is a Curzon number. Given a non-negative integer num, implement a function that returns True if num is a Curzon number, or False otherwise.\n",
        "#### Examples\n",
        "#### is_curzon(5) ➞ True\n",
        "#### # 2 ** 5 + 1 = 33\n",
        "#### # 2 * 5 + 1 = 11\n",
        "#### # 33 is a multiple of 11\n",
        "#### is_curzon(10) ➞ False\n",
        "#### # 2 ** 10 + 1 = 1025\n",
        "#### # 2 * 10 + 1 = 21\n",
        "#### # 1025 is not a multiple of 21\n",
        "#### is_curzon(14) ➞ True\n",
        "#### # 2 ** 14 + 1 = 16385\n",
        "#### # 2 * 14 + 1 = 29\n",
        "#### # 16385 is a multiple of 29"
      ],
      "id": "9d66db28"
    },
    {
      "cell_type": "code",
      "metadata": {
        "id": "233c71b3"
      },
      "source": [
        "def is_curzon(n):\n",
        "    a = pow(2,n)+1\n",
        "    b = (2*n)+1\n",
        "    return a%b==0"
      ],
      "id": "233c71b3",
      "execution_count": null,
      "outputs": []
    },
    {
      "cell_type": "code",
      "metadata": {
        "id": "08211dd2",
        "outputId": "7d370740-e16b-472e-a9a2-f875fef47e25"
      },
      "source": [
        "is_curzon(5)"
      ],
      "id": "08211dd2",
      "execution_count": null,
      "outputs": [
        {
          "data": {
            "text/plain": [
              "True"
            ]
          },
          "execution_count": 36,
          "metadata": {},
          "output_type": "execute_result"
        }
      ]
    },
    {
      "cell_type": "code",
      "metadata": {
        "id": "a704f9cb",
        "outputId": "a66ffad4-d350-4e89-88f3-0a0c4dd64c8d"
      },
      "source": [
        "is_curzon(10)"
      ],
      "id": "a704f9cb",
      "execution_count": null,
      "outputs": [
        {
          "data": {
            "text/plain": [
              "False"
            ]
          },
          "execution_count": 37,
          "metadata": {},
          "output_type": "execute_result"
        }
      ]
    },
    {
      "cell_type": "code",
      "metadata": {
        "id": "cc6ca768",
        "outputId": "76ed71bf-e9f7-496d-e10b-f416e7bda1c0"
      },
      "source": [
        "is_curzon(14)"
      ],
      "id": "cc6ca768",
      "execution_count": null,
      "outputs": [
        {
          "data": {
            "text/plain": [
              "True"
            ]
          },
          "execution_count": 38,
          "metadata": {},
          "output_type": "execute_result"
        }
      ]
    },
    {
      "cell_type": "markdown",
      "metadata": {
        "id": "2f2ac4ca"
      },
      "source": [
        "### Question 4.Given the side length x find the area of a hexagon.\n",
        "#### Examples\n",
        "#### area_of_hexagon(1) ➞ 2.6\n",
        "#### area_of_hexagon(2) ➞ 10.4\n",
        "#### area_of_hexagon(3) ➞ 23.4"
      ],
      "id": "2f2ac4ca"
    },
    {
      "cell_type": "code",
      "metadata": {
        "id": "b7416089"
      },
      "source": [
        "def area_of_hexagon(side_length):\n",
        "    area = (3*1.73*side_length*side_length)/2\n",
        "    print(area)"
      ],
      "id": "b7416089",
      "execution_count": null,
      "outputs": []
    },
    {
      "cell_type": "code",
      "metadata": {
        "id": "62d9b248",
        "outputId": "386c5a45-f57d-41f0-bbbb-2e5d2ff13e01"
      },
      "source": [
        "area_of_hexagon(1)"
      ],
      "id": "62d9b248",
      "execution_count": null,
      "outputs": [
        {
          "name": "stdout",
          "output_type": "stream",
          "text": [
            "2.5949999999999998\n"
          ]
        }
      ]
    },
    {
      "cell_type": "code",
      "metadata": {
        "id": "79b916e7",
        "outputId": "f3389da7-4a85-4401-b268-7c5687335b18"
      },
      "source": [
        "area_of_hexagon(2)"
      ],
      "id": "79b916e7",
      "execution_count": null,
      "outputs": [
        {
          "name": "stdout",
          "output_type": "stream",
          "text": [
            "10.379999999999999\n"
          ]
        }
      ]
    },
    {
      "cell_type": "code",
      "metadata": {
        "id": "2f004a6e",
        "outputId": "c9658e07-e2f0-4859-e3d2-eadb7b49c901"
      },
      "source": [
        "area_of_hexagon(3)"
      ],
      "id": "2f004a6e",
      "execution_count": null,
      "outputs": [
        {
          "name": "stdout",
          "output_type": "stream",
          "text": [
            "23.354999999999997\n"
          ]
        }
      ]
    },
    {
      "cell_type": "markdown",
      "metadata": {
        "id": "770a307a"
      },
      "source": [
        "### Question 5. Create a function that returns a base-2 (binary) representation of a base-10 (decimal) string number. To convert is simple: \n",
        "#### ((2) means base-2 and (10) means base-10)\n",
        "#### 010101001(2) = 1 + 8 + 32 + 128.\n",
        "#### Going from right to left, the value of the most right bit is 1, now from that every bit to the left\n",
        "#### will be x2 the value, value of an 8 bit binary numbers are (256, 128, 64, 32, 16, 8, 4, 2, 1).\n",
        "#### Examples\n",
        "#### binary(1) ➞ &quot;1&quot;\n",
        "#### # 1* 1 = 1\n",
        "#### binary(5) ➞ &quot;101&quot;\n",
        "#### # 1 * 1 + 1 * 4 = 5\n",
        "#### binary(10) ➞ &quot;1010&quot;\n",
        "#### # 1* 2 + 1* 8  = 10"
      ],
      "id": "770a307a"
    },
    {
      "cell_type": "code",
      "metadata": {
        "id": "039295af"
      },
      "source": [
        "def binary(n):\n",
        "    return bin(n).replace(\"0b\",\"\")"
      ],
      "id": "039295af",
      "execution_count": null,
      "outputs": []
    },
    {
      "cell_type": "code",
      "metadata": {
        "id": "bf902f22",
        "outputId": "c04fb7f0-9432-4da9-f0ad-f2ba219eddee"
      },
      "source": [
        "binary(10)"
      ],
      "id": "bf902f22",
      "execution_count": null,
      "outputs": [
        {
          "data": {
            "text/plain": [
              "'1010'"
            ]
          },
          "execution_count": 16,
          "metadata": {},
          "output_type": "execute_result"
        }
      ]
    },
    {
      "cell_type": "code",
      "metadata": {
        "id": "2f4c3855",
        "outputId": "2caae97f-b0fd-46b1-9d80-bc1bd056a4d3"
      },
      "source": [
        "binary(5)"
      ],
      "id": "2f4c3855",
      "execution_count": null,
      "outputs": [
        {
          "data": {
            "text/plain": [
              "'101'"
            ]
          },
          "execution_count": 17,
          "metadata": {},
          "output_type": "execute_result"
        }
      ]
    },
    {
      "cell_type": "code",
      "metadata": {
        "id": "c05f0e1d",
        "outputId": "44c082f5-346c-45d0-d7d7-bcf2153a1036"
      },
      "source": [
        "binary(1)"
      ],
      "id": "c05f0e1d",
      "execution_count": null,
      "outputs": [
        {
          "data": {
            "text/plain": [
              "'1'"
            ]
          },
          "execution_count": 18,
          "metadata": {},
          "output_type": "execute_result"
        }
      ]
    }
  ]
}