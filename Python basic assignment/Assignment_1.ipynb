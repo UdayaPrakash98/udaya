{
  "nbformat": 4,
  "nbformat_minor": 0,
  "metadata": {
    "kernelspec": {
      "display_name": "Python 3",
      "language": "python",
      "name": "python3"
    },
    "language_info": {
      "codemirror_mode": {
        "name": "ipython",
        "version": 3
      },
      "file_extension": ".py",
      "mimetype": "text/x-python",
      "name": "python",
      "nbconvert_exporter": "python",
      "pygments_lexer": "ipython3",
      "version": "3.8.5"
    },
    "colab": {
      "name": "Assignment_1.ipynb",
      "provenance": [],
      "collapsed_sections": []
    }
  },
  "cells": [
    {
      "cell_type": "markdown",
      "metadata": {
        "id": "wA-IaYQd4gJf"
      },
      "source": [
        "# 1. What are the differences between operators and values in the following?"
      ]
    },
    {
      "cell_type": "raw",
      "metadata": {
        "id": "BSL7xbEg4gJj"
      },
      "source": [
        "*                   -- Operator(Multiplication)\n",
        "'hello'             -- Value (type-string)\n",
        "-87.8               -- Value (type-Float)\n",
        "-                   -- Operator(substract)\n",
        "/                   -- Operator(division)\n",
        "+                   -- Operator(addition)\n",
        "6                   -- Value(type-Integer)"
      ]
    },
    {
      "cell_type": "markdown",
      "metadata": {
        "id": "YCYH11re4gJl"
      },
      "source": [
        "# 2. What is the difference between string and variable?\n",
        "spam   \n",
        "'spam'\n",
        "\n",
        "Ans.: We can say that variable is a container which can store different data types like string, integer, float, etc.\n",
        "        \n",
        "      whereas string is a data type which can be stored in a variable.\n"
      ]
    },
    {
      "cell_type": "code",
      "metadata": {
        "id": "Vbo4f1Um4gJn",
        "outputId": "6515f5d5-2df4-4563-c7c6-70d20876b911"
      },
      "source": [
        "print(type('spam'))"
      ],
      "execution_count": null,
      "outputs": [
        {
          "name": "stdout",
          "output_type": "stream",
          "text": [
            "<class 'str'>\n"
          ]
        }
      ]
    },
    {
      "cell_type": "markdown",
      "metadata": {
        "id": "ZT7hvliJ4gJp"
      },
      "source": [
        "# 3. Describe three different data forms.\n",
        "\n",
        "Ans.: There are various data types some of them are:\n",
        "    1. string\n",
        "    2. int\n",
        "    3. float\n",
        "    4. list\n",
        "    5. tuple\n",
        "    6. set\n",
        "    7. dictionary (dict)\n",
        "    8. complex\n",
        "   \n",
        "1. String (str): this is a data type used for text, placed in between \" \" or ' '.\n",
        "                for example: x = 'Hello World' where hello world is of type str.\n",
        "\n",
        "2. Integer(int): this is a numerical data type which is used for numbers without decimal points.\n",
        "                for example: y = 10\n",
        "                \n",
        "3. Float       : this is also a numerical data type but with decimal point.\n",
        "                for example: z = 10.11\n",
        "    "
      ]
    },
    {
      "cell_type": "code",
      "metadata": {
        "id": "9-RrcUmc4gJq",
        "outputId": "9279613a-27f6-4259-807a-916c01d60ebd"
      },
      "source": [
        "x = 'Hello World'\n",
        "print('x data type is:', type(x))\n",
        "y = 10\n",
        "print('y data type is:', type(y))\n",
        "z = 10.11\n",
        "print('z data type is:', type(z))"
      ],
      "execution_count": null,
      "outputs": [
        {
          "name": "stdout",
          "output_type": "stream",
          "text": [
            "x data type is: <class 'str'>\n",
            "y data type is: <class 'int'>\n",
            "z data type is: <class 'float'>\n"
          ]
        }
      ]
    },
    {
      "cell_type": "markdown",
      "metadata": {
        "id": "2IOXzFcw4gJr"
      },
      "source": [
        "# 4. What makes up an expression? What are the functions of all expressions?"
      ]
    },
    {
      "cell_type": "raw",
      "metadata": {
        "id": "O20yOOk94gJt"
      },
      "source": [
        "Expression is a combination of operators, variables, values and functions.\n",
        "for example: print('hello world') here print is a keywors whereas 'hello world' is expression. or 10+10 \n"
      ]
    },
    {
      "cell_type": "markdown",
      "metadata": {
        "id": "kMEaY_p54gJu"
      },
      "source": [
        "# 5. In this chapter, assignment statements such as spam = 10 were added. What's the difference between a declaration and an expression?"
      ]
    },
    {
      "cell_type": "code",
      "metadata": {
        "id": "ub1JAh254gJx"
      },
      "source": [
        "Decleration of variable means binding it to a data type \n",
        "like in our case spam is used for binding 10 to it as an integer value.\n",
        "Whereas as an expression is the combination of operators and operands for example: 10+20 "
      ],
      "execution_count": null,
      "outputs": []
    },
    {
      "cell_type": "markdown",
      "metadata": {
        "id": "ycwCYXQ14gJx"
      },
      "source": [
        "# 6. After running the following code, what does the variable bacon contain?\n",
        "bacon = 22\n",
        "\n",
        "bacon + 1"
      ]
    },
    {
      "cell_type": "code",
      "metadata": {
        "id": "PAXid39r4gJy",
        "outputId": "2c944c51-0a63-444d-e06c-a301989e8528"
      },
      "source": [
        "bacon = 22\n",
        "bacon +1 # this does not adds to our variable bacon\n",
        "print('Bacon contains:', bacon)"
      ],
      "execution_count": null,
      "outputs": [
        {
          "name": "stdout",
          "output_type": "stream",
          "text": [
            "Bacon contains: 22\n"
          ]
        }
      ]
    },
    {
      "cell_type": "markdown",
      "metadata": {
        "id": "xRuZFMlY4gJz"
      },
      "source": [
        "# 7. What should the values of the following two terms be?\n",
        "\n",
        "'spam' + 'spamspam'\n",
        "\n",
        "'spam' * 3"
      ]
    },
    {
      "cell_type": "code",
      "metadata": {
        "id": "qSdDR2Uw4gJz",
        "outputId": "a77aefeb-f123-4eee-edfa-cf606380f44a"
      },
      "source": [
        "a = 'spam' + 'spamspam'\n",
        "a"
      ],
      "execution_count": null,
      "outputs": [
        {
          "data": {
            "text/plain": [
              "'spamspamspam'"
            ]
          },
          "execution_count": 26,
          "metadata": {},
          "output_type": "execute_result"
        }
      ]
    },
    {
      "cell_type": "code",
      "metadata": {
        "id": "hYoM2Gv14gJ0",
        "outputId": "384d3f9a-6842-4e6b-8f5d-ffb3e16a904e"
      },
      "source": [
        "b = 'spam'*3\n",
        "b"
      ],
      "execution_count": null,
      "outputs": [
        {
          "data": {
            "text/plain": [
              "'spamspamspam'"
            ]
          },
          "execution_count": 28,
          "metadata": {},
          "output_type": "execute_result"
        }
      ]
    },
    {
      "cell_type": "markdown",
      "metadata": {
        "id": "YpOJs3XA4gJ0"
      },
      "source": [
        "in a it concatinate both strings and in b it multiplies."
      ]
    },
    {
      "cell_type": "markdown",
      "metadata": {
        "id": "6lqghUpt4gJ1"
      },
      "source": [
        "# 8. Why is it that eggs is a true variable name but 100 is not?"
      ]
    },
    {
      "cell_type": "code",
      "metadata": {
        "id": "19kvSwCt4gJ1"
      },
      "source": [
        "100 is a literal number, not a variable. 100 is always 100 , you cannot set it to something else. \n",
        "A variable is like a box in which you can store a value. 100 is a value that can be stored in the variable."
      ],
      "execution_count": null,
      "outputs": []
    },
    {
      "cell_type": "markdown",
      "metadata": {
        "id": "BIIzVPbb4gJ1"
      },
      "source": [
        "# 9. Which of the following three functions may be used to convert a value to an integer, a floating-point number, or a string?"
      ]
    },
    {
      "cell_type": "code",
      "metadata": {
        "id": "_Cjq4jw44gJ1",
        "outputId": "000c10fb-3c31-42e6-ef04-d57b7b7bb651"
      },
      "source": [
        "#To convert an integer or floating point number to a string we simply can place it between \" \" or ' '\n",
        "a = 10\n",
        "b = 10.12\n",
        "print(\"Data type of a is {}, and data type of b is {}\".format(type(a),type(b)))\n",
        "c = \"10\"\n",
        "d = \"10.12\"\n",
        "print(\"Data type of c is {}, and data type of d is {}\".format(type(c),type(d)))\n",
        "\n",
        "# For Float ----> Int\n",
        "\n",
        "num = 10.11\n",
        "print(\"data type of num is: \", type(num))\n",
        "\n",
        "num = int(num)\n",
        "print(\"now its type is: \", type(num))"
      ],
      "execution_count": null,
      "outputs": [
        {
          "name": "stdout",
          "output_type": "stream",
          "text": [
            "Data type of a is <class 'int'>, and data type of b is <class 'float'>\n",
            "Data type of c is <class 'str'>, and data type of d is <class 'str'>\n",
            "data type of num is:  <class 'float'>\n",
            "now its type is:  <class 'int'>\n"
          ]
        }
      ]
    },
    {
      "cell_type": "markdown",
      "metadata": {
        "id": "fTLdiO0z4gJ2"
      },
      "source": [
        "# 10. What is the error caused by this expression? What would you do about it?\n",
        "\n",
        "'I have eaten ' + 99 + ' burritos.'\n"
      ]
    },
    {
      "cell_type": "code",
      "metadata": {
        "id": "yS0VMOu14gJ2",
        "outputId": "726757a0-37d7-4b2d-906e-5fe5cbae1206"
      },
      "source": [
        "Correct_form = 'I have eaten ' + '99' + ' burritos.'\n",
        "Correct_form"
      ],
      "execution_count": null,
      "outputs": [
        {
          "data": {
            "text/plain": [
              "'I have eaten 99 burritos.'"
            ]
          },
          "execution_count": 19,
          "metadata": {},
          "output_type": "execute_result"
        }
      ]
    }
  ]
}