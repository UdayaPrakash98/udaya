{
  "nbformat": 4,
  "nbformat_minor": 5,
  "metadata": {
    "kernelspec": {
      "display_name": "Python 3",
      "language": "python",
      "name": "python3"
    },
    "language_info": {
      "codemirror_mode": {
        "name": "ipython",
        "version": 3
      },
      "file_extension": ".py",
      "mimetype": "text/x-python",
      "name": "python",
      "nbconvert_exporter": "python",
      "pygments_lexer": "ipython3",
      "version": "3.8.5"
    },
    "colab": {
      "name": "Assignment_17.ipynb",
      "provenance": []
    }
  },
  "cells": [
    {
      "cell_type": "markdown",
      "metadata": {
        "id": "68e458a3"
      },
      "source": [
        "### 1. Assign the value 7 to the variable guess_me. Then, write the conditional tests (if, else, and elif) to print the string &#39;too low&#39; if guess_me is less than 7, &#39;too high&#39; if greater than 7, and &#39;just right&#39; if equal to 7."
      ],
      "id": "68e458a3"
    },
    {
      "cell_type": "code",
      "metadata": {
        "id": "9796c0aa"
      },
      "source": [
        "def guess(guess_me):\n",
        "    if guess_me<7:\n",
        "        return 'too low'\n",
        "    elif guess_me>7:\n",
        "        return 'too high'\n",
        "    elif guess_me==7:\n",
        "        return'just right'\n",
        "    "
      ],
      "id": "9796c0aa",
      "execution_count": null,
      "outputs": []
    },
    {
      "cell_type": "code",
      "metadata": {
        "id": "6292c7f1",
        "outputId": "a626fa47-247c-4bee-cf52-3c9c213b1ec5"
      },
      "source": [
        "guess(7)"
      ],
      "id": "6292c7f1",
      "execution_count": null,
      "outputs": [
        {
          "data": {
            "text/plain": [
              "'just right'"
            ]
          },
          "execution_count": 9,
          "metadata": {},
          "output_type": "execute_result"
        }
      ]
    },
    {
      "cell_type": "code",
      "metadata": {
        "id": "1c58a0d1",
        "outputId": "f4dbb991-0d80-4d0d-ac1d-c56e9ab79314"
      },
      "source": [
        "guess(9)"
      ],
      "id": "1c58a0d1",
      "execution_count": null,
      "outputs": [
        {
          "data": {
            "text/plain": [
              "'too high'"
            ]
          },
          "execution_count": 10,
          "metadata": {},
          "output_type": "execute_result"
        }
      ]
    },
    {
      "cell_type": "code",
      "metadata": {
        "id": "22e85a63",
        "outputId": "6bbff82e-c086-4996-d5a5-534d8225a0a6"
      },
      "source": [
        "guess(0)"
      ],
      "id": "22e85a63",
      "execution_count": null,
      "outputs": [
        {
          "data": {
            "text/plain": [
              "'too low'"
            ]
          },
          "execution_count": 11,
          "metadata": {},
          "output_type": "execute_result"
        }
      ]
    },
    {
      "cell_type": "markdown",
      "metadata": {
        "id": "10f4c3e9"
      },
      "source": [
        "### 2. Assign the value 7 to the variable guess_me and the value 1 to the variable start. Write a while loop that compares start with guess_me. Print too low if start is less than guess me. If start equals guess_me, print &#39;found it!&#39; and exit the loop. If start is greater than guess_me, print &#39;oops&#39; and exit the loop. Increment start at the end of the loop."
      ],
      "id": "10f4c3e9"
    },
    {
      "cell_type": "code",
      "metadata": {
        "id": "de0d7c43",
        "outputId": "1305265c-2579-4203-d3f9-038a4d9f71c1"
      },
      "source": [
        "guess_me = 7\n",
        "start = 1\n",
        "\n",
        "while True:\n",
        "    if start<guess_me:\n",
        "        print(\"too low\")\n",
        "    elif start==guess_me:\n",
        "        print(\"found it\")\n",
        "        break\n",
        "    else:\n",
        "        print(\"oops\")\n",
        "        break\n",
        "    start+=1\n",
        "    "
      ],
      "id": "de0d7c43",
      "execution_count": null,
      "outputs": [
        {
          "name": "stdout",
          "output_type": "stream",
          "text": [
            "too low\n",
            "too low\n",
            "too low\n",
            "too low\n",
            "too low\n",
            "too low\n",
            "found it\n"
          ]
        }
      ]
    },
    {
      "cell_type": "markdown",
      "metadata": {
        "id": "04c16a9f"
      },
      "source": [
        "### 3. Print the following values of the list [3, 2, 1, 0] using a for loop."
      ],
      "id": "04c16a9f"
    },
    {
      "cell_type": "code",
      "metadata": {
        "id": "e0ccf45e",
        "outputId": "ef522ac0-4638-4dc6-82d5-4d4dc6a7bcec"
      },
      "source": [
        "l = [3,2,1,0]\n",
        "for i in l:\n",
        "    print(i)"
      ],
      "id": "e0ccf45e",
      "execution_count": null,
      "outputs": [
        {
          "name": "stdout",
          "output_type": "stream",
          "text": [
            "3\n",
            "2\n",
            "1\n",
            "0\n"
          ]
        }
      ]
    },
    {
      "cell_type": "markdown",
      "metadata": {
        "id": "8a3639a9"
      },
      "source": [
        "### 4. Use a list comprehension to make a list of the even numbers in range(10)"
      ],
      "id": "8a3639a9"
    },
    {
      "cell_type": "code",
      "metadata": {
        "id": "190978d7",
        "outputId": "d42920a0-33f5-4538-bee1-c99d2ade617e"
      },
      "source": [
        "[i for i in range(10) if i%2==0]"
      ],
      "id": "190978d7",
      "execution_count": null,
      "outputs": [
        {
          "data": {
            "text/plain": [
              "[0, 2, 4, 6, 8]"
            ]
          },
          "execution_count": 24,
          "metadata": {},
          "output_type": "execute_result"
        }
      ]
    },
    {
      "cell_type": "markdown",
      "metadata": {
        "id": "3df99388"
      },
      "source": [
        "### 5. Use a dictionary comprehension to create the dictionary squares. Use range(10) to return the keys, and use the square of each key as its value."
      ],
      "id": "3df99388"
    },
    {
      "cell_type": "code",
      "metadata": {
        "id": "b05a06c2",
        "outputId": "55f5b4eb-ba0a-4f67-a456-188542bb8068"
      },
      "source": [
        "{i:i**2 for i in range(10)}"
      ],
      "id": "b05a06c2",
      "execution_count": null,
      "outputs": [
        {
          "data": {
            "text/plain": [
              "{0: 0, 1: 1, 2: 4, 3: 9, 4: 16, 5: 25, 6: 36, 7: 49, 8: 64, 9: 81}"
            ]
          },
          "execution_count": 28,
          "metadata": {},
          "output_type": "execute_result"
        }
      ]
    },
    {
      "cell_type": "markdown",
      "metadata": {
        "id": "09c96406"
      },
      "source": [
        "### 6. Construct the set odd from the odd numbers in the range using a set comprehension (10)."
      ],
      "id": "09c96406"
    },
    {
      "cell_type": "code",
      "metadata": {
        "id": "7fa3e4c3",
        "outputId": "52b839e1-b9e2-46ed-9cb3-f9d5fc79b974"
      },
      "source": [
        "{s for s in range(10) if s%2!=0}"
      ],
      "id": "7fa3e4c3",
      "execution_count": null,
      "outputs": [
        {
          "data": {
            "text/plain": [
              "{1, 3, 5, 7, 9}"
            ]
          },
          "execution_count": 32,
          "metadata": {},
          "output_type": "execute_result"
        }
      ]
    },
    {
      "cell_type": "markdown",
      "metadata": {
        "id": "757ce308"
      },
      "source": [
        "### 7. Use a generator comprehension to return the string &#39;Got &#39; and a number for the numbers in range(10). Iterate through this by using a for loop."
      ],
      "id": "757ce308"
    },
    {
      "cell_type": "code",
      "metadata": {
        "id": "bd45fcdd",
        "outputId": "21f5b06e-0027-45cd-cca6-9d4eb55294c6"
      },
      "source": [
        "gen = (\"Got\"+\" \"+str(i) for i in range(10))\n",
        "for j in gen:\n",
        "    print(j)"
      ],
      "id": "bd45fcdd",
      "execution_count": null,
      "outputs": [
        {
          "name": "stdout",
          "output_type": "stream",
          "text": [
            "Got 0\n",
            "Got 1\n",
            "Got 2\n",
            "Got 3\n",
            "Got 4\n",
            "Got 5\n",
            "Got 6\n",
            "Got 7\n",
            "Got 8\n",
            "Got 9\n"
          ]
        }
      ]
    },
    {
      "cell_type": "markdown",
      "metadata": {
        "id": "99f88213"
      },
      "source": [
        "### 8. Define a function called good that returns the list [&#39;Harry&#39;, &#39;Ron&#39;, &#39;Hermione&#39;]."
      ],
      "id": "99f88213"
    },
    {
      "cell_type": "code",
      "metadata": {
        "id": "27a2a5a5"
      },
      "source": [
        "def good():\n",
        "    return ['Harry', 'Ron', 'Hermione']"
      ],
      "id": "27a2a5a5",
      "execution_count": null,
      "outputs": []
    },
    {
      "cell_type": "code",
      "metadata": {
        "id": "a118b89f",
        "outputId": "6471740c-fc44-4f96-ccee-c45fa8a180f5"
      },
      "source": [
        "good()"
      ],
      "id": "a118b89f",
      "execution_count": null,
      "outputs": [
        {
          "data": {
            "text/plain": [
              "['Harry', 'Ron', 'Hermione']"
            ]
          },
          "execution_count": 45,
          "metadata": {},
          "output_type": "execute_result"
        }
      ]
    },
    {
      "cell_type": "markdown",
      "metadata": {
        "id": "07b75a79"
      },
      "source": [
        "### 9. Define a generator function called get_odds that returns the odd numbers from range(10). Use a for loop to find and print the third value returned."
      ],
      "id": "07b75a79"
    },
    {
      "cell_type": "code",
      "metadata": {
        "id": "c9f1c7a6"
      },
      "source": [
        "def get__odds():\n",
        "    odds = []\n",
        "    for i in range(10):\n",
        "        if i%2==1:\n",
        "            odds.append(i)\n",
        "    return odds[2]"
      ],
      "id": "c9f1c7a6",
      "execution_count": null,
      "outputs": []
    },
    {
      "cell_type": "code",
      "metadata": {
        "id": "063bae7d",
        "outputId": "e3b2f6b8-fc34-4dd3-d261-1939b509d6a3"
      },
      "source": [
        "get__odds()"
      ],
      "id": "063bae7d",
      "execution_count": null,
      "outputs": [
        {
          "data": {
            "text/plain": [
              "5"
            ]
          },
          "execution_count": 49,
          "metadata": {},
          "output_type": "execute_result"
        }
      ]
    },
    {
      "cell_type": "markdown",
      "metadata": {
        "id": "4142f537"
      },
      "source": [
        "### 10. Define an exception called OopsException. Raise this exception to see what happens. Then write the code to catch this exception and print &#39;Caught an oops&#39;."
      ],
      "id": "4142f537"
    },
    {
      "cell_type": "code",
      "metadata": {
        "id": "2e382f4f",
        "outputId": "2fb1dfff-2aff-40d5-cc23-9e0464ece6a2"
      },
      "source": [
        "class OopsException(Exception):\n",
        "    pass\n",
        "\n",
        "def caught(a):\n",
        "    if a<0:\n",
        "        raise OopsException(a)\n",
        "        \n",
        "\n",
        "try:\n",
        "    caught(-1)\n",
        "except Exception as e:\n",
        "    print('Caught an oops')\n",
        "    "
      ],
      "id": "2e382f4f",
      "execution_count": null,
      "outputs": [
        {
          "name": "stdout",
          "output_type": "stream",
          "text": [
            "Caught an oops\n"
          ]
        }
      ]
    },
    {
      "cell_type": "markdown",
      "metadata": {
        "id": "f0cc97ab"
      },
      "source": [
        "### 11. Use zip() to make a dictionary called movies that pairs these lists: titles = [&#39;Creature of Habit&#39;, &#39;Crewel Fate&#39;] and plots = [&#39;A nun turns into a monster&#39;, &#39;A haunted yarn shop&#39;]."
      ],
      "id": "f0cc97ab"
    },
    {
      "cell_type": "code",
      "metadata": {
        "id": "723072bd",
        "outputId": "f07adbb9-dc5c-4125-c08d-10f411dd75a1"
      },
      "source": [
        "titles = ['Creature of Habit', 'Crewel Fate']\n",
        "plots = ['A nun turns into a monster', 'A haunted yarn shop']\n",
        "\n",
        "movies = dict(zip(titles,plots))\n",
        "print(movies)"
      ],
      "id": "723072bd",
      "execution_count": null,
      "outputs": [
        {
          "name": "stdout",
          "output_type": "stream",
          "text": [
            "{'Creature of Habit': 'A nun turns into a monster', 'Crewel Fate': 'A haunted yarn shop'}\n"
          ]
        }
      ]
    }
  ]
}