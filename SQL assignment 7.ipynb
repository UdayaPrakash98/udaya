{
 "cells": [
  {
   "cell_type": "code",
   "execution_count": null,
   "id": "cfd52134",
   "metadata": {},
   "outputs": [],
   "source": [
    "1.Write an SQL query to show only odd rows from a table.\n",
    "\n",
    "Select * from Employees\n",
    "where  ID%2 <> 0;"
   ]
  },
  {
   "cell_type": "code",
   "execution_count": null,
   "id": "2f9c65d7",
   "metadata": {},
   "outputs": [],
   "source": [
    "2.Write an SQL query to clone a new table from another table.\n",
    "\n",
    "INSERT INTO newTable (col1, col2, col3)\n",
    "SELECT column1, column2, column3\n",
    "FROM oldTable"
   ]
  }
 ],
 "metadata": {
  "kernelspec": {
   "display_name": "Python 3",
   "language": "python",
   "name": "python3"
  },
  "language_info": {
   "codemirror_mode": {
    "name": "ipython",
    "version": 3
   },
   "file_extension": ".py",
   "mimetype": "text/x-python",
   "name": "python",
   "nbconvert_exporter": "python",
   "pygments_lexer": "ipython3",
   "version": "3.9.5"
  }
 },
 "nbformat": 4,
 "nbformat_minor": 5
}
