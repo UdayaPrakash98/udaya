{
 "cells": [
  {
   "cell_type": "code",
   "execution_count": null,
   "id": "ef09c270",
   "metadata": {},
   "outputs": [],
   "source": [
    "1.Write an SQL query to show the top n (say 10) records of a table.\n",
    "\n",
    "SELECT * FROM Worker\n",
    "ORDER BY Salary DESC LIMIT 10"
   ]
  },
  {
   "cell_type": "code",
   "execution_count": null,
   "id": "bab53414",
   "metadata": {},
   "outputs": [],
   "source": [
    "2.Write an SQL query to determine the nth (say n=5) highest salary from a table.\n",
    "\n",
    "SELECT Salary FROM Worker\n",
    "ORDER BY Salary DESC LIMIT 5;"
   ]
  }
 ],
 "metadata": {
  "kernelspec": {
   "display_name": "Python 3",
   "language": "python",
   "name": "python3"
  },
  "language_info": {
   "codemirror_mode": {
    "name": "ipython",
    "version": 3
   },
   "file_extension": ".py",
   "mimetype": "text/x-python",
   "name": "python",
   "nbconvert_exporter": "python",
   "pygments_lexer": "ipython3",
   "version": "3.9.5"
  }
 },
 "nbformat": 4,
 "nbformat_minor": 5
}
