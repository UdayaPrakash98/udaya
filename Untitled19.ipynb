{
 "cells": [
  {
   "cell_type": "code",
   "execution_count": 58,
   "id": "shared-automation",
   "metadata": {},
   "outputs": [
    {
     "name": "stdout",
     "output_type": "stream",
     "text": [
      "15\n",
      "Positive number\n"
     ]
    }
   ],
   "source": [
    "#positive and negative number(\n",
    "n = int(input())\n",
    "if n >= 0:\n",
    "    if n == 0:\n",
    "        print(\"Zero\") \n",
    "    else:\n",
    "        print(\"Positive number\")\n",
    "else:\n",
    "     print(\"Negative number\")"
   ]
  },
  {
   "cell_type": "code",
   "execution_count": 8,
   "id": "separated-appearance",
   "metadata": {},
   "outputs": [
    {
     "name": "stdout",
     "output_type": "stream",
     "text": [
      "46\n",
      "even\n"
     ]
    }
   ],
   "source": [
    "#number is odd or even\n",
    "n=int(input())\n",
    "if n%2 == 0:\n",
    "    print(\"even\")\n",
    "else:\n",
    "    print(\"odd\")"
   ]
  },
  {
   "cell_type": "code",
   "execution_count": 15,
   "id": "about-radio",
   "metadata": {},
   "outputs": [
    {
     "name": "stdout",
     "output_type": "stream",
     "text": [
      "1998\n",
      " 1998s not a leap year\n"
     ]
    }
   ],
   "source": [
    "#leap year\n",
    "n = int(input())\n",
    "if n % 4 == 0:\n",
    "    if n % 100 == 0:\n",
    "        if n % 400 ==0:\n",
    "            print ('%  is a leap year'%n)\n",
    "        else:\n",
    "            print('% is not a leap year'%n)\n",
    "    else:\n",
    "        print('% is a leap year'%n)\n",
    "else:\n",
    "    print('% is not a leap year'%n)\n",
    "    "
   ]
  },
  {
   "cell_type": "code",
   "execution_count": 88,
   "id": "normal-effect",
   "metadata": {},
   "outputs": [
    {
     "name": "stdout",
     "output_type": "stream",
     "text": [
      "Enter a number: 55\n",
      "55 is a prime number\n"
     ]
    }
   ],
   "source": [
    "#prime number\n",
    "num = int(input(\"Enter a number: \"))  \n",
    "  \n",
    "if num > 1:  \n",
    "    for i in range(0,num):  \n",
    "        if (num % 2) == 0:  \n",
    "            print(num,\"is not a prime number\")   \n",
    "            break\n",
    "    else:  \n",
    "        print(num,\"is a prime number\")  \n",
    "        \n",
    "else:  \n",
    "    print(num,\"is not a prime number\") "
   ]
  },
  {
   "cell_type": "code",
   "execution_count": 85,
   "id": "discrete-springer",
   "metadata": {},
   "outputs": [
    {
     "name": "stdout",
     "output_type": "stream",
     "text": [
      "Enter lower range: 100\n",
      "Enter upper range: 200\n",
      "101\n",
      "103\n",
      "107\n",
      "109\n",
      "113\n",
      "127\n",
      "131\n",
      "137\n",
      "139\n",
      "149\n",
      "151\n",
      "157\n",
      "163\n",
      "167\n",
      "173\n",
      "179\n",
      "181\n",
      "191\n",
      "193\n",
      "197\n",
      "199\n"
     ]
    }
   ],
   "source": [
    "#print all prime numbers in interval\n",
    "lower = int(input(\"Enter lower range: \"))  \n",
    "upper = int(input(\"Enter upper range: \"))  \n",
    "  \n",
    "for num in range(lower,upper + 1):  \n",
    "    if num > 1:  \n",
    "        for i in range(2,num):  \n",
    "             if (num % i) == 0:  \n",
    "                break  \n",
    "        else:  \n",
    "            print(num)  "
   ]
  },
  {
   "cell_type": "code",
   "execution_count": null,
   "id": "increased-script",
   "metadata": {},
   "outputs": [],
   "source": []
  },
  {
   "cell_type": "code",
   "execution_count": null,
   "id": "affecting-delaware",
   "metadata": {},
   "outputs": [],
   "source": []
  }
 ],
 "metadata": {
  "kernelspec": {
   "display_name": "Python 3",
   "language": "python",
   "name": "python3"
  },
  "language_info": {
   "codemirror_mode": {
    "name": "ipython",
    "version": 3
   },
   "file_extension": ".py",
   "mimetype": "text/x-python",
   "name": "python",
   "nbconvert_exporter": "python",
   "pygments_lexer": "ipython3",
   "version": "3.9.2"
  }
 },
 "nbformat": 4,
 "nbformat_minor": 5
}
