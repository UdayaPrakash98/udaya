{
  "nbformat": 4,
  "nbformat_minor": 5,
  "metadata": {
    "kernelspec": {
      "display_name": "Python 3",
      "language": "python",
      "name": "python3"
    },
    "language_info": {
      "codemirror_mode": {
        "name": "ipython",
        "version": 3
      },
      "file_extension": ".py",
      "mimetype": "text/x-python",
      "name": "python",
      "nbconvert_exporter": "python",
      "pygments_lexer": "ipython3",
      "version": "3.8.5"
    },
    "colab": {
      "name": "Programming Assignment_15.ipynb",
      "provenance": []
    }
  },
  "cells": [
    {
      "cell_type": "markdown",
      "metadata": {
        "id": "d73835ac"
      },
      "source": [
        "### Question 1: Please write a program using generator to print the numbers which can be divisible by 5 and 7 between 0 and n in comma separated form while n is input by console.\n",
        "    Example:\n",
        "    If the following n is given as input to the program:\n",
        "    100\n",
        "    Then, the output of the program should be:\n",
        "    0,35,70"
      ],
      "id": "d73835ac"
    },
    {
      "cell_type": "code",
      "metadata": {
        "id": "934c76a2",
        "outputId": "c1fb0bcd-a62e-4889-e91f-4fed976b8bcb"
      },
      "source": [
        "def generator(n):\n",
        "    for i in range(n+1):\n",
        "        if i%5==0 and i%7==0:\n",
        "            yield i\n",
        "for j in generator(100):\n",
        "    print(j,end=',')"
      ],
      "id": "934c76a2",
      "execution_count": null,
      "outputs": [
        {
          "name": "stdout",
          "output_type": "stream",
          "text": [
            "0,35,70,"
          ]
        }
      ]
    },
    {
      "cell_type": "markdown",
      "metadata": {
        "id": "8a18fbab"
      },
      "source": [
        "### Question 2: Please write a program using generator to print the even numbers between 0 and n in comma separated form while n is input by console.\n",
        "    Example:\n",
        "    If the following n is given as input to the program:\n",
        "    10\n",
        "    Then, the output of the program should be:\n",
        "    0,2,4,6,8,10"
      ],
      "id": "8a18fbab"
    },
    {
      "cell_type": "code",
      "metadata": {
        "id": "b73b3714",
        "outputId": "23924e7b-466c-4207-c8be-40c349decfa1"
      },
      "source": [
        "def generator(n):\n",
        "    for i in range(n+1):\n",
        "        if i%2==0:\n",
        "            yield i\n",
        "for j in generator(10):\n",
        "    print(j,end =\",\")\n",
        "    "
      ],
      "id": "b73b3714",
      "execution_count": null,
      "outputs": [
        {
          "name": "stdout",
          "output_type": "stream",
          "text": [
            "0 , 2 , 4 , 6 , 8 , 10 , "
          ]
        }
      ]
    },
    {
      "cell_type": "markdown",
      "metadata": {
        "id": "0d008dd9"
      },
      "source": [
        "### Question 3: The Fibonacci Sequence is computed based on the following formula:\n",
        "    f(n)=0 if n=0\n",
        "    f(n)=1 if n=1\n",
        "    f(n)=f(n-1)+f(n-2) if n>1\n",
        "    Please write a program using list comprehension to print the Fibonacci Sequence in comma\n",
        "    separated form with a given n input by console."
      ],
      "id": "0d008dd9"
    },
    {
      "cell_type": "code",
      "metadata": {
        "id": "4f9992c2",
        "outputId": "817e8919-4eff-4105-c7f4-4c10ad934788"
      },
      "source": [
        "def fib(n):\n",
        "    if n==0:\n",
        "        return 0\n",
        "    elif n==1:\n",
        "        return 1\n",
        "    else:\n",
        "        return fib(n-1) + fib(n-2)\n",
        "    \n",
        "n = int(input(\"Enter length n: \"))\n",
        "sequence = [str(fib(i)) for i in range(n)]\n",
        "print(\",\".join(sequence))\n"
      ],
      "id": "4f9992c2",
      "execution_count": null,
      "outputs": [
        {
          "name": "stdout",
          "output_type": "stream",
          "text": [
            "Enter length n: 7\n",
            "0,1,1,2,3,5,8\n"
          ]
        }
      ]
    },
    {
      "cell_type": "markdown",
      "metadata": {
        "id": "0cca581a"
      },
      "source": [
        "### Question 4: Assuming that we have some email addresses in the &quot;username@companyname.com&quot; format, please write program to print the user name of a given email address. Both user names and company names are composed of letters only.\n",
        "    Example:\n",
        "    If the following email address is given as input to the program:\n",
        "    john@google.com\n",
        "    Then, the output of the program should be:\n",
        "    john"
      ],
      "id": "0cca581a"
    },
    {
      "cell_type": "code",
      "metadata": {
        "id": "43644e00"
      },
      "source": [
        "def username(email):\n",
        "    print(email.split(\"@\")[0])"
      ],
      "id": "43644e00",
      "execution_count": null,
      "outputs": []
    },
    {
      "cell_type": "code",
      "metadata": {
        "id": "8d2ab533",
        "outputId": "5516c7cd-dc08-4572-e9fd-74e9a12fa392"
      },
      "source": [
        "username(\"john@google.com\")"
      ],
      "id": "8d2ab533",
      "execution_count": null,
      "outputs": [
        {
          "name": "stdout",
          "output_type": "stream",
          "text": [
            "john\n"
          ]
        }
      ]
    },
    {
      "cell_type": "markdown",
      "metadata": {
        "id": "5e2e006a"
      },
      "source": [
        "### Question 5: Define a class named Shape and its subclass Square. The Square class has an init function which takes a length as argument. Both classes have a area function which can print the area of the shape where Shape&#39;s area is 0 by default."
      ],
      "id": "5e2e006a"
    },
    {
      "cell_type": "code",
      "metadata": {
        "id": "69d87656"
      },
      "source": [
        "class shape:\n",
        "    def __init__(self):\n",
        "        pass\n",
        "    def area(self):\n",
        "        return 0\n",
        "class square(shape):\n",
        "    def __init__(self,length = 0):\n",
        "        shape.__init__(self)\n",
        "        self.length = length\n",
        "    \n",
        "    def area(self):\n",
        "        return self.length*self.length\n",
        "    "
      ],
      "id": "69d87656",
      "execution_count": null,
      "outputs": []
    },
    {
      "cell_type": "code",
      "metadata": {
        "id": "aabd0707",
        "outputId": "fb5872bc-97c6-4aea-a106-9adcee82da53"
      },
      "source": [
        "a = square(10)\n",
        "a.area()"
      ],
      "id": "aabd0707",
      "execution_count": null,
      "outputs": [
        {
          "data": {
            "text/plain": [
              "100"
            ]
          },
          "execution_count": 39,
          "metadata": {},
          "output_type": "execute_result"
        }
      ]
    },
    {
      "cell_type": "code",
      "metadata": {
        "id": "c35bbb82",
        "outputId": "e732eee3-2c73-484a-8492-183828b9b268"
      },
      "source": [
        "square().area()"
      ],
      "id": "c35bbb82",
      "execution_count": null,
      "outputs": [
        {
          "data": {
            "text/plain": [
              "0"
            ]
          },
          "execution_count": 40,
          "metadata": {},
          "output_type": "execute_result"
        }
      ]
    }
  ]
}