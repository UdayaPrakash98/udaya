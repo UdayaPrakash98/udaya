{
  "nbformat": 4,
  "nbformat_minor": 5,
  "metadata": {
    "kernelspec": {
      "display_name": "Python 3",
      "language": "python",
      "name": "python3"
    },
    "language_info": {
      "codemirror_mode": {
        "name": "ipython",
        "version": 3
      },
      "file_extension": ".py",
      "mimetype": "text/x-python",
      "name": "python",
      "nbconvert_exporter": "python",
      "pygments_lexer": "ipython3",
      "version": "3.8.5"
    },
    "colab": {
      "name": "Programming Assignment_19.ipynb",
      "provenance": []
    }
  },
  "cells": [
    {
      "cell_type": "markdown",
      "metadata": {
        "id": "f4aeee1f"
      },
      "source": [
        "### Question1 Create a function that takes a string and returns a string in which each character is repeated once.\n",
        "#### Examples\n",
        "#### double_char(&quot;String&quot;) ➞ &quot;SSttrriinngg&quot;\n",
        "#### double_char(&quot;Hello World!&quot;) ➞ &quot;HHeelllloo WWoorrlldd!!&quot;\n",
        "#### double_char(&quot;1234!_ &quot;) ➞ &quot;11223344!!__ &quot;"
      ],
      "id": "f4aeee1f"
    },
    {
      "cell_type": "code",
      "metadata": {
        "id": "1771785b"
      },
      "source": [
        "def double_char(string):\n",
        "    return ''.join([i*2 for i in string])"
      ],
      "id": "1771785b",
      "execution_count": null,
      "outputs": []
    },
    {
      "cell_type": "code",
      "metadata": {
        "id": "7289ba57",
        "outputId": "e0544a32-dc82-4416-c894-58c7c7b40cf9"
      },
      "source": [
        "double_char(\"String\")"
      ],
      "id": "7289ba57",
      "execution_count": null,
      "outputs": [
        {
          "data": {
            "text/plain": [
              "'SSttrriinngg'"
            ]
          },
          "execution_count": 21,
          "metadata": {},
          "output_type": "execute_result"
        }
      ]
    },
    {
      "cell_type": "code",
      "metadata": {
        "id": "a3b6e749",
        "outputId": "5b7ec51f-699b-49f5-f823-92d61a84cf34"
      },
      "source": [
        "double_char(\"Hello World!\")"
      ],
      "id": "a3b6e749",
      "execution_count": null,
      "outputs": [
        {
          "data": {
            "text/plain": [
              "'HHeelllloo  WWoorrlldd!!'"
            ]
          },
          "execution_count": 22,
          "metadata": {},
          "output_type": "execute_result"
        }
      ]
    },
    {
      "cell_type": "code",
      "metadata": {
        "id": "49e802b5",
        "outputId": "1f0389b7-ef2e-4dbf-e7b7-dc1c2737de56"
      },
      "source": [
        "double_char(\"1234!_ \")"
      ],
      "id": "49e802b5",
      "execution_count": null,
      "outputs": [
        {
          "data": {
            "text/plain": [
              "'11223344!!__  '"
            ]
          },
          "execution_count": 23,
          "metadata": {},
          "output_type": "execute_result"
        }
      ]
    },
    {
      "cell_type": "markdown",
      "metadata": {
        "id": "702a0ab8"
      },
      "source": [
        "### Question2 Create a function that reverses a boolean value and returns the string &quot;boolean expected&quot; if another variable type is given.\n",
        "#### Examples\n",
        "#### reverse(True) ➞ False\n",
        "#### reverse(False) ➞ True\n",
        "#### reverse(0) ➞ &quot;boolean expected&quot;\n",
        "#### reverse(None) ➞ &quot;boolean expected&quot;"
      ],
      "id": "702a0ab8"
    },
    {
      "cell_type": "code",
      "metadata": {
        "id": "691cda46"
      },
      "source": [
        "def reverse(bool_value):\n",
        "    if type(bool_value)==bool:\n",
        "        return not bool_value\n",
        "    return \"boolean excepted\"\n",
        "        \n",
        "        \n",
        "    \n",
        "    "
      ],
      "id": "691cda46",
      "execution_count": null,
      "outputs": []
    },
    {
      "cell_type": "code",
      "metadata": {
        "id": "5862957d",
        "outputId": "c47d6a4f-fbb4-4959-8344-6aceaba4d727"
      },
      "source": [
        "reverse(True)"
      ],
      "id": "5862957d",
      "execution_count": null,
      "outputs": [
        {
          "data": {
            "text/plain": [
              "False"
            ]
          },
          "execution_count": 43,
          "metadata": {},
          "output_type": "execute_result"
        }
      ]
    },
    {
      "cell_type": "code",
      "metadata": {
        "id": "7861e71f",
        "outputId": "3972da39-2161-4779-c011-3fa7690449ab"
      },
      "source": [
        "reverse(False)"
      ],
      "id": "7861e71f",
      "execution_count": null,
      "outputs": [
        {
          "data": {
            "text/plain": [
              "True"
            ]
          },
          "execution_count": 44,
          "metadata": {},
          "output_type": "execute_result"
        }
      ]
    },
    {
      "cell_type": "code",
      "metadata": {
        "id": "e88e9cf8",
        "outputId": "663611f8-d34c-4186-c6ac-4b99dfc93c8e"
      },
      "source": [
        "reverse(0)"
      ],
      "id": "e88e9cf8",
      "execution_count": null,
      "outputs": [
        {
          "data": {
            "text/plain": [
              "'boolean excepted'"
            ]
          },
          "execution_count": 45,
          "metadata": {},
          "output_type": "execute_result"
        }
      ]
    },
    {
      "cell_type": "code",
      "metadata": {
        "id": "865f336b",
        "outputId": "2ee5f1ad-5c14-4af5-f983-b8236a110e7c"
      },
      "source": [
        "reverse(None)"
      ],
      "id": "865f336b",
      "execution_count": null,
      "outputs": [
        {
          "data": {
            "text/plain": [
              "'boolean excepted'"
            ]
          },
          "execution_count": 46,
          "metadata": {},
          "output_type": "execute_result"
        }
      ]
    },
    {
      "cell_type": "markdown",
      "metadata": {
        "id": "6048cd88"
      },
      "source": [
        "### Question3 Create a function that returns the thickness (in meters) of a piece of paper after folding it n number of times. The paper starts off with a thickness of 0.5mm.\n",
        "#### Examples\n",
        "#### num_layers(1) ➞ &quot;0.001m&quot;\n",
        "#### # Paper folded once is 1mm (equal to 0.001m)\n",
        "#### num_layers(4) ➞ &quot;0.008m&quot;\n",
        "#### # Paper folded 4 times is 8mm (equal to 0.008m)\n",
        "#### num_layers(21) ➞ &quot;1048.576m&quot;\n",
        "#### # Paper folded 21 times is 1048576mm (equal to 1048.576m)"
      ],
      "id": "6048cd88"
    },
    {
      "cell_type": "code",
      "metadata": {
        "id": "0a6cfc13"
      },
      "source": [
        "def num_layers(n):\n",
        "    thickness = 0.5\n",
        "    for i in range(n):\n",
        "        thickness *= 2\n",
        "    \n",
        "    return str(thickness / 1000)+'m'"
      ],
      "id": "0a6cfc13",
      "execution_count": null,
      "outputs": []
    },
    {
      "cell_type": "code",
      "metadata": {
        "id": "f0eb68e9",
        "outputId": "a9db6404-2e0f-429d-86f1-ab59516314b3"
      },
      "source": [
        "num_layers(1)"
      ],
      "id": "f0eb68e9",
      "execution_count": null,
      "outputs": [
        {
          "data": {
            "text/plain": [
              "'0.001m'"
            ]
          },
          "execution_count": 64,
          "metadata": {},
          "output_type": "execute_result"
        }
      ]
    },
    {
      "cell_type": "code",
      "metadata": {
        "id": "dd67140a",
        "outputId": "04d4757d-c0a3-48b8-b14c-4cde34a81214"
      },
      "source": [
        "num_layers(4)"
      ],
      "id": "dd67140a",
      "execution_count": null,
      "outputs": [
        {
          "data": {
            "text/plain": [
              "'0.008m'"
            ]
          },
          "execution_count": 66,
          "metadata": {},
          "output_type": "execute_result"
        }
      ]
    },
    {
      "cell_type": "code",
      "metadata": {
        "id": "51fd05f1",
        "outputId": "9be47cf6-2339-4596-878b-a043b5aa82cf"
      },
      "source": [
        "num_layers(21)"
      ],
      "id": "51fd05f1",
      "execution_count": null,
      "outputs": [
        {
          "data": {
            "text/plain": [
              "'1048.576m'"
            ]
          },
          "execution_count": 67,
          "metadata": {},
          "output_type": "execute_result"
        }
      ]
    },
    {
      "cell_type": "markdown",
      "metadata": {
        "id": "94c881e1"
      },
      "source": [
        "### Question4 Create a function that takes a single string as argument and returns an ordered list containing the indices of all capital letters in the string.\n",
        "#### Examples\n",
        "#### index_of_caps(&quot;eDaBiT&quot;) ➞ [1, 3, 5]\n",
        "#### index_of_caps(&quot;eQuINoX&quot;) ➞ [1, 3, 4, 6]\n",
        "#### index_of_caps(&quot;determine&quot;) ➞ []\n",
        "#### index_of_caps(&quot;STRIKE&quot;) ➞ [0, 1, 2, 3, 4, 5]\n",
        "#### index_of_caps(&quot;sUn&quot;) ➞ [1]"
      ],
      "id": "94c881e1"
    },
    {
      "cell_type": "code",
      "metadata": {
        "id": "dd8f69ed"
      },
      "source": [
        "def index_of_caps(string):\n",
        "    l = []\n",
        "    for i in range(len(string)):\n",
        "        if string[i].isupper():\n",
        "            l.append(i)\n",
        "    return l\n",
        "            "
      ],
      "id": "dd8f69ed",
      "execution_count": null,
      "outputs": []
    },
    {
      "cell_type": "code",
      "metadata": {
        "id": "7192cd8c",
        "outputId": "fd81d47e-3d6e-419e-95f8-1bb7a4a3cb0b"
      },
      "source": [
        "index_of_caps(\"eQuINoX\")"
      ],
      "id": "7192cd8c",
      "execution_count": null,
      "outputs": [
        {
          "data": {
            "text/plain": [
              "[1, 3, 4, 6]"
            ]
          },
          "execution_count": 69,
          "metadata": {},
          "output_type": "execute_result"
        }
      ]
    },
    {
      "cell_type": "code",
      "metadata": {
        "id": "2c01f497",
        "outputId": "0f4d8759-61ec-4252-b98d-cca9253dcae4"
      },
      "source": [
        "index_of_caps(\"eDaBiT\")"
      ],
      "id": "2c01f497",
      "execution_count": null,
      "outputs": [
        {
          "data": {
            "text/plain": [
              "[1, 3, 5]"
            ]
          },
          "execution_count": 70,
          "metadata": {},
          "output_type": "execute_result"
        }
      ]
    },
    {
      "cell_type": "code",
      "metadata": {
        "id": "9ad21821",
        "outputId": "f8f3402e-0723-4a8a-b810-14453ff636d1"
      },
      "source": [
        "index_of_caps('determine')"
      ],
      "id": "9ad21821",
      "execution_count": null,
      "outputs": [
        {
          "data": {
            "text/plain": [
              "[]"
            ]
          },
          "execution_count": 71,
          "metadata": {},
          "output_type": "execute_result"
        }
      ]
    },
    {
      "cell_type": "code",
      "metadata": {
        "id": "81ee258d",
        "outputId": "0716edf7-dded-4b9f-d1c3-ef55f0627b75"
      },
      "source": [
        "index_of_caps('STRIKE')"
      ],
      "id": "81ee258d",
      "execution_count": null,
      "outputs": [
        {
          "data": {
            "text/plain": [
              "[0, 1, 2, 3, 4, 5]"
            ]
          },
          "execution_count": 72,
          "metadata": {},
          "output_type": "execute_result"
        }
      ]
    },
    {
      "cell_type": "code",
      "metadata": {
        "id": "c09b4749",
        "outputId": "ac6ebcff-6f5d-4504-8d93-af27b975437f"
      },
      "source": [
        "index_of_caps('sUn')"
      ],
      "id": "c09b4749",
      "execution_count": null,
      "outputs": [
        {
          "data": {
            "text/plain": [
              "[1]"
            ]
          },
          "execution_count": 73,
          "metadata": {},
          "output_type": "execute_result"
        }
      ]
    },
    {
      "cell_type": "markdown",
      "metadata": {
        "id": "1deafaec"
      },
      "source": [
        "### Question5 Using list comprehensions, create a function that finds all even numbers from 1 to the given number.\n",
        "#### Examples\n",
        "#### find_even_nums(8) ➞ [2, 4, 6, 8]\n",
        "#### find_even_nums(4) ➞ [2, 4]\n",
        "#### find_even_nums(2) ➞ [2]"
      ],
      "id": "1deafaec"
    },
    {
      "cell_type": "code",
      "metadata": {
        "id": "901ee392"
      },
      "source": [
        "def find_even_nums(n):\n",
        "    return [i for i in range(1,n+1) if i%2==0 ]"
      ],
      "id": "901ee392",
      "execution_count": null,
      "outputs": []
    },
    {
      "cell_type": "code",
      "metadata": {
        "id": "9192b8ce",
        "outputId": "ace9e272-0f4e-42e2-9928-56a95a7e8aff"
      },
      "source": [
        "find_even_nums(8)"
      ],
      "id": "9192b8ce",
      "execution_count": null,
      "outputs": [
        {
          "data": {
            "text/plain": [
              "[2, 4, 6, 8]"
            ]
          },
          "execution_count": 78,
          "metadata": {},
          "output_type": "execute_result"
        }
      ]
    },
    {
      "cell_type": "code",
      "metadata": {
        "id": "61c28b87",
        "outputId": "9e47b234-2bf4-48c4-d6cc-4994b2f2c4d9"
      },
      "source": [
        "find_even_nums(4)"
      ],
      "id": "61c28b87",
      "execution_count": null,
      "outputs": [
        {
          "data": {
            "text/plain": [
              "[2, 4]"
            ]
          },
          "execution_count": 79,
          "metadata": {},
          "output_type": "execute_result"
        }
      ]
    },
    {
      "cell_type": "code",
      "metadata": {
        "id": "32b0954c",
        "outputId": "7179b9ec-44b5-48fd-e1c6-88f03bf963dd"
      },
      "source": [
        "find_even_nums(2)"
      ],
      "id": "32b0954c",
      "execution_count": null,
      "outputs": [
        {
          "data": {
            "text/plain": [
              "[2]"
            ]
          },
          "execution_count": 80,
          "metadata": {},
          "output_type": "execute_result"
        }
      ]
    }
  ]
}