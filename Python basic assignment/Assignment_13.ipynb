{
  "nbformat": 4,
  "nbformat_minor": 5,
  "metadata": {
    "kernelspec": {
      "display_name": "Python 3",
      "language": "python",
      "name": "python3"
    },
    "language_info": {
      "codemirror_mode": {
        "name": "ipython",
        "version": 3
      },
      "file_extension": ".py",
      "mimetype": "text/x-python",
      "name": "python",
      "nbconvert_exporter": "python",
      "pygments_lexer": "ipython3",
      "version": "3.8.5"
    },
    "colab": {
      "name": "Assignment_13.ipynb",
      "provenance": []
    }
  },
  "cells": [
    {
      "cell_type": "markdown",
      "metadata": {
        "id": "7bffe837"
      },
      "source": [
        "### 1. What advantages do Excel spreadsheets have over CSV spreadsheets?"
      ],
      "id": "7bffe837"
    },
    {
      "cell_type": "markdown",
      "metadata": {
        "id": "88015533"
      },
      "source": [
        "    We can perform various operations on data in excel but no in csv.\n",
        "    Excel can store more complex data.\n",
        "    No distinction between data type in csv"
      ],
      "id": "88015533"
    },
    {
      "cell_type": "markdown",
      "metadata": {
        "id": "e5b641e0"
      },
      "source": [
        "### 2.What do you pass to csv.reader() and csv.writer() to create reader and writer objects?"
      ],
      "id": "e5b641e0"
    },
    {
      "cell_type": "code",
      "metadata": {
        "id": "e81e5c5a"
      },
      "source": [
        "import csv"
      ],
      "id": "e81e5c5a",
      "execution_count": null,
      "outputs": []
    },
    {
      "cell_type": "markdown",
      "metadata": {
        "id": "19eeada5"
      },
      "source": [
        "    In csv.reader() we pass file and dialect.\n",
        "    In csv.writer() we pass fileobj and dialect."
      ],
      "id": "19eeada5"
    },
    {
      "cell_type": "markdown",
      "metadata": {
        "id": "d0943904"
      },
      "source": [
        "### 3. What modes do File objects for reader and writer objects need to be opened in?"
      ],
      "id": "d0943904"
    },
    {
      "cell_type": "markdown",
      "metadata": {
        "id": "c44971ca"
      },
      "source": [
        "    for reader object we open file in read mode 'r'\n",
        "    and for writer object we open file in write mode 'w'."
      ],
      "id": "c44971ca"
    },
    {
      "cell_type": "markdown",
      "metadata": {
        "id": "2c2da1ed"
      },
      "source": [
        "### 4. What method takes a list argument and writes it to a CSV file?"
      ],
      "id": "2c2da1ed"
    },
    {
      "cell_type": "markdown",
      "metadata": {
        "id": "e8ef8c76"
      },
      "source": [
        "    use writerow() method for list argument in csv file."
      ],
      "id": "e8ef8c76"
    },
    {
      "cell_type": "markdown",
      "metadata": {
        "id": "cbfe866c"
      },
      "source": [
        "### 5. What do the keyword arguments delimiter and line terminator do?"
      ],
      "id": "cbfe866c"
    },
    {
      "cell_type": "markdown",
      "metadata": {
        "id": "f00a6728"
      },
      "source": [
        "    firstname, lastname, age\n",
        "    rushikesh, pokale, 22\n",
        "    manish, pokale, 25\n",
        "    \n",
        "    here ',' is delimiter we can use any character as per our needs."
      ],
      "id": "f00a6728"
    },
    {
      "cell_type": "markdown",
      "metadata": {
        "id": "06df0dd8"
      },
      "source": [
        "    line terminator comes at end of line by default it is newline and can be changed accourding to requirement."
      ],
      "id": "06df0dd8"
    },
    {
      "cell_type": "markdown",
      "metadata": {
        "id": "b26671d1"
      },
      "source": [
        "### 6. What function takes a string of JSON data and returns a Python data structure?"
      ],
      "id": "b26671d1"
    },
    {
      "cell_type": "markdown",
      "metadata": {
        "id": "da6eb1db"
      },
      "source": [
        "    dumps() function convert json data into python data structure. "
      ],
      "id": "da6eb1db"
    },
    {
      "cell_type": "markdown",
      "metadata": {
        "id": "a28fbe00"
      },
      "source": [
        "### 7. What function takes a Python data structure and returns a string of JSON data?"
      ],
      "id": "a28fbe00"
    },
    {
      "cell_type": "markdown",
      "metadata": {
        "id": "ac4cfa6a"
      },
      "source": [
        "    loads() function converts python data structure and returns a string of json data."
      ],
      "id": "ac4cfa6a"
    }
  ]
}