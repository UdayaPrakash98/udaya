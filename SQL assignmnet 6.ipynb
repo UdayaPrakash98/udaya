{
 "cells": [
  {
   "cell_type": "code",
   "execution_count": null,
   "id": "f17fbc7f",
   "metadata": {},
   "outputs": [],
   "source": [
    "1.Write an SQL query to print details of the Workers who have joined in Feb’2014.\n",
    "\n",
    "Select * from Worker\n",
    "where year(JOINING_DATE) = 2014 and month(JOINING_DATE) = 2;\n"
   ]
  },
  {
   "cell_type": "code",
   "execution_count": null,
   "id": "50420494",
   "metadata": {},
   "outputs": [],
   "source": [
    "2.Write an SQL query to fetch duplicate records having matching data in some fields of\n",
    "a table.\n",
    "\n",
    "SELECT WORKER_TITLE, AFFECTED_FROM, COUNT(*)\n",
    "FROM Title\n",
    "GROUP BY WORKER_TITLE, AFFECTED_FROM\n",
    "HAVING COUNT(*) > 1;"
   ]
  },
  {
   "cell_type": "code",
   "execution_count": null,
   "id": "2620159b",
   "metadata": {},
   "outputs": [],
   "source": [
    "3.How to remove duplicate rows from Employees table.\n",
    "\n",
    "DELETE e1 FROM EMPLOYEE e1, EMPLOYEE e2 \n",
    "WHERE e1.name = e2.name AND e1.id > e2.id\n"
   ]
  }
 ],
 "metadata": {
  "kernelspec": {
   "display_name": "Python 3",
   "language": "python",
   "name": "python3"
  },
  "language_info": {
   "codemirror_mode": {
    "name": "ipython",
    "version": 3
   },
   "file_extension": ".py",
   "mimetype": "text/x-python",
   "name": "python",
   "nbconvert_exporter": "python",
   "pygments_lexer": "ipython3",
   "version": "3.9.5"
  }
 },
 "nbformat": 4,
 "nbformat_minor": 5
}
