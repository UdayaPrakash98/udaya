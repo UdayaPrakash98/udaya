{
 "cells": [
  {
   "cell_type": "code",
   "execution_count": null,
   "id": "27b76cee",
   "metadata": {},
   "outputs": [],
   "source": [
    "# 1.Write an SQL query to print the FIRST_NAME from Worker table after replacing ‘a’ with ‘A’.\n",
    "\n",
    "Select REPLACE(FIRST_NAME,'a','A') \n",
    "from Worker;\n"
   ]
  },
  {
   "cell_type": "code",
   "execution_count": null,
   "id": "28dbad88",
   "metadata": {},
   "outputs": [],
   "source": [
    "2.Write an SQL query to print all Worker details from the Worker table order by \n",
    "FIRST_NAME Ascending and DEPARTMENT Descending.\n",
    "\n",
    "Select * from Worker \n",
    "order by FIRST_NAME asc,DEPARTMENT desc;\n"
   ]
  },
  {
   "cell_type": "code",
   "execution_count": null,
   "id": "92f1404b",
   "metadata": {},
   "outputs": [],
   "source": [
    "#3.Write an SQL query to fetch the names of workers who earn the highest salary.\n",
    "\n",
    "SELECT FIRST_NAME, SALARY from Worker\n",
    "WHERE SALARY=(SELECT max(SALARY)\n",
    "from Worker;\n"
   ]
  }
 ],
 "metadata": {
  "kernelspec": {
   "display_name": "Python 3",
   "language": "python",
   "name": "python3"
  },
  "language_info": {
   "codemirror_mode": {
    "name": "ipython",
    "version": 3
   },
   "file_extension": ".py",
   "mimetype": "text/x-python",
   "name": "python",
   "nbconvert_exporter": "python",
   "pygments_lexer": "ipython3",
   "version": "3.9.5"
  }
 },
 "nbformat": 4,
 "nbformat_minor": 5
}
