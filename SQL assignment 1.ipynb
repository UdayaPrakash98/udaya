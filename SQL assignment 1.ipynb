{
 "cells": [
  {
   "cell_type": "code",
   "execution_count": null,
   "id": "6be99fa3",
   "metadata": {},
   "outputs": [],
   "source": [
    "1.Write an SQL query to fetch “FIRST_NAME” from Worker table using the alias\n",
    "name as <WORKER_NAME>\n",
    "\n",
    "SELECT  FIRST_NAME  AS \"WORKER_NAME\"\n",
    "FROM Worker;"
   ]
  },
  {
   "cell_type": "code",
   "execution_count": null,
   "id": "4bead0b1",
   "metadata": {},
   "outputs": [],
   "source": [
    "2.Write an SQL query to fetch unique values of DEPARTMENT from Worker table.\n",
    "\n",
    "SELECT DISTINCT DEPARTMENT \n",
    "FROM Worker;\n"
   ]
  },
  {
   "cell_type": "code",
   "execution_count": null,
   "id": "6352c944",
   "metadata": {},
   "outputs": [],
   "source": [
    "3.Write an SQL query to show the last 5 record from a table.\n",
    "\n",
    "SELECT * FROM Table \n",
    "ORDER BY ID DESC \n",
    "LIMIT 5;"
   ]
  }
 ],
 "metadata": {
  "kernelspec": {
   "display_name": "Python 3",
   "language": "python",
   "name": "python3"
  },
  "language_info": {
   "codemirror_mode": {
    "name": "ipython",
    "version": 3
   },
   "file_extension": ".py",
   "mimetype": "text/x-python",
   "name": "python",
   "nbconvert_exporter": "python",
   "pygments_lexer": "ipython3",
   "version": "3.9.5"
  }
 },
 "nbformat": 4,
 "nbformat_minor": 5
}
