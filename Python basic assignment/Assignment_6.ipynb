{
  "nbformat": 4,
  "nbformat_minor": 0,
  "metadata": {
    "kernelspec": {
      "display_name": "Python 3",
      "language": "python",
      "name": "python3"
    },
    "language_info": {
      "codemirror_mode": {
        "name": "ipython",
        "version": 3
      },
      "file_extension": ".py",
      "mimetype": "text/x-python",
      "name": "python",
      "nbconvert_exporter": "python",
      "pygments_lexer": "ipython3",
      "version": "3.8.5"
    },
    "colab": {
      "name": "Assignment_6.ipynb",
      "provenance": [],
      "collapsed_sections": []
    }
  },
  "cells": [
    {
      "cell_type": "markdown",
      "metadata": {
        "id": "GKZ9-_6Q6E06"
      },
      "source": [
        "### 1. What are escape characters, and how do you use them?"
      ]
    },
    {
      "cell_type": "markdown",
      "metadata": {
        "id": "x2Re6VZc6E0_"
      },
      "source": [
        "#### Backslash \" \\ \" is a special character used to represent certain whitespace character like \\n, \\t, \\r"
      ]
    },
    {
      "cell_type": "code",
      "metadata": {
        "colab": {
          "base_uri": "https://localhost:8080/"
        },
        "id": "rNR7roZ56E1B",
        "outputId": "ed236151-9aab-4254-afb8-b9df46f7f7de"
      },
      "source": [
        "#For example:\n",
        "print(\"hi my name is \\t Vaibhav Gawali\")"
      ],
      "execution_count": 1,
      "outputs": [
        {
          "output_type": "stream",
          "text": [
            "hi my name is \t Vaibhav Gawali\n"
          ],
          "name": "stdout"
        }
      ]
    },
    {
      "cell_type": "markdown",
      "metadata": {
        "id": "TNFwryXc6E1D"
      },
      "source": [
        "### 2. What do the escape characters n and t stand for?"
      ]
    },
    {
      "cell_type": "markdown",
      "metadata": {
        "id": "r926XT3a6E1F"
      },
      "source": [
        "#### \\n == new line\n",
        "#### \\t == tab"
      ]
    },
    {
      "cell_type": "markdown",
      "metadata": {
        "id": "XoFl-xCk6E1F"
      },
      "source": [
        "### 3. What is the way to include backslash characters in a string?"
      ]
    },
    {
      "cell_type": "markdown",
      "metadata": {
        "id": "zIDKvPdF6E1H"
      },
      "source": [
        "to include actual backslash we use \\ \\ ."
      ]
    },
    {
      "cell_type": "markdown",
      "metadata": {
        "id": "Ri0b2xLX6E1I"
      },
      "source": [
        "### 4. The string &quot;Howl&#39;s Moving Castle&quot; is a correct value. Why isn&#39;t the single quote character in the word Howl&#39;s not escaped a problem?"
      ]
    },
    {
      "cell_type": "code",
      "metadata": {
        "id": "NpqhhPh86E1K",
        "outputId": "279f746a-e37a-4252-809f-97b6ab9d6f15"
      },
      "source": [
        "print(\"Howl's Moving Castle\") #because of double quotes."
      ],
      "execution_count": null,
      "outputs": [
        {
          "name": "stdout",
          "output_type": "stream",
          "text": [
            "Howl's Moving Castle\n"
          ]
        }
      ]
    },
    {
      "cell_type": "markdown",
      "metadata": {
        "id": "lV3Bir-X6E1M"
      },
      "source": [
        "### 5. How do you write a string of newlines if you don&#39;t want to use the n character?"
      ]
    },
    {
      "cell_type": "code",
      "metadata": {
        "id": "3FrT-s-D6E1N",
        "outputId": "0ed7d154-de0f-4f59-a5d7-d09553af2126"
      },
      "source": [
        "print(\"hello\", end = \"\\n\")\n",
        "print(\"World\")"
      ],
      "execution_count": null,
      "outputs": [
        {
          "name": "stdout",
          "output_type": "stream",
          "text": [
            "hello\n",
            "World\n"
          ]
        }
      ]
    },
    {
      "cell_type": "markdown",
      "metadata": {
        "id": "9OvbPbB86E1N"
      },
      "source": [
        "### 6. What are the values of the given expressions?\n",
        "### &#39;Hello, world!&#39;[1]\n",
        "### &#39;Hello, world!&#39;[0:5]\n",
        "### &#39;Hello, world!&#39;[:5]\n",
        "### &#39;Hello, world!&#39;[3:]"
      ]
    },
    {
      "cell_type": "code",
      "metadata": {
        "id": "KgOJKo0p6E1O",
        "outputId": "e0b4cf0b-b032-49e5-f932-d419c0ebfe25"
      },
      "source": [
        "'Hello, world!'[1]"
      ],
      "execution_count": null,
      "outputs": [
        {
          "data": {
            "text/plain": [
              "'e'"
            ]
          },
          "execution_count": 8,
          "metadata": {},
          "output_type": "execute_result"
        }
      ]
    },
    {
      "cell_type": "code",
      "metadata": {
        "id": "fRgTYYmP6E1O",
        "outputId": "5a5170a4-50b3-4c9b-d281-1d358aa75602"
      },
      "source": [
        "'Hello, world!'[0:5]"
      ],
      "execution_count": null,
      "outputs": [
        {
          "data": {
            "text/plain": [
              "'Hello'"
            ]
          },
          "execution_count": 9,
          "metadata": {},
          "output_type": "execute_result"
        }
      ]
    },
    {
      "cell_type": "code",
      "metadata": {
        "id": "v6JUNvYT6E1P",
        "outputId": "38235433-bc47-4f2c-cc45-97232c56476a"
      },
      "source": [
        "'Hello, world!'[:5]"
      ],
      "execution_count": null,
      "outputs": [
        {
          "data": {
            "text/plain": [
              "'Hello'"
            ]
          },
          "execution_count": 10,
          "metadata": {},
          "output_type": "execute_result"
        }
      ]
    },
    {
      "cell_type": "code",
      "metadata": {
        "id": "6LKh275J6E1P",
        "outputId": "7768a4cd-bae3-4117-b404-4b7a5b07746a"
      },
      "source": [
        "'Hello, world!'[3:]"
      ],
      "execution_count": null,
      "outputs": [
        {
          "data": {
            "text/plain": [
              "'lo, world!'"
            ]
          },
          "execution_count": 11,
          "metadata": {},
          "output_type": "execute_result"
        }
      ]
    },
    {
      "cell_type": "markdown",
      "metadata": {
        "id": "PCUv6WlT6E1P"
      },
      "source": [
        "### 7. What are the values of the following expressions?\n",
        "### &#39;Hello&#39;.upper()\n",
        "### &#39;Hello&#39;.upper().isupper()\n",
        "### &#39;Hello&#39;.upper().lower()"
      ]
    },
    {
      "cell_type": "code",
      "metadata": {
        "id": "RRFyv2D16E1Q",
        "outputId": "eab0ab1b-deff-4f75-e90e-3dcd0558aaf9"
      },
      "source": [
        "print('Hello'.upper())\n",
        "print('Hello'.upper().isupper())\n",
        "print('Hello'.upper().lower())"
      ],
      "execution_count": null,
      "outputs": [
        {
          "name": "stdout",
          "output_type": "stream",
          "text": [
            "HELLO\n",
            "True\n",
            "hello\n"
          ]
        }
      ]
    },
    {
      "cell_type": "markdown",
      "metadata": {
        "id": "9F9cSggV6E1Q"
      },
      "source": [
        "### 8. What are the values of the following expressions?\n",
        "### &#39;Remember, remember, the fifth of July.&#39;.split()\n",
        "### &#39;-&#39;.join(&#39;There can only one.&#39;.split())"
      ]
    },
    {
      "cell_type": "code",
      "metadata": {
        "id": "vFKU9z6S6E1Q",
        "outputId": "ce6a6888-a6af-4b35-8969-a4cee6ad391d"
      },
      "source": [
        "'Remember, remember, the fifth of July.'.split()"
      ],
      "execution_count": null,
      "outputs": [
        {
          "data": {
            "text/plain": [
              "['Remember,', 'remember,', 'the', 'fifth', 'of', 'July.']"
            ]
          },
          "execution_count": 18,
          "metadata": {},
          "output_type": "execute_result"
        }
      ]
    },
    {
      "cell_type": "code",
      "metadata": {
        "id": "pT170hhg6E1R",
        "outputId": "2308b03d-2041-4784-de31-45a43bc4402f"
      },
      "source": [
        "'-'.join('There can only one.'.split())"
      ],
      "execution_count": null,
      "outputs": [
        {
          "data": {
            "text/plain": [
              "'There-can-only-one.'"
            ]
          },
          "execution_count": 19,
          "metadata": {},
          "output_type": "execute_result"
        }
      ]
    },
    {
      "cell_type": "markdown",
      "metadata": {
        "id": "5PSLQG9F6E1S"
      },
      "source": [
        "### 9. What are the methods for right-justifying, left-justifying, and centering a string?"
      ]
    },
    {
      "cell_type": "markdown",
      "metadata": {
        "id": "6NfsKcXd6E1S"
      },
      "source": [
        "1. rjust()\n",
        "2. ljust()\n",
        "3. center()"
      ]
    },
    {
      "cell_type": "markdown",
      "metadata": {
        "id": "lwV5WBLz6E1S"
      },
      "source": [
        "### 10. What is the best way to remove whitespace characters from the start or end?"
      ]
    },
    {
      "cell_type": "code",
      "metadata": {
        "id": "S4ObThK_6E1S",
        "outputId": "94e95f4a-0f6f-41fb-8d20-21c1aa2ddb2f"
      },
      "source": [
        "string = \"hello world\"\n",
        "string.replace(\" \",\"\")"
      ],
      "execution_count": null,
      "outputs": [
        {
          "data": {
            "text/plain": [
              "'helloworld'"
            ]
          },
          "execution_count": 20,
          "metadata": {},
          "output_type": "execute_result"
        }
      ]
    }
  ]
}