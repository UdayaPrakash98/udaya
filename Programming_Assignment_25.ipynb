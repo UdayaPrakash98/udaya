{
  "nbformat": 4,
  "nbformat_minor": 5,
  "metadata": {
    "kernelspec": {
      "display_name": "Python 3",
      "language": "python",
      "name": "python3"
    },
    "language_info": {
      "codemirror_mode": {
        "name": "ipython",
        "version": 3
      },
      "file_extension": ".py",
      "mimetype": "text/x-python",
      "name": "python",
      "nbconvert_exporter": "python",
      "pygments_lexer": "ipython3",
      "version": "3.8.5"
    },
    "colab": {
      "name": "Programming Assignment_25.ipynb",
      "provenance": []
    }
  },
  "cells": [
    {
      "cell_type": "markdown",
      "metadata": {
        "id": "ec857b00"
      },
      "source": [
        "### Question1\n",
        "#### Create a function that takes three integer arguments (a, b, c) and returns the amount of\n",
        "#### integers which are of equal value.\n",
        "#### Examples\n",
        "#### equal(3, 4, 3) ➞ 2\n",
        "#### equal(1, 1, 1) ➞ 3\n",
        "#### equal(3, 4, 1) ➞ 0\n",
        "#### Notes\n",
        "#### Your function must return 0, 2 or 3."
      ],
      "id": "ec857b00"
    },
    {
      "cell_type": "code",
      "metadata": {
        "id": "6fab25e9"
      },
      "source": [
        "def equal(a,b,c):\n",
        "    if a==b==c:\n",
        "        return 3\n",
        "    elif a==b or a==c:\n",
        "        return 2\n",
        "    else:\n",
        "        return 0"
      ],
      "id": "6fab25e9",
      "execution_count": null,
      "outputs": []
    },
    {
      "cell_type": "code",
      "metadata": {
        "id": "720b2ac1",
        "outputId": "dd25c2a6-0014-4b93-cd17-b029d23cb973"
      },
      "source": [
        "equal(3, 4, 3)"
      ],
      "id": "720b2ac1",
      "execution_count": null,
      "outputs": [
        {
          "data": {
            "text/plain": [
              "2"
            ]
          },
          "execution_count": 15,
          "metadata": {},
          "output_type": "execute_result"
        }
      ]
    },
    {
      "cell_type": "code",
      "metadata": {
        "id": "94822630",
        "outputId": "9f2eda2f-d38b-4e2c-c597-1914b10f35e4"
      },
      "source": [
        "equal(1, 1, 1)"
      ],
      "id": "94822630",
      "execution_count": null,
      "outputs": [
        {
          "data": {
            "text/plain": [
              "3"
            ]
          },
          "execution_count": 16,
          "metadata": {},
          "output_type": "execute_result"
        }
      ]
    },
    {
      "cell_type": "code",
      "metadata": {
        "id": "cd9fd88c",
        "outputId": "7dd768a7-1f69-4f79-cc0c-729c2176e98c"
      },
      "source": [
        "equal(3, 4, 1) "
      ],
      "id": "cd9fd88c",
      "execution_count": null,
      "outputs": [
        {
          "data": {
            "text/plain": [
              "0"
            ]
          },
          "execution_count": 17,
          "metadata": {},
          "output_type": "execute_result"
        }
      ]
    },
    {
      "cell_type": "markdown",
      "metadata": {
        "id": "da4602be"
      },
      "source": [
        "### Question2\n",
        "#### Write a function that converts a dictionary into a list of keys-values tuples.\n",
        "#### Examples\n",
        "#### dict_to_list({\n",
        "#### &quot;D&quot;: 1,\n",
        "#### &quot;B&quot;: 2,\n",
        "#### &quot;C&quot;: 3\n",
        "#### }) ➞ [(&quot;B&quot;, 2), (&quot;C&quot;, 3), (&quot;D&quot;, 1)]\n",
        "#### dict_to_list({\n",
        "#### &quot;likes&quot;: 2,\n",
        "#### &quot;dislikes&quot;: 3,\n",
        "#### &quot;followers&quot;: 10\n",
        "#### }) ➞ [(&quot;dislikes&quot;, 3), (&quot;followers&quot;, 10), (&quot;likes&quot;, 2)]\n",
        "#### Notes\n",
        "#### Return the elements in the list in alphabetical order."
      ],
      "id": "da4602be"
    },
    {
      "cell_type": "code",
      "metadata": {
        "id": "279a5315"
      },
      "source": [
        "def dict_to_list(d):\n",
        "    return sorted(list(d.items()))"
      ],
      "id": "279a5315",
      "execution_count": null,
      "outputs": []
    },
    {
      "cell_type": "code",
      "metadata": {
        "id": "4dddd383",
        "outputId": "68a9d46f-e73a-4b9a-b3f2-8a66fc28661f"
      },
      "source": [
        "dict_to_list({\n",
        "\"D\": 1,\n",
        "\"B\": 2,\n",
        "\"C\": 3\n",
        "})"
      ],
      "id": "4dddd383",
      "execution_count": null,
      "outputs": [
        {
          "data": {
            "text/plain": [
              "[('B', 2), ('C', 3), ('D', 1)]"
            ]
          },
          "execution_count": 26,
          "metadata": {},
          "output_type": "execute_result"
        }
      ]
    },
    {
      "cell_type": "code",
      "metadata": {
        "id": "837139a5",
        "outputId": "0a7d93ea-a13d-456d-b7e5-cfea18279e9a"
      },
      "source": [
        "dict_to_list({\n",
        "\"likes\": 2,\n",
        "\"dislikes\": 3,\n",
        "\"followers\": 10\n",
        "}) "
      ],
      "id": "837139a5",
      "execution_count": null,
      "outputs": [
        {
          "data": {
            "text/plain": [
              "[('dislikes', 3), ('followers', 10), ('likes', 2)]"
            ]
          },
          "execution_count": 28,
          "metadata": {},
          "output_type": "execute_result"
        }
      ]
    },
    {
      "cell_type": "markdown",
      "metadata": {
        "id": "9075efea"
      },
      "source": [
        "### Question3\n",
        "#### Write a function that creates a dictionary with each (key, value) pair being the (lower case,\n",
        "#### upper case) versions of a letter, respectively.\n",
        "#### Examples\n",
        "#### mapping([&quot;p&quot;, &quot;s&quot;]) ➞ { &quot;p&quot;: &quot;P&quot;, &quot;s&quot;: &quot;S&quot; }\n",
        "#### mapping([&quot;a&quot;, &quot;b&quot;, &quot;c&quot;]) ➞ { &quot;a&quot;: &quot;A&quot;, &quot;b&quot;: &quot;B&quot;, &quot;c&quot;: &quot;C&quot; }\n",
        "#### mapping([&quot;a&quot;, &quot;v&quot;, &quot;y&quot;, &quot;z&quot;]) ➞ { &quot;a&quot;: &quot;A&quot;, &quot;v&quot;: &quot;V&quot;, &quot;y&quot;: &quot;Y&quot;, &quot;z&quot;: &quot;Z&quot; }\n",
        "#### Notes\n",
        "#### All of the letters in the input list will always be lowercase."
      ],
      "id": "9075efea"
    },
    {
      "cell_type": "code",
      "metadata": {
        "id": "002e072f"
      },
      "source": [
        "def mapping(l):\n",
        "    return {i.lower():i.upper() for i in l}"
      ],
      "id": "002e072f",
      "execution_count": null,
      "outputs": []
    },
    {
      "cell_type": "code",
      "metadata": {
        "id": "34e6bcbc",
        "outputId": "af96f485-43be-45f0-c1b3-69d62b2544c7"
      },
      "source": [
        "mapping([\"p\", \"s\"])"
      ],
      "id": "34e6bcbc",
      "execution_count": null,
      "outputs": [
        {
          "data": {
            "text/plain": [
              "{'p': 'P', 's': 'S'}"
            ]
          },
          "execution_count": 31,
          "metadata": {},
          "output_type": "execute_result"
        }
      ]
    },
    {
      "cell_type": "code",
      "metadata": {
        "id": "f7ffc898",
        "outputId": "1fe49a2f-d5c6-446a-9c1e-88349df90e3e"
      },
      "source": [
        "mapping([\"a\", \"b\", \"c\"])"
      ],
      "id": "f7ffc898",
      "execution_count": null,
      "outputs": [
        {
          "data": {
            "text/plain": [
              "{'a': 'A', 'b': 'B', 'c': 'C'}"
            ]
          },
          "execution_count": 32,
          "metadata": {},
          "output_type": "execute_result"
        }
      ]
    },
    {
      "cell_type": "code",
      "metadata": {
        "id": "74f2355d",
        "outputId": "425a0473-e622-437b-dcb4-cd020f15512f"
      },
      "source": [
        "mapping([\"a\", \"v\", \"y\", \"z\"])"
      ],
      "id": "74f2355d",
      "execution_count": null,
      "outputs": [
        {
          "data": {
            "text/plain": [
              "{'a': 'A', 'v': 'V', 'y': 'Y', 'z': 'Z'}"
            ]
          },
          "execution_count": 33,
          "metadata": {},
          "output_type": "execute_result"
        }
      ]
    },
    {
      "cell_type": "markdown",
      "metadata": {
        "id": "10bd4935"
      },
      "source": [
        "### Question4\n",
        "#### Write a function, that replaces all vowels in a string with a specified vowel.\n",
        "#### Examples\n",
        "#### vow_replace(&quot;apples and bananas&quot;, &quot;u&quot;) ➞ &quot;upplus und bununus&quot;\n",
        "#### vow_replace(&quot;cheese casserole&quot;, &quot;o&quot;) ➞ &quot;chooso cossorolo&quot;\n",
        "#### vow_replace(&quot;stuffed jalapeno poppers&quot;, &quot;e&quot;) ➞ &quot;steffed jelepene peppers&quot;\n",
        "#### Notes\n",
        "#### All words will be lowercase. Y is not considered a vowel.#"
      ],
      "id": "10bd4935"
    },
    {
      "cell_type": "code",
      "metadata": {
        "id": "f7487825"
      },
      "source": [
        "def vow_replace(string, spl):\n",
        "    rep = []\n",
        "    vowels = 'aeiouAEIOU'\n",
        "    for i in range(len(string)):\n",
        "        if string[i] in vowels:\n",
        "            rep.append(spl)\n",
        "        else:\n",
        "            rep.append(string[i])\n",
        "    return ''.join(rep)"
      ],
      "id": "f7487825",
      "execution_count": null,
      "outputs": []
    },
    {
      "cell_type": "code",
      "metadata": {
        "id": "59e057b3",
        "outputId": "fa0a0b48-9538-4b0c-84bc-9e17199a96cc"
      },
      "source": [
        "vow_replace(\"apples and bananas\", \"u\")"
      ],
      "id": "59e057b3",
      "execution_count": null,
      "outputs": [
        {
          "data": {
            "text/plain": [
              "'upplus und bununus'"
            ]
          },
          "execution_count": 12,
          "metadata": {},
          "output_type": "execute_result"
        }
      ]
    },
    {
      "cell_type": "code",
      "metadata": {
        "id": "ff65ae5b",
        "outputId": "d387b8cd-095d-4765-a1e6-d3bba928da53"
      },
      "source": [
        "vow_replace(\"cheese casserole\", \"o\")"
      ],
      "id": "ff65ae5b",
      "execution_count": null,
      "outputs": [
        {
          "data": {
            "text/plain": [
              "'chooso cossorolo'"
            ]
          },
          "execution_count": 13,
          "metadata": {},
          "output_type": "execute_result"
        }
      ]
    },
    {
      "cell_type": "code",
      "metadata": {
        "id": "c28188d6",
        "outputId": "10422f6f-e506-4d5f-904e-0a89c29d0966"
      },
      "source": [
        "vow_replace(\"stuffed jalapeno poppers\", \"e\")"
      ],
      "id": "c28188d6",
      "execution_count": null,
      "outputs": [
        {
          "data": {
            "text/plain": [
              "'steffed jelepene peppers'"
            ]
          },
          "execution_count": 14,
          "metadata": {},
          "output_type": "execute_result"
        }
      ]
    },
    {
      "cell_type": "markdown",
      "metadata": {
        "id": "f274c35d"
      },
      "source": [
        "### Question5\n",
        "#### Create a function that takes a string as input and capitalizes a letter if its ASCII code is even\n",
        "#### and returns its lower case version if its ASCII code is odd.\n",
        "#### Examples\n",
        "#### ascii_capitalize(&quot;to be or not to be!&quot;) ➞ &quot;To Be oR NoT To Be!&quot;\n",
        "#### ascii_capitalize(&quot;THE LITTLE MERMAID&quot;) ➞ &quot;THe LiTTLe meRmaiD&quot;\n",
        "#### ascii_capitalize(&quot;Oh what a beautiful morning.&quot;) ➞ &quot;oH wHaT a BeauTiFuL\n",
        "#### moRNiNg.&quot; "
      ],
      "id": "f274c35d"
    },
    {
      "cell_type": "code",
      "metadata": {
        "id": "3e02c1a1"
      },
      "source": [
        "def ascii_capitalize(string):\n",
        "    l = []\n",
        "    for i in range(len(string)):\n",
        "        if ord(string[i]) % 2 == 0:\n",
        "            l.append(string[i].upper())\n",
        "        else:\n",
        "            l.append(string[i].lower())\n",
        "\n",
        "    return \"\".join((l))"
      ],
      "id": "3e02c1a1",
      "execution_count": null,
      "outputs": []
    },
    {
      "cell_type": "code",
      "metadata": {
        "id": "fd7f3037",
        "outputId": "b93e9ea7-a794-4008-b48c-084599fb2f8f"
      },
      "source": [
        "ascii_capitalize(\"to be or not to be!\")"
      ],
      "id": "fd7f3037",
      "execution_count": null,
      "outputs": [
        {
          "data": {
            "text/plain": [
              "'To Be oR NoT To Be!'"
            ]
          },
          "execution_count": 16,
          "metadata": {},
          "output_type": "execute_result"
        }
      ]
    },
    {
      "cell_type": "code",
      "metadata": {
        "id": "0f8eb373",
        "outputId": "9d3f1007-e283-41df-db49-5850db825e58"
      },
      "source": [
        "ascii_capitalize(\"THE LITTLE MERMAID\")"
      ],
      "id": "0f8eb373",
      "execution_count": null,
      "outputs": [
        {
          "data": {
            "text/plain": [
              "'THe LiTTLe meRmaiD'"
            ]
          },
          "execution_count": 17,
          "metadata": {},
          "output_type": "execute_result"
        }
      ]
    },
    {
      "cell_type": "code",
      "metadata": {
        "id": "eb33373f",
        "outputId": "f9c106d0-6a18-4222-a429-c4e3ad8fb7f4"
      },
      "source": [
        "ascii_capitalize(\"Oh what a beautiful morning.\")"
      ],
      "id": "eb33373f",
      "execution_count": null,
      "outputs": [
        {
          "data": {
            "text/plain": [
              "'oH wHaT a BeauTiFuL moRNiNg.'"
            ]
          },
          "execution_count": 18,
          "metadata": {},
          "output_type": "execute_result"
        }
      ]
    }
  ]
}