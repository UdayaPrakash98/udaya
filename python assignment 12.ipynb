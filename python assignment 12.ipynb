{
 "cells": [
  {
   "cell_type": "code",
   "execution_count": null,
   "id": "10fcb10f",
   "metadata": {},
   "outputs": [],
   "source": [
    "#Extracting values from dictonary\n",
    "\n",
    "test_dict = {\"Gfg\" : [6, 7, 4, 6], \n",
    "             \"is\" : [8, 9, 5], \n",
    "             \"for\" : [2, 5, 3, 7], \n",
    "             \"Geeks\" : [6, 8, 5, 2]}\n",
    "print(\"The original dictionary is : \" + str(test_dict))\n",
    "res = []\n",
    "for i in test_dict:\n",
    "    for j in test_dict[i]:\n",
    "            res.append(j)\n",
    "print(\"Extracted items : \" + str(res)) "
   ]
  },
  {
   "cell_type": "code",
   "execution_count": null,
   "id": "02ab59f3",
   "metadata": {},
   "outputs": [],
   "source": [
    "#Write a Python program to find the sum of all items in a dictionary?\n",
    "def returnSum(myDict):\n",
    "    sum = 0\n",
    "    for i in myDict:\n",
    "        sum = sum + myDict[i]    \n",
    "    return sum\n",
    "dicti = {'a': 100, 'b':200, 'c':300}\n",
    "print(\"Sum :\", returnSum(dicti))"
   ]
  },
  {
   "cell_type": "code",
   "execution_count": 2,
   "id": "af8cc7a7",
   "metadata": {},
   "outputs": [
    {
     "name": "stdout",
     "output_type": "stream",
     "text": [
      "None\n",
      "{'a': 10, 'b': 8, 'd': 6, 'c': 4}\n"
     ]
    }
   ],
   "source": [
    "#Write a Python program to Merging two Dictionaries?\n",
    "def Merge(dict1, dict2):\n",
    "    return(dict1.update(dict2))\n",
    "dict1 = {'a': 10, 'b': 8}\n",
    "dict2 = {'d': 6, 'c': 4}\n",
    "print(Merge(dict1, dict2))\n",
    "print(dict1)"
   ]
  },
  {
   "cell_type": "code",
   "execution_count": 10,
   "id": "af319000",
   "metadata": {},
   "outputs": [
    {
     "name": "stdout",
     "output_type": "stream",
     "text": [
      "Original dict:  OrderedDict([('iphone', '4'), ('oneplus', '12')])\n",
      "key : hi\n",
      "value : good\n",
      " Dictionary :OrderedDict([('hi', 'good'), ('iphone', '4'), ('oneplus', '12')])\n"
     ]
    }
   ],
   "source": [
    "#Write a Python program to insertion at the beginning in OrderedDict?\n",
    "from collections import OrderedDict\n",
    "myDict = OrderedDict([('iphone', '4'), ('oneplus', '12')])\n",
    "print(\"Original dict: \", (myDict))\n",
    "key = input(\"key : \")\n",
    "value = input(\"value : \")\n",
    "addedDict = OrderedDict([(key, value)])\n",
    "newOrderedDict = OrderedDict(list(addedDict.items()) + list(myDict.items()))\n",
    "print (\" Dictionary :\"+str(newOrderedDict))"
   ]
  },
  {
   "cell_type": "code",
   "execution_count": 14,
   "id": "17b6b936",
   "metadata": {},
   "outputs": [
    {
     "name": "stdout",
     "output_type": "stream",
     "text": [
      "string :hi\n",
      "input pattern :this is elagant\n",
      "The string is \n",
      "hi\n",
      "The input pattern is \n",
      "this is elagant\n",
      "The order of pattern is incorrect\n"
     ]
    }
   ],
   "source": [
    "#Write a Python program to check order of character in string using OrderedDict()?\n",
    "from collections import OrderedDict\n",
    "def check_order(my_input, my_pattern):\n",
    "    my_dict = OrderedDict.fromkeys(my_input)\n",
    "    pattern_length = 0\n",
    "    for key,value in my_dict.items():\n",
    "        if (key == my_pattern[pattern_length]):\n",
    "            pattern_length = pattern_length + 1\n",
    "\n",
    "        if (pattern_length == (len(my_pattern))):\n",
    "            return 'The order of pattern is correct'\n",
    "\n",
    "    return 'The order of pattern is incorrect'\n",
    "\n",
    "my_input = input(\"string :\")\n",
    "input_pattern = input(\"input pattern :\")\n",
    "print(\"The string is \")\n",
    "print(my_input)\n",
    "print(\"The input pattern is \")\n",
    "print(input_pattern)\n",
    "print(check_order(my_input,input_pattern))"
   ]
  },
  {
   "cell_type": "code",
   "execution_count": 22,
   "id": "1697ad3c",
   "metadata": {},
   "outputs": [
    {
     "name": "stdout",
     "output_type": "stream",
     "text": [
      "Task 1:-\n",
      "\n",
      "Keys are\n",
      "1 2 3 4 5 6 "
     ]
    }
   ],
   "source": [
    "#Write a Python program to sort Python Dictionaries by Key or Value?\n",
    "def dictionairy():\n",
    "    key_value ={}   \n",
    "    key_value[2] = 56      \n",
    "    key_value[1] = 2\n",
    "    key_value[5] = 12\n",
    "    key_value[4] = 24\n",
    "    key_value[6] = 18     \n",
    "    key_value[3] = 323\n",
    "    print (\"Task 1:-\\n\")\n",
    "    print (\"Keys are\")\n",
    "    for i in sorted (key_value.keys()) :\n",
    "        print(i, end = \" \") \n",
    "def main():\n",
    "    dictionairy()            \n",
    "if __name__==\"__main__\":     \n",
    "    main()"
   ]
  },
  {
   "cell_type": "code",
   "execution_count": null,
   "id": "0ea774e1",
   "metadata": {},
   "outputs": [],
   "source": []
  }
 ],
 "metadata": {
  "kernelspec": {
   "display_name": "Python 3",
   "language": "python",
   "name": "python3"
  },
  "language_info": {
   "codemirror_mode": {
    "name": "ipython",
    "version": 3
   },
   "file_extension": ".py",
   "mimetype": "text/x-python",
   "name": "python",
   "nbconvert_exporter": "python",
   "pygments_lexer": "ipython3",
   "version": "3.9.5"
  }
 },
 "nbformat": 4,
 "nbformat_minor": 5
}
