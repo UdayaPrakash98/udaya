{
  "nbformat": 4,
  "nbformat_minor": 5,
  "metadata": {
    "kernelspec": {
      "display_name": "Python 3",
      "language": "python",
      "name": "python3"
    },
    "language_info": {
      "codemirror_mode": {
        "name": "ipython",
        "version": 3
      },
      "file_extension": ".py",
      "mimetype": "text/x-python",
      "name": "python",
      "nbconvert_exporter": "python",
      "pygments_lexer": "ipython3",
      "version": "3.8.5"
    },
    "colab": {
      "name": "Assignment_15.ipynb",
      "provenance": []
    }
  },
  "cells": [
    {
      "cell_type": "markdown",
      "metadata": {
        "id": "918c88c1"
      },
      "source": [
        "### 1.How many seconds are in an hour? Use the interactive interpreter as a calculator and multiply the number of seconds in a minute (60) by the number of minutes in an hour (also 60)."
      ],
      "id": "918c88c1"
    },
    {
      "cell_type": "code",
      "metadata": {
        "id": "dd0cbeda",
        "outputId": "71f5cf98-0ec1-4ee9-eec4-7dbff596ef15"
      },
      "source": [
        "60*60"
      ],
      "id": "dd0cbeda",
      "execution_count": null,
      "outputs": [
        {
          "data": {
            "text/plain": [
              "3600"
            ]
          },
          "execution_count": 1,
          "metadata": {},
          "output_type": "execute_result"
        }
      ]
    },
    {
      "cell_type": "markdown",
      "metadata": {
        "id": "862fd132"
      },
      "source": [
        "### 2. Assign the result from the previous task (seconds in an hour) to a variable called seconds_per_hour."
      ],
      "id": "862fd132"
    },
    {
      "cell_type": "code",
      "metadata": {
        "id": "2759fb0a"
      },
      "source": [
        "seconds_per_hour = 3600"
      ],
      "id": "2759fb0a",
      "execution_count": null,
      "outputs": []
    },
    {
      "cell_type": "markdown",
      "metadata": {
        "id": "54695570"
      },
      "source": [
        "### 3. How many seconds do you think there are in a day? Make use of the variables seconds per hour and minutes per hour."
      ],
      "id": "54695570"
    },
    {
      "cell_type": "code",
      "metadata": {
        "id": "470a2376",
        "outputId": "e44d7929-7bf9-4bf7-d419-cd8de4cb0bac"
      },
      "source": [
        "minutes_per_hour = 60\n",
        "seconds_per_hour*24\n"
      ],
      "id": "470a2376",
      "execution_count": null,
      "outputs": [
        {
          "data": {
            "text/plain": [
              "86400"
            ]
          },
          "execution_count": 4,
          "metadata": {},
          "output_type": "execute_result"
        }
      ]
    },
    {
      "cell_type": "markdown",
      "metadata": {
        "id": "d9fb5514"
      },
      "source": [
        "### 4. Calculate seconds per day again, but this time save the result in a variable called seconds_per_day"
      ],
      "id": "d9fb5514"
    },
    {
      "cell_type": "code",
      "metadata": {
        "id": "efce11d4",
        "outputId": "6491c227-4f4f-4706-f6c9-6eed8ec12ed9"
      },
      "source": [
        "seconds_per_day = seconds_per_hour*24\n",
        "seconds_per_day"
      ],
      "id": "efce11d4",
      "execution_count": null,
      "outputs": [
        {
          "data": {
            "text/plain": [
              "86400"
            ]
          },
          "execution_count": 6,
          "metadata": {},
          "output_type": "execute_result"
        }
      ]
    },
    {
      "cell_type": "markdown",
      "metadata": {
        "id": "27278ad9"
      },
      "source": [
        "### 5. Divide seconds_per_day by seconds_per_hour. Use floating-point (/) division."
      ],
      "id": "27278ad9"
    },
    {
      "cell_type": "code",
      "metadata": {
        "id": "8e3b853a",
        "outputId": "ad06b039-ba86-4408-f897-4d1964c75989"
      },
      "source": [
        "seconds_per_day/seconds_per_hour"
      ],
      "id": "8e3b853a",
      "execution_count": null,
      "outputs": [
        {
          "data": {
            "text/plain": [
              "24.0"
            ]
          },
          "execution_count": 10,
          "metadata": {},
          "output_type": "execute_result"
        }
      ]
    },
    {
      "cell_type": "markdown",
      "metadata": {
        "id": "8ffaab93"
      },
      "source": [
        "### 6. Divide seconds_per_day by seconds_per_hour, using integer (//) division. Did this number agree with the floating-point value from the previous question, aside from the final .0?"
      ],
      "id": "8ffaab93"
    },
    {
      "cell_type": "code",
      "metadata": {
        "id": "cd3be20f",
        "outputId": "0b5c25ce-089c-4c42-920c-e59774e76aaa"
      },
      "source": [
        "seconds_per_day//seconds_per_hour"
      ],
      "id": "cd3be20f",
      "execution_count": null,
      "outputs": [
        {
          "data": {
            "text/plain": [
              "24"
            ]
          },
          "execution_count": 11,
          "metadata": {},
          "output_type": "execute_result"
        }
      ]
    },
    {
      "cell_type": "markdown",
      "metadata": {
        "id": "5d605d0e"
      },
      "source": [
        "### 7. Write a generator, genPrimes, that returns the sequence of prime numbers on successive calls to its next() method: 2, 3, 5, 7, 11, ..."
      ],
      "id": "5d605d0e"
    },
    {
      "cell_type": "code",
      "metadata": {
        "id": "23e9a9e8"
      },
      "source": [
        "def getPrimes():\n",
        "    prime = []\n",
        "    n = 2\n",
        "    while True:\n",
        "        \n",
        "        for i in prime:\n",
        "            if n%i==0:\n",
        "                break\n",
        "        else:\n",
        "            prime.append(n)\n",
        "            yield n\n",
        "        n=n+1\n",
        "generator = getPrimes()"
      ],
      "id": "23e9a9e8",
      "execution_count": null,
      "outputs": []
    },
    {
      "cell_type": "code",
      "metadata": {
        "id": "75ac71f2",
        "outputId": "00825754-9357-4234-ce3d-4f3030268f74"
      },
      "source": [
        "next(generator)"
      ],
      "id": "75ac71f2",
      "execution_count": null,
      "outputs": [
        {
          "data": {
            "text/plain": [
              "2"
            ]
          },
          "execution_count": 8,
          "metadata": {},
          "output_type": "execute_result"
        }
      ]
    },
    {
      "cell_type": "code",
      "metadata": {
        "id": "70a62cf0",
        "outputId": "4b65fe61-31a9-4434-a1c4-cfd54599d18a"
      },
      "source": [
        "next(generator)"
      ],
      "id": "70a62cf0",
      "execution_count": null,
      "outputs": [
        {
          "data": {
            "text/plain": [
              "19"
            ]
          },
          "execution_count": 15,
          "metadata": {},
          "output_type": "execute_result"
        }
      ]
    }
  ]
}