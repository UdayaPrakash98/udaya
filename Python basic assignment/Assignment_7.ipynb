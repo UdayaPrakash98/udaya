{
  "nbformat": 4,
  "nbformat_minor": 0,
  "metadata": {
    "kernelspec": {
      "display_name": "Python 3",
      "language": "python",
      "name": "python3"
    },
    "language_info": {
      "codemirror_mode": {
        "name": "ipython",
        "version": 3
      },
      "file_extension": ".py",
      "mimetype": "text/x-python",
      "name": "python",
      "nbconvert_exporter": "python",
      "pygments_lexer": "ipython3",
      "version": "3.8.5"
    },
    "colab": {
      "name": "Assignment_7.ipynb",
      "provenance": [],
      "collapsed_sections": []
    }
  },
  "cells": [
    {
      "cell_type": "markdown",
      "metadata": {
        "id": "uS9ML4W_6YOy"
      },
      "source": [
        "### 1. What is the name of the feature responsible for generating Regex objects?"
      ]
    },
    {
      "cell_type": "markdown",
      "metadata": {
        "id": "dFbP8z416YO2"
      },
      "source": [
        "re module is used for generation of Regex objects {re.compitle()}"
      ]
    },
    {
      "cell_type": "markdown",
      "metadata": {
        "id": "hFGnQ-mI6YO4"
      },
      "source": [
        "### 2. Why do raw strings often appear in Regex objects?"
      ]
    },
    {
      "cell_type": "markdown",
      "metadata": {
        "id": "3d0kVcOd6YO5"
      },
      "source": [
        "to prevent backslash from excaping."
      ]
    },
    {
      "cell_type": "markdown",
      "metadata": {
        "id": "3RHrNHhc6YO6"
      },
      "source": [
        "### 3. What is the return value of the search() method?"
      ]
    },
    {
      "cell_type": "markdown",
      "metadata": {
        "id": "iDwphkjV6YO7"
      },
      "source": [
        "if it finds the pattern then it returns match object else none."
      ]
    },
    {
      "cell_type": "markdown",
      "metadata": {
        "id": "sAQH4Ofj6YO8"
      },
      "source": [
        "### 4. From a Match item, how do you get the actual strings that match the pattern?"
      ]
    },
    {
      "cell_type": "markdown",
      "metadata": {
        "id": "isu53Tak6YO-"
      },
      "source": [
        "group() method returns matched pattern"
      ]
    },
    {
      "cell_type": "markdown",
      "metadata": {
        "id": "awLUDPy16YO_"
      },
      "source": [
        "### 5. In the regex which created from the r&#39;(\\d\\d\\d)-(\\d\\d\\d-\\d\\d\\d\\d)&#39;, what does group zero cover? Group 2? Group 1?\n"
      ]
    },
    {
      "cell_type": "markdown",
      "metadata": {
        "id": "7JtNYZlZ6YPB"
      },
      "source": [
        "    group 0 covers whole part\n",
        "    group 1 covers first part\n",
        "    group 2 covers second part"
      ]
    },
    {
      "cell_type": "markdown",
      "metadata": {
        "id": "rjxmhfu66YPD"
      },
      "source": [
        "### 6. In standard expression syntax, parentheses and intervals have distinct meanings. How can you tell a regex that you want it to fit real parentheses and periods?"
      ]
    },
    {
      "cell_type": "markdown",
      "metadata": {
        "id": "pvOyzuSD6YPD"
      },
      "source": [
        "      \\., \\(, and \\)"
      ]
    },
    {
      "cell_type": "markdown",
      "metadata": {
        "id": "EbdqWKid6YPE"
      },
      "source": [
        "### 7. The findall() method returns a string list or a list of string tuples. What causes it to return one of the two options?"
      ]
    },
    {
      "cell_type": "markdown",
      "metadata": {
        "id": "fHw2DQBm6YPE"
      },
      "source": [
        "    when we enclose our pattern inside \"()\" it will return tuple\n",
        "    when we enclose our pattern without using \"()\" it will return tuple"
      ]
    },
    {
      "cell_type": "markdown",
      "metadata": {
        "id": "3wmvmtKs6YPF"
      },
      "source": [
        "### 8. In standard expressions, what does the | character mean?"
      ]
    },
    {
      "cell_type": "markdown",
      "metadata": {
        "id": "8h11i-nd6YPG"
      },
      "source": [
        "    in standard ecpression \" | \" means  Alternation / OR operand."
      ]
    },
    {
      "cell_type": "markdown",
      "metadata": {
        "id": "YPg35v686YPG"
      },
      "source": [
        "### 9. In regular expressions, what does the ? character stand for?"
      ]
    },
    {
      "cell_type": "markdown",
      "metadata": {
        "id": "Sw2gwKOS6YPG"
      },
      "source": [
        "    it stands for match zero or one of the preceding group"
      ]
    },
    {
      "cell_type": "markdown",
      "metadata": {
        "id": "6oAU7WFA6YPH"
      },
      "source": [
        "### 10.In regular expressions, what is the difference between the + and * characters?"
      ]
    },
    {
      "cell_type": "markdown",
      "metadata": {
        "id": "NSzZzK8m6YPH"
      },
      "source": [
        "    + means one or more\n",
        "    * means zero or more"
      ]
    },
    {
      "cell_type": "markdown",
      "metadata": {
        "id": "oSrzJqN-6YPH"
      },
      "source": [
        "### 11. What is the difference between {4} and {4,5} in regular expression?"
      ]
    },
    {
      "cell_type": "markdown",
      "metadata": {
        "id": "7VOyGwGz6YPI"
      },
      "source": [
        "    {4} Matches the expression to its left 4 times, and not less.\n",
        "    {4,5) Matches the expression to its left 4 to 5 times, and not less."
      ]
    },
    {
      "cell_type": "markdown",
      "metadata": {
        "id": "zwE4Jq_U6YPI"
      },
      "source": [
        "### 12. What do you mean by the \\d, \\w, and \\s shorthand character classes signify in regular expressions?"
      ]
    },
    {
      "cell_type": "markdown",
      "metadata": {
        "id": "vqbTgDyg6YPJ"
      },
      "source": [
        "    \\d Matches digits, which means 0-9.\n",
        "    \\w Matches alphanumeric characters, which means a-z, A-Z, and 0-9. It also matches the underscore, _.\n",
        "    \\s Matches whitespace characters, which include the \\t, \\n, \\r, and space characters."
      ]
    },
    {
      "cell_type": "markdown",
      "metadata": {
        "id": "-kFnWWQ36YPJ"
      },
      "source": [
        "### 13. What do means by \\D, \\W, and \\S shorthand character classes signify in regular expressions?"
      ]
    },
    {
      "cell_type": "markdown",
      "metadata": {
        "id": "6AoBP16_6YPJ"
      },
      "source": [
        "    \\D Matches any non-digits. \n",
        "    \\W Matches any non-word character.\n",
        "    \\S Matches non-whitespace characters."
      ]
    },
    {
      "cell_type": "markdown",
      "metadata": {
        "id": "TUBkK1qM6YPJ"
      },
      "source": [
        "### 14. What is the difference between .* ? and .* ?"
      ]
    },
    {
      "cell_type": "markdown",
      "metadata": {
        "id": "PdFfIrT36YPK"
      },
      "source": [
        "     .*? adds ?, a quantifier that matches the preceding element (the \".*\" here) 0 or 1 times.\n",
        "     .* adds *, a quantifier that matches the preceding element (the \".\" here) 0 or more times."
      ]
    },
    {
      "cell_type": "markdown",
      "metadata": {
        "id": "33GbpaD06YPK"
      },
      "source": [
        "### 15. What is the syntax for matching both numbers and lowercase letters with a character class?"
      ]
    },
    {
      "cell_type": "code",
      "metadata": {
        "id": "K46cuwta6YPL"
      },
      "source": [
        "import re"
      ],
      "execution_count": 1,
      "outputs": []
    },
    {
      "cell_type": "code",
      "metadata": {
        "id": "99YsCZDO6YPL"
      },
      "source": [
        "def match(text):\n",
        "    patterns = '^[a-z0-9]*$'\n",
        "    if re.search(patterns,text):\n",
        "        return \"matched\"\n",
        "    else:\n",
        "        return\"not matched\""
      ],
      "execution_count": 2,
      "outputs": []
    },
    {
      "cell_type": "code",
      "metadata": {
        "colab": {
          "base_uri": "https://localhost:8080/"
        },
        "id": "zzGXFjDt6YPM",
        "outputId": "62f54bcc-6634-468b-b6b8-06031a54f26b"
      },
      "source": [
        "print(match(\"vaibhavg123\"))"
      ],
      "execution_count": 3,
      "outputs": [
        {
          "output_type": "stream",
          "text": [
            "matched\n"
          ],
          "name": "stdout"
        }
      ]
    },
    {
      "cell_type": "markdown",
      "metadata": {
        "id": "IF9aLDhu6YPN"
      },
      "source": [
        "### 16. What is the procedure for making a normal expression in regax case insensitive?"
      ]
    },
    {
      "cell_type": "markdown",
      "metadata": {
        "id": "7nPs29nX6YPO"
      },
      "source": [
        "    use re.IGNORECASE to search, match, or sub"
      ]
    },
    {
      "cell_type": "markdown",
      "metadata": {
        "id": "vhrtJAlW6YPO"
      },
      "source": [
        "### 17. What does the . character normally match? What does it match if re.DOTALL is passed as 2nd argument in re.compile()?"
      ]
    },
    {
      "cell_type": "markdown",
      "metadata": {
        "id": "swFYZeui6YPO"
      },
      "source": [
        "    dot character matches everything in input except newline character\n",
        "    By passing re. DOTALL as the second argument to re. compile() , you can make the dot character match all characters,       including the newline character."
      ]
    },
    {
      "cell_type": "markdown",
      "metadata": {
        "id": "urfT5sic6YPO"
      },
      "source": [
        "### 18. If numReg = re.compile(r&#39;\\d+&#39;), what will numRegex.sub(&#39;X&#39;, &#39;11 drummers, 10 pipers, five rings, 4 hen&#39;) return?"
      ]
    },
    {
      "cell_type": "markdown",
      "metadata": {
        "id": "n6QfU9Vq6YPO"
      },
      "source": [
        "'X drummers, X pipers, five rings, X hens'"
      ]
    },
    {
      "cell_type": "markdown",
      "metadata": {
        "id": "SK1sUuSY6YPP"
      },
      "source": [
        "### 19. What does passing re.VERBOSE as the 2nd argument to re.compile() allow to do?"
      ]
    },
    {
      "cell_type": "markdown",
      "metadata": {
        "id": "yQN2dc6F6YPP"
      },
      "source": [
        "    it will allow to add whitespace and comments to string passed to re.compile()."
      ]
    },
    {
      "cell_type": "markdown",
      "metadata": {
        "id": "Ygw0hlLm6YPP"
      },
      "source": [
        "### 20. How would you write a regex that match a number with comma for every three digits? It must match the given following:\n",
        "#### '42'\n",
        "#### '1,234'\n",
        "#### '6,368,745'\n",
        "#### but not the following:\n",
        "#### &#39;12,34,567&#39; (which has only two digits between the commas)\n",
        "#### &#39;1234&#39; (which lacks commas)   \n",
        "    \n",
        "    \n",
        "    "
      ]
    },
    {
      "cell_type": "code",
      "metadata": {
        "id": "IR6KOIZY6YPP",
        "outputId": "27922ad8-0476-4067-994b-1793f8b42b09"
      },
      "source": [
        "re.compile(r'^\\d{1,3}(,\\d{3})*$')"
      ],
      "execution_count": null,
      "outputs": [
        {
          "data": {
            "text/plain": [
              "re.compile(r'^\\d{1,3}(,\\d{3})*$', re.UNICODE)"
            ]
          },
          "execution_count": 8,
          "metadata": {},
          "output_type": "execute_result"
        }
      ]
    },
    {
      "cell_type": "markdown",
      "metadata": {
        "id": "rrz90oRJ6YPQ"
      },
      "source": [
        "### 21. How would you write a regex that matches the full name of someone whose last name is Watanabe? You can assume that the first name that comes before it will always be one word that begins with a capital letter. The regex must match the following:\n",
        "#### &#39;Haruto Watanabe&#39;\n",
        "#### &#39;Alice Watanabe&#39;\n",
        "#### &#39;RoboCop Watanabe&#39;\n",
        "#### but not the following:\n",
        "#### &#39;haruto Watanabe&#39; (where the first name is not capitalized)\n",
        "#### &#39;Mr. Watanabe&#39; (where the preceding word has a nonletter character)\n",
        "#### &#39;Watanabe&#39; (which has no first name)\n",
        "#### &#39;Haruto watanabe&#39; (where Watanabe is not capitalized)"
      ]
    },
    {
      "cell_type": "code",
      "metadata": {
        "id": "XvxiaJBz6YPQ",
        "outputId": "be77560a-a24c-47ef-f603-c66e57c8972a"
      },
      "source": [
        "re.compile(r'[A-Z][a-z]*\\sNakamoto')"
      ],
      "execution_count": null,
      "outputs": [
        {
          "data": {
            "text/plain": [
              "re.compile(r'[A-Z][a-z]*\\sNakamoto', re.UNICODE)"
            ]
          },
          "execution_count": 9,
          "metadata": {},
          "output_type": "execute_result"
        }
      ]
    },
    {
      "cell_type": "markdown",
      "metadata": {
        "id": "v1jza4U36YPQ"
      },
      "source": [
        "### 22. How would you write a regex that matches a sentence where the first word is either Alice, Bob,or Carol; the second word is either eats, pets, or throws; the third word is apples, cats, or baseballs; and the sentence ends with a period? This regex should be case-insensitive. It must match the following:\n",
        "#### &#39;Alice eats apples.&#39;\n",
        "#### &#39;Bob pets cats.&#39;\n",
        "#### &#39;Carol throws baseballs.&#39;\n",
        "#### &#39;Alice throws Apples.&#39;\n",
        "#### &#39;BOB EATS CATS.&#39;\n",
        "#### but not the following:\n",
        "#### &#39;RoboCop eats apples.&#39;\n",
        "#### &#39;ALICE THROWS FOOTBALLS.&#39;\n",
        "#### &#39;Carol eats 7 cats.&#39;"
      ]
    },
    {
      "cell_type": "code",
      "metadata": {
        "id": "l7Ic1Hx46YPQ",
        "outputId": "51604d59-da0b-4af0-ef24-a4d1acae42a8"
      },
      "source": [
        "re.compile(r'(Alice|Bob|Carol)\\s(eats|pets|throws)\\s(apples|cats|baseballs)\\.', re.IGNORECASE)"
      ],
      "execution_count": null,
      "outputs": [
        {
          "data": {
            "text/plain": [
              "re.compile(r'(Alice|Bob|Carol)\\s(eats|pets|throws)\\s(apples|cats|baseballs)\\.',\n",
              "re.IGNORECASE|re.UNICODE)"
            ]
          },
          "execution_count": 10,
          "metadata": {},
          "output_type": "execute_result"
        }
      ]
    }
  ]
}