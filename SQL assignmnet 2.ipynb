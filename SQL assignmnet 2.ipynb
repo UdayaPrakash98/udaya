{
 "cells": [
  {
   "cell_type": "code",
   "execution_count": null,
   "id": "df86122d",
   "metadata": {},
   "outputs": [],
   "source": [
    "1.Write an SQL query to print the first three characters of  FIRST_NAME from Worker\n",
    "table.\n",
    "\n",
    "SELECT LEFT(FIRST_NAME,3)\n",
    "FROM Worker;\n",
    "    \n",
    "    or\n",
    "\n",
    "SELECT SUBSTRING(FIRST_NAME,1,3)\n",
    "FROM Worker ;"
   ]
  },
  {
   "cell_type": "code",
   "execution_count": null,
   "id": "d622e582",
   "metadata": {},
   "outputs": [],
   "source": [
    "2.Write an SQL query to find the position of the alphabet (‘a’) in the first name\n",
    "column ‘Amitabh’ from Worker table.\n",
    "\n",
    "SELECT POSITION(\"a\" IN \"Amitabh\") \n",
    "FROM Worker;\n"
   ]
  },
  {
   "cell_type": "code",
   "execution_count": null,
   "id": "1b59e787",
   "metadata": {},
   "outputs": [],
   "source": [
    "3.Write an SQL query to print the name of employees having the highest salary in each\n",
    "department.\n",
    "\n",
    "SELECT DepartmentName, MAX(Salary) \n",
    "FROM employee.e RIGHT JOIN \n",
    "Department.d ON e.DepartmentId = d.DepartmentID \n",
    "GROUP BY DepartmentName "
   ]
  }
 ],
 "metadata": {
  "kernelspec": {
   "display_name": "Python 3",
   "language": "python",
   "name": "python3"
  },
  "language_info": {
   "codemirror_mode": {
    "name": "ipython",
    "version": 3
   },
   "file_extension": ".py",
   "mimetype": "text/x-python",
   "name": "python",
   "nbconvert_exporter": "python",
   "pygments_lexer": "ipython3",
   "version": "3.9.5"
  }
 },
 "nbformat": 4,
 "nbformat_minor": 5
}
