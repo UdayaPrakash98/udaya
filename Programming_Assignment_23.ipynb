{
  "nbformat": 4,
  "nbformat_minor": 5,
  "metadata": {
    "kernelspec": {
      "display_name": "Python 3",
      "language": "python",
      "name": "python3"
    },
    "language_info": {
      "codemirror_mode": {
        "name": "ipython",
        "version": 3
      },
      "file_extension": ".py",
      "mimetype": "text/x-python",
      "name": "python",
      "nbconvert_exporter": "python",
      "pygments_lexer": "ipython3",
      "version": "3.8.5"
    },
    "colab": {
      "name": "Programming Assignment_23.ipynb",
      "provenance": []
    }
  },
  "cells": [
    {
      "cell_type": "markdown",
      "metadata": {
        "id": "6af6590b"
      },
      "source": [
        "### Question 1\n",
        "#### Create a function that takes a number as an argument and returns True or False depending\n",
        "#### on whether the number is symmetrical or not. A number is symmetrical when it is the same as\n",
        "#### its reverse.\n",
        "#### Examples\n",
        "#### is_symmetrical(7227) ➞ True\n",
        "#### is_symmetrical(12567) ➞ False\n",
        "#### is_symmetrical(44444444) ➞ True\n",
        "#### is_symmetrical(9939) ➞ False\n",
        "#### is_symmetrical(1112111) ➞ True"
      ],
      "id": "6af6590b"
    },
    {
      "cell_type": "code",
      "metadata": {
        "id": "5044cb3b"
      },
      "source": [
        "def is_symmetrical(n):\n",
        "    rev = str(n)[::-1]\n",
        "    #print(rev)\n",
        "    if rev == str(n):\n",
        "        return True\n",
        "    return False\n",
        "        "
      ],
      "id": "5044cb3b",
      "execution_count": null,
      "outputs": []
    },
    {
      "cell_type": "code",
      "metadata": {
        "id": "373ed4f5",
        "outputId": "0ddd1120-6123-41e2-8e67-9ad1be2a27ac"
      },
      "source": [
        "is_symmetrical(7227)"
      ],
      "id": "373ed4f5",
      "execution_count": null,
      "outputs": [
        {
          "data": {
            "text/plain": [
              "True"
            ]
          },
          "execution_count": 19,
          "metadata": {},
          "output_type": "execute_result"
        }
      ]
    },
    {
      "cell_type": "code",
      "metadata": {
        "id": "0590253c",
        "outputId": "25d61124-bd93-4d5a-fccf-90d01c10fbb0"
      },
      "source": [
        "is_symmetrical(12567)"
      ],
      "id": "0590253c",
      "execution_count": null,
      "outputs": [
        {
          "data": {
            "text/plain": [
              "False"
            ]
          },
          "execution_count": 20,
          "metadata": {},
          "output_type": "execute_result"
        }
      ]
    },
    {
      "cell_type": "code",
      "metadata": {
        "id": "222a7dea",
        "outputId": "b9c77aba-cf7e-4633-ae48-6f2a15c8f6ee"
      },
      "source": [
        "is_symmetrical(44444444)"
      ],
      "id": "222a7dea",
      "execution_count": null,
      "outputs": [
        {
          "data": {
            "text/plain": [
              "True"
            ]
          },
          "execution_count": 21,
          "metadata": {},
          "output_type": "execute_result"
        }
      ]
    },
    {
      "cell_type": "code",
      "metadata": {
        "id": "fd06126c",
        "outputId": "478197a0-6dff-4611-9b54-f6e78ab77dd9"
      },
      "source": [
        "is_symmetrical(9939)"
      ],
      "id": "fd06126c",
      "execution_count": null,
      "outputs": [
        {
          "data": {
            "text/plain": [
              "False"
            ]
          },
          "execution_count": 22,
          "metadata": {},
          "output_type": "execute_result"
        }
      ]
    },
    {
      "cell_type": "code",
      "metadata": {
        "id": "90a831a1",
        "outputId": "d5d229d5-87f6-42e3-8b47-5a27c8ab93aa"
      },
      "source": [
        "is_symmetrical(1112111)"
      ],
      "id": "90a831a1",
      "execution_count": null,
      "outputs": [
        {
          "data": {
            "text/plain": [
              "True"
            ]
          },
          "execution_count": 23,
          "metadata": {},
          "output_type": "execute_result"
        }
      ]
    },
    {
      "cell_type": "markdown",
      "metadata": {
        "id": "322b29f2"
      },
      "source": [
        "### Question 2\n",
        "#### Given a string of numbers separated by a comma and space, return the product of the\n",
        "#### numbers.\n",
        "#### Examples\n",
        "#### multiply_nums(&quot;2, 3&quot;) ➞ 6\n",
        "#### multiply_nums(&quot;1, 2, 3, 4&quot;) ➞ 24\n",
        "#### multiply_nums(&quot;54, 75, 453, 0&quot;) ➞ 0\n",
        "#### multiply_nums(&quot;10, -2&quot;) ➞ -20"
      ],
      "id": "322b29f2"
    },
    {
      "cell_type": "code",
      "metadata": {
        "id": "bd4a710a"
      },
      "source": [
        "def multiply_nums(s):\n",
        "    s = s.replace(' ', \"\")\n",
        "    s = s.split(',')\n",
        "    sum = 1\n",
        "    for i in s:\n",
        "        sum = sum * int(i)\n",
        "    return sum"
      ],
      "id": "bd4a710a",
      "execution_count": null,
      "outputs": []
    },
    {
      "cell_type": "code",
      "metadata": {
        "id": "dda410f0",
        "outputId": "2717ddf2-d6b7-4c71-c352-6271ca807b7f"
      },
      "source": [
        "multiply_nums(\"2, 3\")"
      ],
      "id": "dda410f0",
      "execution_count": null,
      "outputs": [
        {
          "data": {
            "text/plain": [
              "6"
            ]
          },
          "execution_count": 50,
          "metadata": {},
          "output_type": "execute_result"
        }
      ]
    },
    {
      "cell_type": "code",
      "metadata": {
        "id": "b502ca7d",
        "outputId": "fed63a56-9f4a-4d14-d868-1741d3135903"
      },
      "source": [
        "multiply_nums(\"1, 2, 3, 4\")"
      ],
      "id": "b502ca7d",
      "execution_count": null,
      "outputs": [
        {
          "data": {
            "text/plain": [
              "24"
            ]
          },
          "execution_count": 51,
          "metadata": {},
          "output_type": "execute_result"
        }
      ]
    },
    {
      "cell_type": "code",
      "metadata": {
        "id": "1001aecd",
        "outputId": "22456e57-efef-4256-be6b-594ca56e4ff6"
      },
      "source": [
        "multiply_nums(\"54, 75, 453, 0\")"
      ],
      "id": "1001aecd",
      "execution_count": null,
      "outputs": [
        {
          "data": {
            "text/plain": [
              "0"
            ]
          },
          "execution_count": 52,
          "metadata": {},
          "output_type": "execute_result"
        }
      ]
    },
    {
      "cell_type": "code",
      "metadata": {
        "id": "e5770aa8",
        "outputId": "198c0b28-00ff-4039-fdf6-ebb12dc106e9"
      },
      "source": [
        "multiply_nums(\"10, -2\")"
      ],
      "id": "e5770aa8",
      "execution_count": null,
      "outputs": [
        {
          "data": {
            "text/plain": [
              "-20"
            ]
          },
          "execution_count": 53,
          "metadata": {},
          "output_type": "execute_result"
        }
      ]
    },
    {
      "cell_type": "markdown",
      "metadata": {
        "id": "3424845f"
      },
      "source": [
        "### Question 3\n",
        "#### Create a function that squares every digit of a number.\n",
        "#### Examples\n",
        "#### square_digits(9119) ➞ 811181\n",
        "#### square_digits(2483) ➞ 416649\n",
        "#### square_digits(3212) ➞ 9414\n",
        "#### Notes\n",
        "#### The function receives an integer and must return an integer."
      ],
      "id": "3424845f"
    },
    {
      "cell_type": "code",
      "metadata": {
        "id": "09349edb"
      },
      "source": [
        "def square_digits(n):\n",
        "    sq = ''.join(str(int(i)**2) for i in str(n))\n",
        "    return int(sq)\n",
        "    \n",
        "    "
      ],
      "id": "09349edb",
      "execution_count": null,
      "outputs": []
    },
    {
      "cell_type": "code",
      "metadata": {
        "id": "3d011c60",
        "outputId": "348dd648-0c6b-4d41-d962-a89149741ceb"
      },
      "source": [
        "square_digits(9119)"
      ],
      "id": "3d011c60",
      "execution_count": null,
      "outputs": [
        {
          "data": {
            "text/plain": [
              "811181"
            ]
          },
          "execution_count": 88,
          "metadata": {},
          "output_type": "execute_result"
        }
      ]
    },
    {
      "cell_type": "code",
      "metadata": {
        "id": "67100b07",
        "outputId": "6c9de060-b4e2-4629-8fb1-6a77f5f72762"
      },
      "source": [
        "square_digits(2483)"
      ],
      "id": "67100b07",
      "execution_count": null,
      "outputs": [
        {
          "data": {
            "text/plain": [
              "416649"
            ]
          },
          "execution_count": 89,
          "metadata": {},
          "output_type": "execute_result"
        }
      ]
    },
    {
      "cell_type": "code",
      "metadata": {
        "id": "26e873c2",
        "outputId": "5c615b63-2c1f-4ef7-dbaa-a2d2f949e4da"
      },
      "source": [
        "square_digits(3212)"
      ],
      "id": "26e873c2",
      "execution_count": null,
      "outputs": [
        {
          "data": {
            "text/plain": [
              "9414"
            ]
          },
          "execution_count": 90,
          "metadata": {},
          "output_type": "execute_result"
        }
      ]
    },
    {
      "cell_type": "markdown",
      "metadata": {
        "id": "fde828fd"
      },
      "source": [
        "### Question 4\n",
        "#### Create a function that sorts a list and removes all duplicate items from it.\n",
        "#### Examples\n",
        "#### setify([1, 3, 3, 5, 5]) ➞ [1, 3, 5]\n",
        "#### setify([4, 4, 4, 4]) ➞ [4]\n",
        "#### setify([5, 7, 8, 9, 10, 15]) ➞ [5, 7, 8, 9, 10, 15]\n",
        "#### setify([3, 3, 3, 2, 1]) ➞ [1, 2, 3]"
      ],
      "id": "fde828fd"
    },
    {
      "cell_type": "code",
      "metadata": {
        "id": "7246a90b"
      },
      "source": [
        "def setify(l):\n",
        "    m = []\n",
        "    l.sort()\n",
        "    l = set(l)\n",
        "    for i in l:\n",
        "        m.append(i)\n",
        "    return m\n",
        "        "
      ],
      "id": "7246a90b",
      "execution_count": null,
      "outputs": []
    },
    {
      "cell_type": "code",
      "metadata": {
        "id": "eafd5ff6",
        "outputId": "42886bc3-f73c-4a24-de21-c46badb7e993"
      },
      "source": [
        "setify([1, 3, 3, 5, 5])"
      ],
      "id": "eafd5ff6",
      "execution_count": null,
      "outputs": [
        {
          "data": {
            "text/plain": [
              "[1, 3, 5]"
            ]
          },
          "execution_count": 97,
          "metadata": {},
          "output_type": "execute_result"
        }
      ]
    },
    {
      "cell_type": "code",
      "metadata": {
        "id": "fe85bb17",
        "outputId": "179bafaa-6de9-4799-b68f-0e617ae203d8"
      },
      "source": [
        "setify([4, 4, 4, 4])"
      ],
      "id": "fe85bb17",
      "execution_count": null,
      "outputs": [
        {
          "data": {
            "text/plain": [
              "[4]"
            ]
          },
          "execution_count": 98,
          "metadata": {},
          "output_type": "execute_result"
        }
      ]
    },
    {
      "cell_type": "code",
      "metadata": {
        "id": "1808890d",
        "outputId": "c235a4cd-e0f9-4585-f780-18632837c60a"
      },
      "source": [
        "setify([5, 7, 8, 9, 10, 15])"
      ],
      "id": "1808890d",
      "execution_count": null,
      "outputs": [
        {
          "data": {
            "text/plain": [
              "[5, 7, 8, 9, 10, 15]"
            ]
          },
          "execution_count": 99,
          "metadata": {},
          "output_type": "execute_result"
        }
      ]
    },
    {
      "cell_type": "code",
      "metadata": {
        "id": "8c8a6a20",
        "outputId": "c4e13053-b3f7-4e61-98a5-27549b4d692d"
      },
      "source": [
        "setify([3, 3, 3, 2, 1])"
      ],
      "id": "8c8a6a20",
      "execution_count": null,
      "outputs": [
        {
          "data": {
            "text/plain": [
              "[1, 2, 3]"
            ]
          },
          "execution_count": 100,
          "metadata": {},
          "output_type": "execute_result"
        }
      ]
    },
    {
      "cell_type": "markdown",
      "metadata": {
        "id": "0eceba95"
      },
      "source": [
        "### Question 5\n",
        "#### Create a function that returns the mean of all digits.\n",
        "#### Examples\n",
        "#### mean(42) ➞ 3\n",
        "#### mean(12345) ➞ 3\n",
        "#### mean(666) ➞ 6\n",
        "#### Notes\n",
        "####  The mean of all digits is the sum of digits / how many digits there are (e.g. mean of digits in\n",
        "#### 512 is (5+1+2)/3(number of digits) = 8/3=2).\n",
        "####  The mean will always be an integer."
      ],
      "id": "0eceba95"
    },
    {
      "cell_type": "code",
      "metadata": {
        "id": "b723bbe1"
      },
      "source": [
        "def mean(n):\n",
        "    sum = 0\n",
        "    lenth = len(str(n))\n",
        "    for i in str(n):\n",
        "        sum = sum+ int(i)\n",
        "    return int(sum/lenth)\n",
        "        \n",
        "    "
      ],
      "id": "b723bbe1",
      "execution_count": null,
      "outputs": []
    },
    {
      "cell_type": "code",
      "metadata": {
        "id": "ea5e07d7",
        "outputId": "a9da05b7-0044-4afc-a228-b450f41022e3"
      },
      "source": [
        "mean(42)"
      ],
      "id": "ea5e07d7",
      "execution_count": null,
      "outputs": [
        {
          "data": {
            "text/plain": [
              "3"
            ]
          },
          "execution_count": 110,
          "metadata": {},
          "output_type": "execute_result"
        }
      ]
    },
    {
      "cell_type": "code",
      "metadata": {
        "id": "b8723b75",
        "outputId": "f1bfd947-4552-4746-ebbf-c07986d4e2f7"
      },
      "source": [
        "mean(12345)"
      ],
      "id": "b8723b75",
      "execution_count": null,
      "outputs": [
        {
          "data": {
            "text/plain": [
              "3"
            ]
          },
          "execution_count": 111,
          "metadata": {},
          "output_type": "execute_result"
        }
      ]
    },
    {
      "cell_type": "code",
      "metadata": {
        "id": "06cff595",
        "outputId": "531aea69-f995-4a84-a9d8-1400e4cf28b7"
      },
      "source": [
        "mean(666)"
      ],
      "id": "06cff595",
      "execution_count": null,
      "outputs": [
        {
          "data": {
            "text/plain": [
              "6"
            ]
          },
          "execution_count": 112,
          "metadata": {},
          "output_type": "execute_result"
        }
      ]
    }
  ]
}