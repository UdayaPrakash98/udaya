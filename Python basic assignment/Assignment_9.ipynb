{
  "nbformat": 4,
  "nbformat_minor": 5,
  "metadata": {
    "kernelspec": {
      "display_name": "Python 3",
      "language": "python",
      "name": "python3"
    },
    "language_info": {
      "codemirror_mode": {
        "name": "ipython",
        "version": 3
      },
      "file_extension": ".py",
      "mimetype": "text/x-python",
      "name": "python",
      "nbconvert_exporter": "python",
      "pygments_lexer": "ipython3",
      "version": "3.8.5"
    },
    "colab": {
      "name": "Assignment_9.ipynb",
      "provenance": []
    }
  },
  "cells": [
    {
      "cell_type": "markdown",
      "metadata": {
        "id": "f594c2cd"
      },
      "source": [
        "### 1. To what does a relative path refer?"
      ],
      "id": "f594c2cd"
    },
    {
      "cell_type": "markdown",
      "metadata": {
        "id": "c679a636"
      },
      "source": [
        "    relative path shows current working directory path\n",
        "    for me it is: Python Basic Assignments\\Assignment_9.ipynb"
      ],
      "id": "c679a636"
    },
    {
      "cell_type": "code",
      "metadata": {
        "id": "3849d025",
        "outputId": "46b171e0-2a27-4c67-dad1-3435ecab5168"
      },
      "source": [
        "import os\n",
        "path = 'E:\\data science\\ineuron full stack DS\\Assignments\\PythonBasicAssignments\\Assignment_p.ipynb'\n",
        "os.path.relpath(path)\n"
      ],
      "id": "3849d025",
      "execution_count": null,
      "outputs": [
        {
          "data": {
            "text/plain": [
              "'..\\\\PythonBasicAssignments\\\\Assignment_p.ipynb'"
            ]
          },
          "execution_count": 16,
          "metadata": {},
          "output_type": "execute_result"
        }
      ]
    },
    {
      "cell_type": "markdown",
      "metadata": {
        "id": "9f0d51f7"
      },
      "source": [
        "### 2. What does an absolute path start with your operating system?"
      ],
      "id": "9f0d51f7"
    },
    {
      "cell_type": "markdown",
      "metadata": {
        "id": "5a3a94d8"
      },
      "source": [
        "    absolute path = pwd + relative path\n",
        "    absolute path always starts with rootdi directory\n"
      ],
      "id": "5a3a94d8"
    },
    {
      "cell_type": "code",
      "metadata": {
        "id": "31ccf5cc",
        "outputId": "c67be72b-faef-434f-8ac2-e46cc1f26fa2"
      },
      "source": [
        "os.path.abspath(path)"
      ],
      "id": "31ccf5cc",
      "execution_count": null,
      "outputs": [
        {
          "data": {
            "text/plain": [
              "'E:\\\\data science\\\\ineuron full stack DS\\\\Assignments\\\\PythonBasicAssignments\\\\Assignment_p.ipynb'"
            ]
          },
          "execution_count": 17,
          "metadata": {},
          "output_type": "execute_result"
        }
      ]
    },
    {
      "cell_type": "markdown",
      "metadata": {
        "id": "c964a1fa"
      },
      "source": [
        "### 3. What do the functions os.getcwd() and os.chdir() do?"
      ],
      "id": "c964a1fa"
    },
    {
      "cell_type": "markdown",
      "metadata": {
        "id": "40fd1c6c"
      },
      "source": [
        "    os.chdir() performs change directory\n",
        "    os.getcwd() gives current working directory"
      ],
      "id": "40fd1c6c"
    },
    {
      "cell_type": "markdown",
      "metadata": {
        "id": "1b59e9df"
      },
      "source": [
        "### 4. What are the . and .. folders?"
      ],
      "id": "1b59e9df"
    },
    {
      "cell_type": "markdown",
      "metadata": {
        "id": "25fe3635"
      },
      "source": [
        "    these are not real folder but are special names for path\n",
        "        (.) = this directory\n",
        "        (..)= parent directory"
      ],
      "id": "25fe3635"
    },
    {
      "cell_type": "markdown",
      "metadata": {
        "id": "d19ee4ab"
      },
      "source": [
        "### 5. In C:\\bacon\\eggs\\spam.txt, which part is the dir name, and which part is the base name?"
      ],
      "id": "d19ee4ab"
    },
    {
      "cell_type": "markdown",
      "metadata": {
        "id": "158faacc"
      },
      "source": [
        "    C:\\bacon\\eggs --> dir name\n",
        "    \n",
        "    spam.txt --> base name"
      ],
      "id": "158faacc"
    },
    {
      "cell_type": "markdown",
      "metadata": {
        "id": "ebb9fb9a"
      },
      "source": [
        "### 6. What are the three “mode” arguments that can be passed to the open() function?"
      ],
      "id": "ebb9fb9a"
    },
    {
      "cell_type": "markdown",
      "metadata": {
        "id": "534419fc"
      },
      "source": [
        "    Three mode arguments are:\n",
        "        1. 'r' --> open for reading in text mode.\n",
        "        2. 'w' --> open for writing.\n",
        "        3. 'a' --> open for appending.\n",
        "        "
      ],
      "id": "534419fc"
    },
    {
      "cell_type": "markdown",
      "metadata": {
        "id": "2623ec75"
      },
      "source": [
        "### 7. What happens if an existing file is opened in write mode?"
      ],
      "id": "2623ec75"
    },
    {
      "cell_type": "markdown",
      "metadata": {
        "id": "e2747ecc"
      },
      "source": [
        "    when an existing file is opened in write mode previous content is erased and file is treated as \n",
        "    new empty file."
      ],
      "id": "e2747ecc"
    },
    {
      "cell_type": "markdown",
      "metadata": {
        "id": "3b77e3aa"
      },
      "source": [
        "### 8. How do you tell the difference between read() and readlines()?"
      ],
      "id": "3b77e3aa"
    },
    {
      "cell_type": "markdown",
      "metadata": {
        "id": "4570d270"
      },
      "source": [
        "    read()      --> it iterates over each character.\n",
        "    readlines() --> read only single line of the file."
      ],
      "id": "4570d270"
    },
    {
      "cell_type": "markdown",
      "metadata": {
        "id": "bab31fc3"
      },
      "source": [
        "### 9. What data structure does a shelf value resemble?"
      ],
      "id": "bab31fc3"
    },
    {
      "cell_type": "markdown",
      "metadata": {
        "id": "776d0f1f"
      },
      "source": [
        "    As it contains key and values it represents dictionary."
      ],
      "id": "776d0f1f"
    }
  ]
}