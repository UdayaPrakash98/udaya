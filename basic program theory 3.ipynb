{
 "cells": [
  {
   "cell_type": "markdown",
   "id": "c2b037ae",
   "metadata": {},
   "source": [
    "1.#ADVANTAGE TO HAVE FUNCTION\n",
    "Functions reduce duplicate code. This makes programs shorter, easier to read to update.\n",
    "and the function call evaluates to the function of return value."
   ]
  },
  {
   "cell_type": "code",
   "execution_count": null,
   "id": "ed5d924a",
   "metadata": {},
   "outputs": [],
   "source": [
    "2.#function runs\n",
    "When a function is called the program leaves the current section of code and begins to execute the first of function.\n",
    "The program comes to containing a function call. \n",
    "The program enters the function."
   ]
  },
  {
   "cell_type": "code",
   "execution_count": null,
   "id": "ab2e1277",
   "metadata": {},
   "outputs": [],
   "source": [
    "3.#statement to create function\n",
    " A statement that creates a new function will specify  name, parameters, and the statements it executes"
   ]
  },
  {
   "cell_type": "code",
   "execution_count": null,
   "id": "1455e919",
   "metadata": {},
   "outputs": [],
   "source": [
    "4.#difference between a function and a function call\n",
    "function is used to do some particular task at anytime but\n",
    "fucntion call is used by giving calls of argument and values by user"
   ]
  },
  {
   "cell_type": "code",
   "execution_count": null,
   "id": "a7faeb38",
   "metadata": {},
   "outputs": [],
   "source": [
    "5.#How many global scopes are there in a Python program and How many local scopes\n",
    "global scopes = 1\n",
    "local scopes = 4"
   ]
  },
  {
   "cell_type": "code",
   "execution_count": null,
   "id": "a84ad9c5",
   "metadata": {},
   "outputs": [],
   "source": [
    "6.A Local Variable Retains Its Value Until The Next Time The Function Is Called\n",
    "A Local Variable Becomes Undefined After The Function Call Completes\n",
    "The Local Variable Can Be Used Outside The Function Any Time After The Function Call Completes. "
   ]
  },
  {
   "cell_type": "code",
   "execution_count": null,
   "id": "e3ca4a86",
   "metadata": {},
   "outputs": [],
   "source": [
    "7.#What is the concept of a return value\n",
    "function takes arguments and performs some operations and returns a value.\n",
    "The value that a function returns to the caller is generally known as the functions return value"
   ]
  },
  {
   "cell_type": "code",
   "execution_count": null,
   "id": "3ed6ca53",
   "metadata": {},
   "outputs": [],
   "source": [
    "8.#If a function does not have a return statement and what is the return value of a call to that function\n",
    "control automatically returns to the calling function after the last statement of the called function is executed."
   ]
  },
  {
   "cell_type": "code",
   "execution_count": null,
   "id": "095bcb89",
   "metadata": {},
   "outputs": [],
   "source": [
    "9.#function variable to refer global keyword \n",
    "we can use the global keyword to declare  variables are global."
   ]
  },
  {
   "cell_type": "code",
   "execution_count": null,
   "id": "348cf022",
   "metadata": {},
   "outputs": [],
   "source": [
    "10.#NULL value\n",
    "null value is define to no value or null value"
   ]
  },
  {
   "cell_type": "code",
   "execution_count": null,
   "id": "a3a95095",
   "metadata": {},
   "outputs": [],
   "source": [
    "12.#If you had a bacon() feature in a spam module, what would you call it after importing spam\n",
    "spam.bacon()"
   ]
  },
  {
   "cell_type": "code",
   "execution_count": null,
   "id": "f0b8cec5",
   "metadata": {},
   "outputs": [],
   "source": [
    "13.#what if program crash\n",
    "error handling can be used to notify a error incase of crash or error"
   ]
  },
  {
   "cell_type": "code",
   "execution_count": null,
   "id": "7cf45a3b",
   "metadata": {},
   "outputs": [],
   "source": [
    "14.#What is the purpose of the try clause? What is the purpose of the except clause\n",
    "try and except are error handling methods where if you have fear of code to become error try them in try block and giove except block for giving erroe when it\n",
    "fails"
   ]
  },
  {
   "cell_type": "code",
   "execution_count": null,
   "id": "d76ab7a8",
   "metadata": {},
   "outputs": [],
   "source": []
  },
  {
   "cell_type": "code",
   "execution_count": null,
   "id": "d9c637f5",
   "metadata": {},
   "outputs": [],
   "source": []
  },
  {
   "cell_type": "code",
   "execution_count": null,
   "id": "76865e97",
   "metadata": {},
   "outputs": [],
   "source": []
  }
 ],
 "metadata": {
  "kernelspec": {
   "display_name": "Python 3",
   "language": "python",
   "name": "python3"
  },
  "language_info": {
   "codemirror_mode": {
    "name": "ipython",
    "version": 3
   },
   "file_extension": ".py",
   "mimetype": "text/x-python",
   "name": "python",
   "nbconvert_exporter": "python",
   "pygments_lexer": "ipython3",
   "version": "3.9.5"
  }
 },
 "nbformat": 4,
 "nbformat_minor": 5
}
