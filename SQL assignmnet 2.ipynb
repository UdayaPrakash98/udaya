{
 "cells": [
  {
   "cell_type": "raw",
   "id": "32d9a421",
   "metadata": {},
   "source": [
    "1.Write an SQL query to print the first three characters of  FIRST_NAME from Worker\n",
    "table.\n",
    "\n",
    "SELECT LEFT(FIRST_NAME,3)\n",
    "FROM Worker;\n",
    "    \n",
    "    or\n",
    "\n",
    "SELECT SUBSTRING(FIRST_NAME,1,3)\n",
    "FROM Worker ;"
   ]
  },
  {
   "cell_type": "raw",
   "id": "ad2f049c",
   "metadata": {},
   "source": [
    "2.Write an SQL query to find the position of the alphabet (‘a’) in the first name\n",
    "column ‘Amitabh’ from Worker table.\n",
    "\n",
    "SELECT POSITION(\"a\" IN \"Amitabh\") \n",
    "FROM Worker;\n"
   ]
  },
  {
   "cell_type": "raw",
   "id": "874aa686",
   "metadata": {},
   "source": [
    "3.Write an SQL query to print the name of employees having the highest salary in each\n",
    "department.\n",
    "\n",
    "SELECT DepartmentName, MAX(Salary) \n",
    "FROM employee.e RIGHT JOIN Department.d ON e.DepartmentId = d.DepartmentID \n",
    "GROUP BY DepartmentName"
   ]
  }
 ],
 "metadata": {
  "kernelspec": {
   "display_name": "Python 3",
   "language": "python",
   "name": "python3"
  },
  "language_info": {
   "codemirror_mode": {
    "name": "ipython",
    "version": 3
   },
   "file_extension": ".py",
   "mimetype": "text/x-python",
   "name": "python",
   "nbconvert_exporter": "python",
   "pygments_lexer": "ipython3",
   "version": "3.9.5"
  }
 },
 "nbformat": 4,
 "nbformat_minor": 5
}
