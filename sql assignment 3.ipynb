{
 "cells": [
  {
   "cell_type": "code",
   "execution_count": null,
   "id": "649f7a86",
   "metadata": {},
   "outputs": [],
   "source": [
    "#1.Write an SQL query to print the FIRST_NAME from Worker table after removing white spaces from the right side.\n",
    "\n",
    "Select RTRIM(FIRST_NAME) FROM Worker;"
   ]
  },
  {
   "cell_type": "code",
   "execution_count": null,
   "id": "d57b6e6e",
   "metadata": {},
   "outputs": [],
   "source": [
    "#2.Write an SQL query that fetches the unique values of DEPARTMENT from Worker table and prints its length.\n",
    "\n",
    "Select distinct length(DEPARTMENT)\n",
    "FROM Worker;"
   ]
  },
  {
   "cell_type": "code",
   "execution_count": null,
   "id": "af2a5c9f",
   "metadata": {},
   "outputs": [],
   "source": [
    "#3.Write an SQL query to fetch nth max salaries from a table.\n",
    "\n",
    "SELECT distinct Salary FROM worker.a\n",
    "WHERE n >= (SELECT count(distinct Salary) \n",
    "FROM worker.b \n",
    "WHERE a.Salary <= b.Salary) \n",
    "order by a.Salary desc;"
   ]
  }
 ],
 "metadata": {
  "kernelspec": {
   "display_name": "Python 3",
   "language": "python",
   "name": "python3"
  },
  "language_info": {
   "codemirror_mode": {
    "name": "ipython",
    "version": 3
   },
   "file_extension": ".py",
   "mimetype": "text/x-python",
   "name": "python",
   "nbconvert_exporter": "python",
   "pygments_lexer": "ipython3",
   "version": "3.9.5"
  }
 },
 "nbformat": 4,
 "nbformat_minor": 5
}
