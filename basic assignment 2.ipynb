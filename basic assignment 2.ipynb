{
 "cells": [
  {
   "cell_type": "markdown",
   "id": "e53270d1",
   "metadata": {},
   "source": [
    "# 1.boolean types\n",
    "\n",
    "boolean data types are two types, and wriiten as \n",
    "\n",
    "TRUE and FALSE\n",
    "TRUE = 1 , FALSE =0\n"
   ]
  },
  {
   "cell_type": "markdown",
   "id": "089a9bb5",
   "metadata": {},
   "source": [
    "# 2.boolean opeartors\n",
    "boolean opeartors are  AND,OR,NOT"
   ]
  },
  {
   "cell_type": "code",
   "execution_count": null,
   "id": "1cbaa2a1",
   "metadata": {},
   "outputs": [],
   "source": [
    "3.#boolean truth tables\n",
    "#OR\n",
    "[T T]=T\n",
    "[T F]=T\n",
    "[F T]=T\n",
    "[F F]=F\n",
    "#AND\n",
    "[T T]=T\n",
    "[T F]=F\n",
    "[F T]=F\n",
    "[F F]=F\n",
    "#NOT\n",
    "[false false]=true\n",
    "[false true]=true\n",
    "[true false]= false\n",
    "[true true ]=false"
   ]
  },
  {
   "cell_type": "code",
   "execution_count": null,
   "id": "c6775c32",
   "metadata": {},
   "outputs": [],
   "source": [
    "4.#find the following\n",
    "(5 > 4) and (3 == 5) = FALSE\n",
    "not (5 > 4) = FALSE\n",
    "(5 > 4) or (3 == 5)= TRUE\n",
    "not ((5 > 4) or (3 == 5)) = FALSE\n",
    "(True and True) and (True == False) = FALSE\n",
    "(not False) or (not True) =TRUE"
   ]
  },
  {
   "cell_type": "markdown",
   "id": "03d55c57",
   "metadata": {},
   "source": [
    "5.#SIX COMPARISON OPEARTORS\n",
    ">, <, >=, <=, ===, !=="
   ]
  },
  {
   "cell_type": "markdown",
   "id": "33c4e8fb",
   "metadata": {},
   "source": [
    "6.#EQUAL TO AND ASSIGNMENT OPEARTORS\n",
    "The = is an assignment operator is used to assign the value on the right to the variable on the left. The '==' operator checks whether the two given operands are equal or not. If so, it returns true. Otherwise it returns false\n"
   ]
  },
  {
   "cell_type": "markdown",
   "id": "54174ca0",
   "metadata": {},
   "source": [
    "7.IDENTIFY BLOCKS IN THE CODE\n",
    "the spam = 0 so its satisfy only else part then print the statement of blocks only from else\n",
    "'ham','spam','spam'"
   ]
  },
  {
   "cell_type": "code",
   "execution_count": 14,
   "id": "b0dea2b1",
   "metadata": {},
   "outputs": [
    {
     "name": "stdout",
     "output_type": "stream",
     "text": [
      "2\n",
      "howdy\n"
     ]
    }
   ],
   "source": [
    "8.#coding\n",
    "spam =int(input())\n",
    "if spam == 1 :\n",
    "     print(\"hello\")\n",
    "elif spam  == 2 :\n",
    "        print(\"howdy\")\n",
    "else:\n",
    "        print('Greetings')\n"
   ]
  },
  {
   "cell_type": "markdown",
   "id": "f7b78937",
   "metadata": {},
   "source": [
    "9.#your programme is stuck in an endless loop, what keys you’ll press?\n",
    "cntrl + c"
   ]
  },
  {
   "cell_type": "markdown",
   "id": "462e6b6b",
   "metadata": {},
   "source": [
    "10.#difference between break and continue\n",
    " 'break' is used for immediate termination of loop.\n",
    "'continue' terminate the current iteration and resumes the control to the next iteration of the loop"
   ]
  },
  {
   "cell_type": "markdown",
   "id": "dfb4ecf6",
   "metadata": {},
   "source": [
    "11.difference between range(10), range(0, 10), and range(0, 10, 1)\n",
    "range(10) gives number b/w 0-9\n",
    "range(0,10) gives start point and end point so 0,1,2,3,4,5,6,7,8,9\n",
    "range(0,10,1) gives skip of one number as start,stop and step"
   ]
  },
  {
   "cell_type": "code",
   "execution_count": 17,
   "id": "300c3588",
   "metadata": {},
   "outputs": [
    {
     "name": "stdout",
     "output_type": "stream",
     "text": [
      "0\n",
      "1\n",
      "2\n",
      "3\n",
      "4\n",
      "5\n",
      "6\n",
      "7\n",
      "8\n",
      "9\n",
      "10\n"
     ]
    }
   ],
   "source": [
    "12.#coding\n",
    "for i in range(0,10+1):\n",
    "    print(i)"
   ]
  },
  {
   "cell_type": "code",
   "execution_count": null,
   "id": "170ee328",
   "metadata": {},
   "outputs": [],
   "source": [
    "13. If you had a function named bacon() inside a module named spam, how would you call it after\n",
    "importing spam\n",
    "ans : spam.bacon()\n"
   ]
  },
  {
   "cell_type": "code",
   "execution_count": null,
   "id": "2e62c866",
   "metadata": {},
   "outputs": [],
   "source": []
  }
 ],
 "metadata": {
  "kernelspec": {
   "display_name": "Python 3",
   "language": "python",
   "name": "python3"
  },
  "language_info": {
   "codemirror_mode": {
    "name": "ipython",
    "version": 3
   },
   "file_extension": ".py",
   "mimetype": "text/x-python",
   "name": "python",
   "nbconvert_exporter": "python",
   "pygments_lexer": "ipython3",
   "version": "3.9.5"
  }
 },
 "nbformat": 4,
 "nbformat_minor": 5
}
