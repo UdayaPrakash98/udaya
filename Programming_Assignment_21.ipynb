{
  "nbformat": 4,
  "nbformat_minor": 5,
  "metadata": {
    "kernelspec": {
      "display_name": "Python 3",
      "language": "python",
      "name": "python3"
    },
    "language_info": {
      "codemirror_mode": {
        "name": "ipython",
        "version": 3
      },
      "file_extension": ".py",
      "mimetype": "text/x-python",
      "name": "python",
      "nbconvert_exporter": "python",
      "pygments_lexer": "ipython3",
      "version": "3.8.5"
    },
    "colab": {
      "name": "Programming Assignment_21.ipynb",
      "provenance": []
    }
  },
  "cells": [
    {
      "cell_type": "markdown",
      "metadata": {
        "id": "f0b98091"
      },
      "source": [
        "### Question1 Write a function that takes a list and a number as arguments. Add the number to the end of the list, then remove the first element of the list. The function should then return the updated list.\n",
        "#### Examples\n",
        "#### next_in_line([5, 6, 7, 8, 9], 1) ➞ [6, 7, 8, 9, 1]\n",
        "#### next_in_line([7, 6, 3, 23, 17], 10) ➞ [6, 3, 23, 17, 10]\n",
        "#### next_in_line([1, 10, 20, 42 ], 6) ➞ [10, 20, 42, 6]\n",
        "#### next_in_line([], 6) ➞ &quot;No list has been selected&quot;"
      ],
      "id": "f0b98091"
    },
    {
      "cell_type": "code",
      "metadata": {
        "id": "2595549d"
      },
      "source": [
        "def next_in_line(l,n):\n",
        "    try:\n",
        "        l.append(n)\n",
        "        l.pop(l[0])\n",
        "        print(l)\n",
        "    except Exception:\n",
        "        print(\"No list has been selected\")\n",
        "    "
      ],
      "id": "2595549d",
      "execution_count": null,
      "outputs": []
    },
    {
      "cell_type": "code",
      "metadata": {
        "id": "77b2d890",
        "outputId": "ee96cd26-5c7c-4858-92ae-f521774e5f9a"
      },
      "source": [
        "next_in_line([5, 6, 7, 8, 9], 1)"
      ],
      "id": "77b2d890",
      "execution_count": null,
      "outputs": [
        {
          "name": "stdout",
          "output_type": "stream",
          "text": [
            "[5, 6, 7, 8, 9]\n"
          ]
        }
      ]
    },
    {
      "cell_type": "code",
      "metadata": {
        "id": "7bd62a7f",
        "outputId": "0972b784-3fd4-418d-85af-594e56e3d86e"
      },
      "source": [
        "next_in_line([], 6)"
      ],
      "id": "7bd62a7f",
      "execution_count": null,
      "outputs": [
        {
          "name": "stdout",
          "output_type": "stream",
          "text": [
            "No list has been selected\n"
          ]
        }
      ]
    },
    {
      "cell_type": "code",
      "metadata": {
        "id": "c33aedf1",
        "outputId": "535c2cb3-1173-4900-a746-f30419f1a02c"
      },
      "source": [
        "next_in_line([7, 6, 3, 23, 17], 10)"
      ],
      "id": "c33aedf1",
      "execution_count": null,
      "outputs": [
        {
          "name": "stdout",
          "output_type": "stream",
          "text": [
            "No list has been selected\n"
          ]
        }
      ]
    },
    {
      "cell_type": "code",
      "metadata": {
        "id": "682b2f52",
        "outputId": "04c03c90-a933-48fb-b652-a8002bc9e696"
      },
      "source": [
        "next_in_line([1, 10, 20, 42 ], 6)"
      ],
      "id": "682b2f52",
      "execution_count": null,
      "outputs": [
        {
          "name": "stdout",
          "output_type": "stream",
          "text": [
            "[1, 20, 42, 6]\n"
          ]
        }
      ]
    },
    {
      "cell_type": "markdown",
      "metadata": {
        "id": "7b4491ed"
      },
      "source": [
        "### Question2 Create the function that takes a list of dictionaries and returns the sum of people&#39;s budgets.\n",
        "#### Examples\n",
        "#### get_budgets([\n",
        "#### { &quot;name&quot;: &quot;John&quot;, &quot;age&quot;: 21, &quot;budget&quot;: 23000 },\n",
        "#### { &quot;name&quot;: &quot;Steve&quot;, &quot;age&quot;: 32, &quot;budget&quot;: 40000 },\n",
        "#### { &quot;name&quot;: &quot;Martin&quot;, &quot;age&quot;: 16, &quot;budget&quot;: 2700 }\n",
        "#### ]) ➞ 65700\n",
        "#### get_budgets([\n",
        "#### { &quot;name&quot;: &quot;John&quot;, &quot;age&quot;: 21, &quot;budget&quot;: 29000 },\n",
        "#### { &quot;name&quot;: &quot;Steve&quot;, &quot;age&quot;: 32, &quot;budget&quot;: 32000 },\n",
        "#### { &quot;name&quot;: &quot;Martin&quot;, &quot;age&quot;: 16, &quot;budget&quot;: 1600 }\n",
        "#### ]) ➞ 62600"
      ],
      "id": "7b4491ed"
    },
    {
      "cell_type": "code",
      "metadata": {
        "id": "724f5082"
      },
      "source": [
        "def get_budgets(l):\n",
        "    budget = 0\n",
        "    for i in l:\n",
        "        for key,value in i.items():\n",
        "            if key==\"budget\":\n",
        "                budget = budget+value\n",
        "    return budget\n",
        "    "
      ],
      "id": "724f5082",
      "execution_count": null,
      "outputs": []
    },
    {
      "cell_type": "code",
      "metadata": {
        "id": "813977e7",
        "outputId": "11196c66-1ffa-464c-cf29-fe77362ab907"
      },
      "source": [
        "get_budgets([\n",
        "{ \"name\": \"John\", \"age\": 21, \"budget\": 23000 },\n",
        "{ \"name\": \"Steve\", \"age\": 32, \"budget\": 40000 },\n",
        "{ \"name\": \"Martin\", \"age\": 16, \"budget\": 2700 }\n",
        "])"
      ],
      "id": "813977e7",
      "execution_count": null,
      "outputs": [
        {
          "data": {
            "text/plain": [
              "65700"
            ]
          },
          "execution_count": 21,
          "metadata": {},
          "output_type": "execute_result"
        }
      ]
    },
    {
      "cell_type": "code",
      "metadata": {
        "id": "825d2a08",
        "outputId": "e0502074-ec08-43ec-d71d-67aec8bd5475"
      },
      "source": [
        "get_budgets([\n",
        "{ \"name\": \"John\", \"age\": 21, \"budget\": 29000 },\n",
        "{ \"name\": \"Steve\", \"age\": 32, \"budget\": 32000 },\n",
        "{ \"name\": \"Martin\", \"age\": 16, \"budget\": 1600 }\n",
        "])"
      ],
      "id": "825d2a08",
      "execution_count": null,
      "outputs": [
        {
          "data": {
            "text/plain": [
              "62600"
            ]
          },
          "execution_count": 22,
          "metadata": {},
          "output_type": "execute_result"
        }
      ]
    },
    {
      "cell_type": "markdown",
      "metadata": {
        "id": "f296a571"
      },
      "source": [
        "### Question3\n",
        "#### Create a function that takes a string and returns a string with its letters in alphabetical order.\n",
        "#### Examples\n",
        "#### alphabet_soup(&quot;hello&quot;) ➞ &quot;ehllo&quot;\n",
        "#### alphabet_soup(&quot;edabit&quot;) ➞ &quot;abdeit&quot;\n",
        "#### alphabet_soup(&quot;hacker&quot;) ➞ &quot;acehkr&quot;\n",
        "#### alphabet_soup(&quot;geek&quot;) ➞ &quot;eegk&quot;\n",
        "#### alphabet_soup(&quot;javascript&quot;) ➞ &quot;aacijprstv&quot;"
      ],
      "id": "f296a571"
    },
    {
      "cell_type": "code",
      "metadata": {
        "id": "2906b96d"
      },
      "source": [
        "def alphabet_soup(string):\n",
        "    return ''.join(sorted(string))"
      ],
      "id": "2906b96d",
      "execution_count": null,
      "outputs": []
    },
    {
      "cell_type": "code",
      "metadata": {
        "id": "eb83bab1",
        "outputId": "b93345de-790a-4f8b-90ff-6ca6041d185d"
      },
      "source": [
        "print(alphabet_soup(\"hello\"),alphabet_soup(\"hello\"),alphabet_soup(\"hacker\"),alphabet_soup(\"geek\"),alphabet_soup(\"javascript\"))"
      ],
      "id": "eb83bab1",
      "execution_count": null,
      "outputs": [
        {
          "name": "stdout",
          "output_type": "stream",
          "text": [
            "ehllo ehllo acehkr eegk aacijprstv\n"
          ]
        }
      ]
    },
    {
      "cell_type": "markdown",
      "metadata": {
        "id": "34269e45"
      },
      "source": [
        "### Question4\n",
        "#### Suppose that you invest $10,000 for 10 years at an interest rate of 6% compounded monthly.\n",
        "#### What will be the value of your investment at the end of the 10 year period?\n",
        "#### Create a function that accepts the principal p, the term in years t, the interest rate r, and the\n",
        "#### number of compounding periods per year n. The function returns the value at the end of term\n",
        "#### rounded to the nearest cent.\n",
        "#### For the example above:\n",
        "#### compound_interest(10000, 10, 0.06, 12) ➞ 18193.97\n",
        "#### Note that the interest rate is given as a decimal and n=12 because with monthly compounding\n",
        "#### there are 12 periods per year. Compounding can also be done annually, quarterly, weekly, or\n",
        "#### daily.\n",
        "#### Examples\n",
        "#### compound_interest(100, 1, 0.05, 1) ➞ 105.0\n",
        "#### compound_interest(3500, 15, 0.1, 4) ➞ 15399.26\n",
        "#### compound_interest(100000, 20, 0.15, 365) ➞ 2007316.26"
      ],
      "id": "34269e45"
    },
    {
      "cell_type": "code",
      "metadata": {
        "id": "567aec4c"
      },
      "source": [
        "def compound_interest(p,t,r,n):\n",
        "    ci = p*(1+(r/n))**(n*t)\n",
        "    return round(ci,2)"
      ],
      "id": "567aec4c",
      "execution_count": null,
      "outputs": []
    },
    {
      "cell_type": "code",
      "metadata": {
        "id": "5b9d7d46",
        "outputId": "901ca0ce-36fb-41dd-e578-b77463989148"
      },
      "source": [
        "compound_interest(100, 1, 0.05, 1)"
      ],
      "id": "5b9d7d46",
      "execution_count": null,
      "outputs": [
        {
          "data": {
            "text/plain": [
              "105.0"
            ]
          },
          "execution_count": 39,
          "metadata": {},
          "output_type": "execute_result"
        }
      ]
    },
    {
      "cell_type": "code",
      "metadata": {
        "id": "9c558525",
        "outputId": "76a767b3-9515-4a65-fa00-0deddd21beaa"
      },
      "source": [
        "compound_interest(3500, 15, 0.1, 4)"
      ],
      "id": "9c558525",
      "execution_count": null,
      "outputs": [
        {
          "data": {
            "text/plain": [
              "15399.26"
            ]
          },
          "execution_count": 40,
          "metadata": {},
          "output_type": "execute_result"
        }
      ]
    },
    {
      "cell_type": "code",
      "metadata": {
        "id": "c9455c10",
        "outputId": "c671a375-1594-4a68-e00a-5a79f2b9b5e8"
      },
      "source": [
        "compound_interest(100000, 20, 0.15, 365)"
      ],
      "id": "c9455c10",
      "execution_count": null,
      "outputs": [
        {
          "data": {
            "text/plain": [
              "2007316.26"
            ]
          },
          "execution_count": 41,
          "metadata": {},
          "output_type": "execute_result"
        }
      ]
    },
    {
      "cell_type": "markdown",
      "metadata": {
        "id": "0ca98b89"
      },
      "source": [
        "### Question5\n",
        "#### Write a function that takes a list of elements and returns only the integers.\n",
        "#### Examples\n",
        "#### return_only_integer([9, 2, &quot;space&quot;, &quot;car&quot;, &quot;lion&quot;, 16]) ➞ [9, 2, 16]\n",
        "#### return_only_integer([&quot;hello&quot;, 81, &quot;basketball&quot;, 123, &quot;fox&quot;]) ➞ [81, 123]\n",
        "#### return_only_integer([10, &quot;121&quot;, 56, 20, &quot;car&quot;, 3, &quot;lion&quot;]) ➞ [10, 56, 20,\n",
        "#### 3]\n",
        "#### return_only_integer([&quot;String&quot;, True, 3.3, 1]) ➞ [1]"
      ],
      "id": "0ca98b89"
    },
    {
      "cell_type": "code",
      "metadata": {
        "id": "f8976e60"
      },
      "source": [
        "def return_only_integer(l):\n",
        "    l1 = []\n",
        "    for i in l:\n",
        "        if type(i)==int:\n",
        "            l1.append(i)\n",
        "    return l1\n",
        "        "
      ],
      "id": "f8976e60",
      "execution_count": null,
      "outputs": []
    },
    {
      "cell_type": "code",
      "metadata": {
        "id": "9e91114a",
        "outputId": "e58347e4-deab-4155-f16c-144e2b681494"
      },
      "source": [
        "return_only_integer([9, 2, \"space\", \"car\", \"lion\", 16])"
      ],
      "id": "9e91114a",
      "execution_count": null,
      "outputs": [
        {
          "data": {
            "text/plain": [
              "[9, 2, 16]"
            ]
          },
          "execution_count": 47,
          "metadata": {},
          "output_type": "execute_result"
        }
      ]
    },
    {
      "cell_type": "code",
      "metadata": {
        "id": "0466df37",
        "outputId": "e18c9b17-ac00-4165-b564-43753cb66162"
      },
      "source": [
        "return_only_integer([\"hello\", 81, \"basketball\", 123, \"fox\"])"
      ],
      "id": "0466df37",
      "execution_count": null,
      "outputs": [
        {
          "data": {
            "text/plain": [
              "[81, 123]"
            ]
          },
          "execution_count": 48,
          "metadata": {},
          "output_type": "execute_result"
        }
      ]
    },
    {
      "cell_type": "code",
      "metadata": {
        "id": "34e141ca",
        "outputId": "85031068-f6a5-4112-9b57-8e2564ed1ac7"
      },
      "source": [
        "return_only_integer([10, \"121\", 56, 20, \"car\", 3, \"lion\"])"
      ],
      "id": "34e141ca",
      "execution_count": null,
      "outputs": [
        {
          "data": {
            "text/plain": [
              "[10, 56, 20, 3]"
            ]
          },
          "execution_count": 49,
          "metadata": {},
          "output_type": "execute_result"
        }
      ]
    },
    {
      "cell_type": "code",
      "metadata": {
        "id": "ea6b2481",
        "outputId": "5637befd-8efe-48a7-9a43-7f0044c93af6"
      },
      "source": [
        "return_only_integer([\"String\", True, 3.3, 1])"
      ],
      "id": "ea6b2481",
      "execution_count": null,
      "outputs": [
        {
          "data": {
            "text/plain": [
              "[1]"
            ]
          },
          "execution_count": 50,
          "metadata": {},
          "output_type": "execute_result"
        }
      ]
    }
  ]
}