{
  "nbformat": 4,
  "nbformat_minor": 5,
  "metadata": {
    "kernelspec": {
      "display_name": "Python 3",
      "language": "python",
      "name": "python3"
    },
    "language_info": {
      "codemirror_mode": {
        "name": "ipython",
        "version": 3
      },
      "file_extension": ".py",
      "mimetype": "text/x-python",
      "name": "python",
      "nbconvert_exporter": "python",
      "pygments_lexer": "ipython3",
      "version": "3.8.5"
    },
    "colab": {
      "name": "Programming Assignment_20.ipynb",
      "provenance": []
    }
  },
  "cells": [
    {
      "cell_type": "markdown",
      "metadata": {
        "id": "010a9b59"
      },
      "source": [
        "### Question1\n",
        "#### Create a function that takes a list of strings and integers, and filters out the list so that it\n",
        "#### returns a list of integers only.\n",
        "#### Examples\n",
        "#### filter_list([1, 2, 3, &quot;a&quot;, &quot;b&quot;, 4]) ➞ [1, 2, 3, 4]\n",
        "#### filter_list([&quot;A&quot;, 0, &quot;Edabit&quot;, 1729, &quot;Python&quot;, &quot;1729&quot;]) ➞ [0, 1729]\n",
        "#### filter_list([&quot;Nothing&quot;, &quot;here&quot;]) ➞ []"
      ],
      "id": "010a9b59"
    },
    {
      "cell_type": "code",
      "metadata": {
        "id": "254a7160"
      },
      "source": [
        "def filter_list(l):\n",
        "    f = []\n",
        "    for i in l:\n",
        "        if type(i)==int:\n",
        "            f.append(i)\n",
        "    return f"
      ],
      "id": "254a7160",
      "execution_count": null,
      "outputs": []
    },
    {
      "cell_type": "code",
      "metadata": {
        "id": "a7d37bc2",
        "outputId": "37766eef-cf7a-4bf0-bfa8-83b5a18b5791"
      },
      "source": [
        "print(filter_list([1, 2, 3, \"a\", \"b\", 4]))\n",
        "print(filter_list([\"A\", 0, \"Edabit\", 1729, \"Python\", \"1729\"]))\n",
        "print(filter_list([\"Nothing\", \"here\"]))"
      ],
      "id": "a7d37bc2",
      "execution_count": null,
      "outputs": [
        {
          "name": "stdout",
          "output_type": "stream",
          "text": [
            "[1, 2, 3, 4]\n",
            "[0, 1729]\n",
            "[]\n"
          ]
        }
      ]
    },
    {
      "cell_type": "markdown",
      "metadata": {
        "id": "284e6821"
      },
      "source": [
        "### Question2 Given a list of numbers, create a function which returns the list but with each element&#39;s index in the list added to itself. This means you add 0 to the number at index 0, add 1 to the number at index 1, etc...\n",
        "#### Examples\n",
        "#### add_indexes([0, 0, 0, 0, 0]) ➞ [0, 1, 2, 3, 4]\n",
        "#### add_indexes([1, 2, 3, 4, 5]) ➞ [1, 3, 5, 7, 9]\n",
        "#### add_indexes([5, 4, 3, 2, 1]) ➞ [5, 5, 5, 5, 5]"
      ],
      "id": "284e6821"
    },
    {
      "cell_type": "code",
      "metadata": {
        "id": "8fd8fa3a"
      },
      "source": [
        "def add_indexes(l):\n",
        "    m = []\n",
        "    for i in range(len(l)):\n",
        "        m.append(i+l[i])\n",
        "    return m\n",
        "             "
      ],
      "id": "8fd8fa3a",
      "execution_count": null,
      "outputs": []
    },
    {
      "cell_type": "code",
      "metadata": {
        "id": "abbbf21d",
        "outputId": "73d8cfd6-25fb-4d7c-bc17-45976b2a21e0"
      },
      "source": [
        "add_indexes([0, 0, 0, 0, 0])"
      ],
      "id": "abbbf21d",
      "execution_count": null,
      "outputs": [
        {
          "data": {
            "text/plain": [
              "[0, 1, 2, 3, 4]"
            ]
          },
          "execution_count": 19,
          "metadata": {},
          "output_type": "execute_result"
        }
      ]
    },
    {
      "cell_type": "code",
      "metadata": {
        "id": "0d465618",
        "outputId": "fb875189-ebc7-49cf-efda-26366f8d734b"
      },
      "source": [
        "add_indexes([1, 2, 3, 4, 5])"
      ],
      "id": "0d465618",
      "execution_count": null,
      "outputs": [
        {
          "data": {
            "text/plain": [
              "[1, 3, 5, 7, 9]"
            ]
          },
          "execution_count": 20,
          "metadata": {},
          "output_type": "execute_result"
        }
      ]
    },
    {
      "cell_type": "code",
      "metadata": {
        "id": "653751a5",
        "outputId": "7dc7ca7c-eeb9-4df2-f1e2-0889db4cd53b"
      },
      "source": [
        "add_indexes([5, 4, 3, 2, 1])"
      ],
      "id": "653751a5",
      "execution_count": null,
      "outputs": [
        {
          "data": {
            "text/plain": [
              "[5, 5, 5, 5, 5]"
            ]
          },
          "execution_count": 21,
          "metadata": {},
          "output_type": "execute_result"
        }
      ]
    },
    {
      "cell_type": "markdown",
      "metadata": {
        "id": "b1ada3ba"
      },
      "source": [
        "### Question3 Create a function that takes the height and radius of a cone as arguments and returns the volume of the cone rounded to the nearest hundredth. See the resources tab for the formula.\n",
        "#### Examples\n",
        "#### cone_volume(3, 2) ➞ 12.57\n",
        "#### cone_volume(15, 6) ➞ 565.49\n",
        "#### cone_volume(18, 0) ➞ 0"
      ],
      "id": "b1ada3ba"
    },
    {
      "cell_type": "code",
      "metadata": {
        "id": "8ddf0a50"
      },
      "source": [
        "def cone_volume(h,r):\n",
        "    vol = (3.14*r*r*(h/3))\n",
        "    return vol\n",
        "    "
      ],
      "id": "8ddf0a50",
      "execution_count": null,
      "outputs": []
    },
    {
      "cell_type": "code",
      "metadata": {
        "id": "53ba4aaa",
        "outputId": "b9d677b3-808e-4300-e2f5-99bf2bf0bf7b"
      },
      "source": [
        "cone_volume(15, 6)"
      ],
      "id": "53ba4aaa",
      "execution_count": null,
      "outputs": [
        {
          "data": {
            "text/plain": [
              "565.1999999999999"
            ]
          },
          "execution_count": 23,
          "metadata": {},
          "output_type": "execute_result"
        }
      ]
    },
    {
      "cell_type": "code",
      "metadata": {
        "id": "f6ba96da",
        "outputId": "0c7bfaa1-f30e-41f4-bb24-e0be6ca3fc6f"
      },
      "source": [
        "cone_volume(3,2)"
      ],
      "id": "f6ba96da",
      "execution_count": null,
      "outputs": [
        {
          "data": {
            "text/plain": [
              "12.56"
            ]
          },
          "execution_count": 24,
          "metadata": {},
          "output_type": "execute_result"
        }
      ]
    },
    {
      "cell_type": "code",
      "metadata": {
        "id": "8350f267",
        "outputId": "4e3bd3fa-7360-4192-904d-9c08d1165a30"
      },
      "source": [
        "cone_volume(18,0)"
      ],
      "id": "8350f267",
      "execution_count": null,
      "outputs": [
        {
          "data": {
            "text/plain": [
              "0.0"
            ]
          },
          "execution_count": 25,
          "metadata": {},
          "output_type": "execute_result"
        }
      ]
    },
    {
      "cell_type": "markdown",
      "metadata": {
        "id": "4d0da014"
      },
      "source": [
        "### Question4 This Triangular Number Sequence is generated from a pattern of dots that form a triangle.\n",
        "#### The first 5 numbers of the sequence, or dots, are:\n",
        "#### 1, 3, 6, 10, 15\n",
        "#### This means that the first triangle has just one dot, the second one has three dots, the third one\n",
        "#### has 6 dots and so on.\n",
        "#### Write a function that gives the number of dots with its corresponding triangle number of the\n",
        "#### sequence.\n",
        "#### Examples\n",
        "#### triangle(1) ➞ 1\n",
        "#### triangle(6) ➞ 21\n",
        "#### triangle(215) ➞ 23220"
      ],
      "id": "4d0da014"
    },
    {
      "cell_type": "code",
      "metadata": {
        "id": "ebf95f40"
      },
      "source": [
        "# T = (n)(n + 1) / 2\n",
        "def triangle(n):\n",
        "    t = n*(n+1)*0.5\n",
        "    return t"
      ],
      "id": "ebf95f40",
      "execution_count": null,
      "outputs": []
    },
    {
      "cell_type": "code",
      "metadata": {
        "id": "1a2cc762",
        "outputId": "9d5f8a7c-6b11-4dbb-ab22-2e626fbfb9dc"
      },
      "source": [
        "triangle(1)"
      ],
      "id": "1a2cc762",
      "execution_count": null,
      "outputs": [
        {
          "data": {
            "text/plain": [
              "1.0"
            ]
          },
          "execution_count": 31,
          "metadata": {},
          "output_type": "execute_result"
        }
      ]
    },
    {
      "cell_type": "code",
      "metadata": {
        "id": "11df407e",
        "outputId": "59c96498-0771-40b9-aa4e-fd3f66b36b82"
      },
      "source": [
        "triangle(6)"
      ],
      "id": "11df407e",
      "execution_count": null,
      "outputs": [
        {
          "data": {
            "text/plain": [
              "21.0"
            ]
          },
          "execution_count": 32,
          "metadata": {},
          "output_type": "execute_result"
        }
      ]
    },
    {
      "cell_type": "code",
      "metadata": {
        "id": "96697aaf",
        "outputId": "463f298f-a68d-4fc7-830a-0d1216441312"
      },
      "source": [
        "triangle(215)"
      ],
      "id": "96697aaf",
      "execution_count": null,
      "outputs": [
        {
          "data": {
            "text/plain": [
              "23220.0"
            ]
          },
          "execution_count": 33,
          "metadata": {},
          "output_type": "execute_result"
        }
      ]
    },
    {
      "cell_type": "markdown",
      "metadata": {
        "id": "a401fce2"
      },
      "source": [
        "### Question5 Create a function that takes a list of numbers between 1 and 10 (excluding one number) and returns the missing number.\n",
        "#### Examples\n",
        "#### missing_num([1, 2, 3, 4, 6, 7, 8, 9, 10]) ➞ 5\n",
        "#### missing_num([7, 2, 3, 6, 5, 9, 1, 4, 8]) ➞ 10\n",
        "#### missing_num([10, 5, 1, 2, 4, 6, 8, 3, 9]) ➞ 7"
      ],
      "id": "a401fce2"
    },
    {
      "cell_type": "code",
      "metadata": {
        "id": "f4f96ff1"
      },
      "source": [
        "def missing_num(l):\n",
        "    for i in range(1,11):\n",
        "        if i not in l:\n",
        "            print(i)\n",
        "        "
      ],
      "id": "f4f96ff1",
      "execution_count": null,
      "outputs": []
    },
    {
      "cell_type": "code",
      "metadata": {
        "id": "0b11ea54",
        "outputId": "c6636d44-c904-44a9-bda8-4ef0bfc116a9"
      },
      "source": [
        "missing_num([1, 2, 3, 4, 6, 7, 8, 9, 10])"
      ],
      "id": "0b11ea54",
      "execution_count": null,
      "outputs": [
        {
          "name": "stdout",
          "output_type": "stream",
          "text": [
            "5\n"
          ]
        }
      ]
    },
    {
      "cell_type": "code",
      "metadata": {
        "id": "c4b09e35",
        "outputId": "d5228d35-fc0c-4b6f-88f6-a76ceafc177a"
      },
      "source": [
        "missing_num([7, 2, 3, 6, 5, 9, 1, 4, 8])"
      ],
      "id": "c4b09e35",
      "execution_count": null,
      "outputs": [
        {
          "name": "stdout",
          "output_type": "stream",
          "text": [
            "10\n"
          ]
        }
      ]
    },
    {
      "cell_type": "code",
      "metadata": {
        "id": "411de13b",
        "outputId": "7a623979-53e2-4336-d994-aaab1c57b77e"
      },
      "source": [
        "missing_num([10, 5, 1, 2, 4, 6, 8, 3, 9])"
      ],
      "id": "411de13b",
      "execution_count": null,
      "outputs": [
        {
          "name": "stdout",
          "output_type": "stream",
          "text": [
            "7\n"
          ]
        }
      ]
    }
  ]
}