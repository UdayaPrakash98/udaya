{
  "nbformat": 4,
  "nbformat_minor": 5,
  "metadata": {
    "kernelspec": {
      "display_name": "Python 3",
      "language": "python",
      "name": "python3"
    },
    "language_info": {
      "codemirror_mode": {
        "name": "ipython",
        "version": 3
      },
      "file_extension": ".py",
      "mimetype": "text/x-python",
      "name": "python",
      "nbconvert_exporter": "python",
      "pygments_lexer": "ipython3",
      "version": "3.8.5"
    },
    "colab": {
      "name": "Assignment_19.ipynb",
      "provenance": []
    }
  },
  "cells": [
    {
      "cell_type": "markdown",
      "metadata": {
        "id": "ec50138f"
      },
      "source": [
        "### 1. Make a class called Thing with no contents and print it. Then, create an object called example from this class and also print it. Are the printed values the same or different?"
      ],
      "id": "ec50138f"
    },
    {
      "cell_type": "code",
      "metadata": {
        "id": "909b2524"
      },
      "source": [
        "class thing:\n",
        "    pass"
      ],
      "id": "909b2524",
      "execution_count": null,
      "outputs": []
    },
    {
      "cell_type": "code",
      "metadata": {
        "id": "32e26c12"
      },
      "source": [
        "class example(thing):\n",
        "    pass"
      ],
      "id": "32e26c12",
      "execution_count": null,
      "outputs": []
    },
    {
      "cell_type": "code",
      "metadata": {
        "id": "8c272d6f",
        "outputId": "0277d8df-d1f8-49d9-da3d-8904efe7c464"
      },
      "source": [
        "example"
      ],
      "id": "8c272d6f",
      "execution_count": null,
      "outputs": [
        {
          "data": {
            "text/plain": [
              "__main__.example"
            ]
          },
          "execution_count": 8,
          "metadata": {},
          "output_type": "execute_result"
        }
      ]
    },
    {
      "cell_type": "code",
      "metadata": {
        "id": "3aa912f2",
        "outputId": "5e14e6ce-0685-4b9d-e0ab-5d1253d5ddd7"
      },
      "source": [
        "thing"
      ],
      "id": "3aa912f2",
      "execution_count": null,
      "outputs": [
        {
          "data": {
            "text/plain": [
              "__main__.thing"
            ]
          },
          "execution_count": 10,
          "metadata": {},
          "output_type": "execute_result"
        }
      ]
    },
    {
      "cell_type": "markdown",
      "metadata": {
        "id": "34a82d2b"
      },
      "source": [
        "### 2. Create a new class called Thing2 and add the value &#39;abc&#39; to the letters class attribute. Letters should be printed."
      ],
      "id": "34a82d2b"
    },
    {
      "cell_type": "code",
      "metadata": {
        "id": "c10998a2"
      },
      "source": [
        "class thing2:\n",
        "    letters = 'abc'"
      ],
      "id": "c10998a2",
      "execution_count": null,
      "outputs": []
    },
    {
      "cell_type": "code",
      "metadata": {
        "id": "421c75c5",
        "outputId": "d7254d8c-d166-4417-e822-7228064da5fc"
      },
      "source": [
        "thing2.letters"
      ],
      "id": "421c75c5",
      "execution_count": null,
      "outputs": [
        {
          "data": {
            "text/plain": [
              "'abc'"
            ]
          },
          "execution_count": 13,
          "metadata": {},
          "output_type": "execute_result"
        }
      ]
    },
    {
      "cell_type": "markdown",
      "metadata": {
        "id": "a6b39583"
      },
      "source": [
        "### 3. Make yet another class called, of course, Thing3. This time, assign the value &#39;xyz&#39; to an instance (object) attribute called letters. Print letters. Do you need to make an object from the class to do this?"
      ],
      "id": "a6b39583"
    },
    {
      "cell_type": "code",
      "metadata": {
        "id": "cf49518d"
      },
      "source": [
        "class things3:\n",
        "    letters = 'xyz'\n",
        "    "
      ],
      "id": "cf49518d",
      "execution_count": null,
      "outputs": []
    },
    {
      "cell_type": "code",
      "metadata": {
        "id": "e9859015",
        "outputId": "32641e53-cef7-4423-aa0c-df8314a75f6e"
      },
      "source": [
        "things3.letters"
      ],
      "id": "e9859015",
      "execution_count": null,
      "outputs": [
        {
          "data": {
            "text/plain": [
              "'xyz'"
            ]
          },
          "execution_count": 19,
          "metadata": {},
          "output_type": "execute_result"
        }
      ]
    },
    {
      "cell_type": "markdown",
      "metadata": {
        "id": "61ed0d39"
      },
      "source": [
        "### 4. Create an Element class with the instance attributes name, symbol, and number. Create a class object with the values &#39;Hydrogen,&#39; &#39;H,&#39; and 1."
      ],
      "id": "61ed0d39"
    },
    {
      "cell_type": "code",
      "metadata": {
        "id": "1648ee37",
        "outputId": "c1543745-07ec-48df-c549-807d66f12531"
      },
      "source": [
        "class element:\n",
        "    def __init__(self,name,symbol,number):\n",
        "        self.name = name\n",
        "        self.symbol = symbol\n",
        "        self.number = number\n",
        "        print(\"\\n name: {} \\n symbol: {} \\n number: {}\".format(self.name,self.symbol,self.number))\n",
        "    \n",
        "    \n",
        "ele = element('hydrogen', 'H', 1)\n",
        "print(ele)\n",
        "    "
      ],
      "id": "1648ee37",
      "execution_count": null,
      "outputs": [
        {
          "name": "stdout",
          "output_type": "stream",
          "text": [
            "\n",
            " name: hydrogen \n",
            " symbol: H \n",
            " number: 1\n",
            "<__main__.element object at 0x000001EFC189D820>\n"
          ]
        }
      ]
    },
    {
      "cell_type": "markdown",
      "metadata": {
        "id": "a4110365"
      },
      "source": [
        "### 5. Make a dictionary with these keys and values: &#39;name&#39;: &#39;Hydrogen&#39;, &#39;symbol&#39;: &#39;H&#39;, &#39;number&#39;: 1. Then, create an object called hydrogen from class Element using this dictionary."
      ],
      "id": "a4110365"
    },
    {
      "cell_type": "code",
      "metadata": {
        "id": "f802638b",
        "outputId": "6fef6cf5-dabd-40b8-cf34-9ecf1296b5c2"
      },
      "source": [
        "ele_dict = {'name': 'Hydrogen', 'symbol': 'H', 'number': 1}\n",
        "\n",
        "hydrogen = element(**ele_dict) #single * gives key, ** gives values\n",
        "print(hydrogen)\n",
        "    "
      ],
      "id": "f802638b",
      "execution_count": null,
      "outputs": [
        {
          "name": "stdout",
          "output_type": "stream",
          "text": [
            "\n",
            " name: Hydrogen \n",
            " symbol: H \n",
            " number: 1\n",
            "<__main__.element object at 0x000001EFC189DAF0>\n"
          ]
        }
      ]
    },
    {
      "cell_type": "markdown",
      "metadata": {
        "id": "e16f6c5a"
      },
      "source": [
        "### 6. For the Element class, define a method called dump() that prints the values of the object’s attributes (name, symbol, and number). Create the hydrogen object from this new definition and use dump() to print its attributes."
      ],
      "id": "e16f6c5a"
    },
    {
      "cell_type": "code",
      "metadata": {
        "id": "99eba578"
      },
      "source": [
        "class element:\n",
        "    def __init__(self,name,symbol,number):\n",
        "        self.name = name\n",
        "        self.symbol = symbol\n",
        "        self.number = number\n",
        "    \n",
        "    def dump(self):\n",
        "        print(self.name,self.symbol,self.number)\n"
      ],
      "id": "99eba578",
      "execution_count": null,
      "outputs": []
    },
    {
      "cell_type": "code",
      "metadata": {
        "id": "47c4824b",
        "outputId": "11fdd409-7e45-46cd-8ec1-970e4ab8f897"
      },
      "source": [
        "hydrogen = element('hydrogen', 'H', 1)\n",
        "hydrogen.dump()"
      ],
      "id": "47c4824b",
      "execution_count": null,
      "outputs": [
        {
          "name": "stdout",
          "output_type": "stream",
          "text": [
            "hydrogen H 1\n"
          ]
        }
      ]
    },
    {
      "cell_type": "markdown",
      "metadata": {
        "id": "58099c1d"
      },
      "source": [
        "### 7. Call print(hydrogen). In the definition of Element, change the name of method dump to __str__, create a new hydrogen object, and call print(hydrogen) again."
      ],
      "id": "58099c1d"
    },
    {
      "cell_type": "code",
      "metadata": {
        "id": "90ca663c",
        "outputId": "f3127605-1800-4003-e807-24ab48dbc4b5"
      },
      "source": [
        "class element:\n",
        "    def __init__(self,name,symbol,number):\n",
        "        self.name = name\n",
        "        self.symbol = symbol\n",
        "        self.number = number\n",
        "        \n",
        "    \n",
        "    def __str__(self):\n",
        "        return \"\\n name: {} \\n symbol: {} \\n number: {}\".format(self.name,self.symbol,self.number)\n",
        "\n",
        "hydrogen = element('hydrogen', 'H', 1)\n",
        "print(hydrogen)"
      ],
      "id": "90ca663c",
      "execution_count": null,
      "outputs": [
        {
          "name": "stdout",
          "output_type": "stream",
          "text": [
            "\n",
            " name: hydrogen \n",
            " symbol: H \n",
            " number: 1\n"
          ]
        }
      ]
    },
    {
      "cell_type": "markdown",
      "metadata": {
        "id": "3e381d54"
      },
      "source": [
        "### 8. Modify Element to make the attributes name, symbol, and number private. Define a getter property for each to return its value."
      ],
      "id": "3e381d54"
    },
    {
      "cell_type": "code",
      "metadata": {
        "id": "833ef84c",
        "outputId": "1ca76ac2-0cf3-4575-84fd-07e53c5dbe73"
      },
      "source": [
        "class element:\n",
        "    def __init__(self,name,symbol,number):\n",
        "        self.name = name\n",
        "        self.symbol = symbol\n",
        "        self.number = number\n",
        "    \n",
        "    def name(self):\n",
        "        return self.__name\n",
        "    \n",
        "    def symbol(self):\n",
        "        return self.__symbol\n",
        "    \n",
        "    def number(self):\n",
        "        return self.__number\n",
        "\n",
        "ele = element(\"rushikesh\",\"rmp\", '91')\n",
        "\n",
        "print(ele.name+\"\\n\"+ele.symbol+\"\\n\"+ele.number )"
      ],
      "id": "833ef84c",
      "execution_count": null,
      "outputs": [
        {
          "name": "stdout",
          "output_type": "stream",
          "text": [
            "rushikesh\n",
            "rmp\n",
            "91\n"
          ]
        }
      ]
    },
    {
      "cell_type": "markdown",
      "metadata": {
        "id": "438470c2"
      },
      "source": [
        "### 9. Define three classes: Bear, Rabbit, and Octothorpe. For each, define only one method: eats(). This should return &#39;berries&#39; (Bear), &#39;clover&#39; (Rabbit), or &#39;campers&#39; (Octothorpe). Create one object from each and print what it eats."
      ],
      "id": "438470c2"
    },
    {
      "cell_type": "code",
      "metadata": {
        "id": "605ed675"
      },
      "source": [
        "class bear:\n",
        "    def eat(self):\n",
        "        return \"berries\"\n",
        "\n",
        "class rabbit:\n",
        "    def eat(self):\n",
        "        return \"clover\"\n",
        "\n",
        "class octothorpe:\n",
        "    def eat(self):\n",
        "        return \"campers\"\n"
      ],
      "id": "605ed675",
      "execution_count": null,
      "outputs": []
    },
    {
      "cell_type": "code",
      "metadata": {
        "id": "4ec10b82",
        "outputId": "168ee9ff-4af8-42fb-b6fc-b5819f9fe2d2"
      },
      "source": [
        "b = bear()\n",
        "r = rabbit()\n",
        "o = octothorpe()\n",
        "\n",
        "print(b.eat())\n",
        "print(r.eat())\n",
        "print(o.eat())"
      ],
      "id": "4ec10b82",
      "execution_count": null,
      "outputs": [
        {
          "name": "stdout",
          "output_type": "stream",
          "text": [
            "berries\n",
            "clover\n",
            "campers\n"
          ]
        }
      ]
    },
    {
      "cell_type": "markdown",
      "metadata": {
        "id": "8c113d42"
      },
      "source": [
        "### 10. Define these classes: Laser, Claw, and SmartPhone. Each has only one method: does(). This returns &#39;disintegrate&#39; (Laser), &#39;crush&#39; (Claw), or &#39;ring&#39; (SmartPhone). Then, define the class Robot that has one instance (object) of each of these. Define a does() method for the Robot that prints what its component objects do."
      ],
      "id": "8c113d42"
    },
    {
      "cell_type": "code",
      "metadata": {
        "id": "f49e07a5",
        "outputId": "6a30c093-a0a8-4507-af7e-6305b856cfec"
      },
      "source": [
        "class laser:\n",
        "    def does(self):\n",
        "        return \"disintegrate\"\n",
        "    \n",
        "class claw:\n",
        "    def does(self):\n",
        "        return \"crush\"\n",
        "    \n",
        "class smartphone:\n",
        "    def does(self):\n",
        "        return \"ring\"\n",
        "    \n",
        "class robot:\n",
        "    def __init__(self, laser, claw, smartphone):\n",
        "        self.laser = laser\n",
        "        self.claw = claw\n",
        "        self.smartphone = smartphone\n",
        "    \n",
        "    def does(self):\n",
        "        print(self.laser.does(),self.claw.does(), self.smartphone.does())\n",
        "        \n",
        "l = laser()\n",
        "c = claw()\n",
        "s = smartphone()\n",
        "robot = robot(l,c,s)\n",
        "robot.does()\n",
        "    "
      ],
      "id": "f49e07a5",
      "execution_count": null,
      "outputs": [
        {
          "name": "stdout",
          "output_type": "stream",
          "text": [
            "disintegrate crush ring\n"
          ]
        }
      ]
    }
  ]
}