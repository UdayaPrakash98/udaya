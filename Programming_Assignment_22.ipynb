{
  "nbformat": 4,
  "nbformat_minor": 5,
  "metadata": {
    "kernelspec": {
      "display_name": "Python 3",
      "language": "python",
      "name": "python3"
    },
    "language_info": {
      "codemirror_mode": {
        "name": "ipython",
        "version": 3
      },
      "file_extension": ".py",
      "mimetype": "text/x-python",
      "name": "python",
      "nbconvert_exporter": "python",
      "pygments_lexer": "ipython3",
      "version": "3.8.5"
    },
    "colab": {
      "name": "Programming Assignment_22.ipynb",
      "provenance": []
    }
  },
  "cells": [
    {
      "cell_type": "markdown",
      "metadata": {
        "id": "75340eeb"
      },
      "source": [
        "### Question1\n",
        "#### Create a function that takes three parameters where:\n",
        "####  x is the start of the range (inclusive).\n",
        "####  y is the end of the range (inclusive).\n",
        "####  n is the divisor to be checked against.\n",
        "#### Return an ordered list with numbers in the range that are divisible by the third parameter n.\n",
        "#### Return an empty list if there are no numbers that are divisible by n.\n",
        "#### Examples\n",
        "#### list_operation(1, 10, 3) ➞ [3, 6, 9]\n",
        "#### list_operation(7, 9, 2) ➞ [8]\n",
        "#### list_operation(15, 20, 7) ➞ []"
      ],
      "id": "75340eeb"
    },
    {
      "cell_type": "code",
      "metadata": {
        "id": "26293cd0"
      },
      "source": [
        "def list_operation(x,y,n):\n",
        "    l = []\n",
        "    for i in range(x,y+1):\n",
        "        if i%n==0:\n",
        "            l.append(i)\n",
        "    return l\n",
        "            \n",
        "        "
      ],
      "id": "26293cd0",
      "execution_count": null,
      "outputs": []
    },
    {
      "cell_type": "code",
      "metadata": {
        "id": "82e798ab",
        "outputId": "c8fac871-0c12-4bb1-8885-8df5aa9655a8"
      },
      "source": [
        "list_operation(1, 10, 3)"
      ],
      "id": "82e798ab",
      "execution_count": null,
      "outputs": [
        {
          "data": {
            "text/plain": [
              "[3, 6, 9]"
            ]
          },
          "execution_count": 3,
          "metadata": {},
          "output_type": "execute_result"
        }
      ]
    },
    {
      "cell_type": "code",
      "metadata": {
        "id": "4572e969",
        "outputId": "e8bba6d9-5bfb-4104-fb5f-89cb947fbc38"
      },
      "source": [
        "list_operation(7, 9, 2)"
      ],
      "id": "4572e969",
      "execution_count": null,
      "outputs": [
        {
          "data": {
            "text/plain": [
              "[8]"
            ]
          },
          "execution_count": 5,
          "metadata": {},
          "output_type": "execute_result"
        }
      ]
    },
    {
      "cell_type": "code",
      "metadata": {
        "id": "424607cb",
        "outputId": "eb95d17c-914a-4826-f42c-461a6ea2e488"
      },
      "source": [
        "list_operation(15, 20, 7)"
      ],
      "id": "424607cb",
      "execution_count": null,
      "outputs": [
        {
          "data": {
            "text/plain": [
              "[]"
            ]
          },
          "execution_count": 6,
          "metadata": {},
          "output_type": "execute_result"
        }
      ]
    },
    {
      "cell_type": "markdown",
      "metadata": {
        "id": "0cb6cc33"
      },
      "source": [
        "### Question2\n",
        "#### Create a function that takes in two lists and returns True if the second list follows the first list\n",
        "#### by one element, and False otherwise. In other words, determine if the second list is the first\n",
        "#### list shifted to the right by 1.\n",
        "#### Examples\n",
        "#### simon_says([1, 2], [5, 1]) ➞ True\n",
        "#### simon_says([1, 2], [5, 5]) ➞ False\n",
        "#### simon_says([1, 2, 3, 4, 5], [0, 1, 2, 3, 4]) ➞ True\n",
        "#### simon_says([1, 2, 3, 4, 5], [5, 5, 1, 2, 3]) ➞ False\n",
        "#### Notes\n",
        "####  Both input lists will be of the same length, and will have a minimum length of 2.\n",
        "####  The values of the 0-indexed element in the second list and the n-1th indexed element\n",
        "#### in the first list do not matter."
      ],
      "id": "0cb6cc33"
    },
    {
      "cell_type": "code",
      "metadata": {
        "id": "62fbf710"
      },
      "source": [
        "def simon_says(l1,l2):\n",
        "    return l1[0:len(l1)-1]==l2[1:len(l2)]\n",
        "\n",
        "        "
      ],
      "id": "62fbf710",
      "execution_count": null,
      "outputs": []
    },
    {
      "cell_type": "code",
      "metadata": {
        "id": "3297945e",
        "outputId": "f38f8360-5c78-4cbc-fe2f-7b583ae41c57"
      },
      "source": [
        "simon_says([1, 2], [5, 1]) "
      ],
      "id": "3297945e",
      "execution_count": null,
      "outputs": [
        {
          "data": {
            "text/plain": [
              "True"
            ]
          },
          "execution_count": 20,
          "metadata": {},
          "output_type": "execute_result"
        }
      ]
    },
    {
      "cell_type": "code",
      "metadata": {
        "id": "9a5902f7",
        "outputId": "1f5a983a-8cbf-448c-c940-d9b51d9f1fb6"
      },
      "source": [
        "simon_says([1, 2], [5, 5])"
      ],
      "id": "9a5902f7",
      "execution_count": null,
      "outputs": [
        {
          "data": {
            "text/plain": [
              "False"
            ]
          },
          "execution_count": 21,
          "metadata": {},
          "output_type": "execute_result"
        }
      ]
    },
    {
      "cell_type": "code",
      "metadata": {
        "id": "c11ae673",
        "outputId": "0fdff787-abce-4c31-eb1b-5482ee773029"
      },
      "source": [
        "simon_says([1, 2, 3, 4, 5], [0, 1, 2, 3, 4]) "
      ],
      "id": "c11ae673",
      "execution_count": null,
      "outputs": [
        {
          "data": {
            "text/plain": [
              "True"
            ]
          },
          "execution_count": 22,
          "metadata": {},
          "output_type": "execute_result"
        }
      ]
    },
    {
      "cell_type": "code",
      "metadata": {
        "id": "5d42d1ea",
        "outputId": "95bcd529-ff87-4a4a-a233-5149daf9dac4"
      },
      "source": [
        "simon_says([1, 2, 3, 4, 5], [5, 5, 1, 2, 3])"
      ],
      "id": "5d42d1ea",
      "execution_count": null,
      "outputs": [
        {
          "data": {
            "text/plain": [
              "False"
            ]
          },
          "execution_count": 23,
          "metadata": {},
          "output_type": "execute_result"
        }
      ]
    },
    {
      "cell_type": "markdown",
      "metadata": {
        "id": "1b1ac060"
      },
      "source": [
        "### Question3\n",
        "#### A group of friends have decided to start a secret society. The name will be the first letter of\n",
        "#### each of their names, sorted in alphabetical order.\n",
        "#### Create a function that takes in a list of names and returns the name of the secret society.\n",
        "#### \n",
        "#### Examples\n",
        "#### society_name([&quot;Adam&quot;, &quot;Sarah&quot;, &quot;Malcolm&quot;]) ➞ &quot;AMS&quot;\n",
        "#### society_name([&quot;Harry&quot;, &quot;Newt&quot;, &quot;Luna&quot;, &quot;Cho&quot;]) ➞ &quot;CHLN&quot;\n",
        "#### society_name([&quot;Phoebe&quot;, &quot;Chandler&quot;, &quot;Rachel&quot;, &quot;Ross&quot;, &quot;Monica&quot;, &quot;Joey&quot;])"
      ],
      "id": "1b1ac060"
    },
    {
      "cell_type": "code",
      "metadata": {
        "id": "07e2621f"
      },
      "source": [
        "def society_name(l):\n",
        "    l1 = []\n",
        "    for i in l:\n",
        "        l1.append(i[0])\n",
        "    l1 = sorted(l1)\n",
        "    return ''.join(l1)\n",
        "        "
      ],
      "id": "07e2621f",
      "execution_count": null,
      "outputs": []
    },
    {
      "cell_type": "code",
      "metadata": {
        "id": "f1b59002",
        "outputId": "e302a380-ffa7-4b92-a171-2237b695ab94"
      },
      "source": [
        "society_name([\"Adam\", \"Sarah\", \"Malcolm\"])"
      ],
      "id": "f1b59002",
      "execution_count": null,
      "outputs": [
        {
          "data": {
            "text/plain": [
              "'AMS'"
            ]
          },
          "execution_count": 35,
          "metadata": {},
          "output_type": "execute_result"
        }
      ]
    },
    {
      "cell_type": "code",
      "metadata": {
        "id": "d8529d72",
        "outputId": "8dc1a38f-8247-4a6e-a65f-7b4d2c7139c3"
      },
      "source": [
        "society_name([\"Harry\", \"Newt\", \"Luna\", \"Cho\"])"
      ],
      "id": "d8529d72",
      "execution_count": null,
      "outputs": [
        {
          "data": {
            "text/plain": [
              "'CHLN'"
            ]
          },
          "execution_count": 36,
          "metadata": {},
          "output_type": "execute_result"
        }
      ]
    },
    {
      "cell_type": "code",
      "metadata": {
        "id": "5954b285",
        "outputId": "bbecbc4c-917e-448e-87d1-7c6f82532202"
      },
      "source": [
        "society_name([\"Phoebe\", \"Chandler\", \"Rachel\", \"Ross\", \"Monica\", \"Joey\"])"
      ],
      "id": "5954b285",
      "execution_count": null,
      "outputs": [
        {
          "data": {
            "text/plain": [
              "'CJMPRR'"
            ]
          },
          "execution_count": 37,
          "metadata": {},
          "output_type": "execute_result"
        }
      ]
    },
    {
      "cell_type": "markdown",
      "metadata": {
        "id": "cb546541"
      },
      "source": [
        "### Question4\n",
        "#### An isogram is a word that has no duplicate letters. Create a function that takes a string and\n",
        "#### returns either True or False depending on whether or not it&#39;s an &quot;isogram&quot;.\n",
        "#### Examples\n",
        "#### is_isogram(&quot;Algorism&quot;) ➞ True\n",
        "#### is_isogram(&quot;PasSword&quot;) ➞ False\n",
        "#### # Not case sensitive.\n",
        "#### is_isogram(&quot;Consecutive&quot;) ➞ False\n",
        "#### Notes\n",
        "####  Ignore letter case (should not be case sensitive).\n",
        "####  All test cases contain valid one word strings."
      ],
      "id": "cb546541"
    },
    {
      "cell_type": "code",
      "metadata": {
        "id": "41750798"
      },
      "source": [
        "def is_isogram(string):\n",
        "    for i in range(len(string)):\n",
        "        if string.lower().count(string[i]) > 1:\n",
        "            return False\n",
        "    else:\n",
        "        return True"
      ],
      "id": "41750798",
      "execution_count": null,
      "outputs": []
    },
    {
      "cell_type": "code",
      "metadata": {
        "id": "a8913d35",
        "outputId": "fe63e2dd-8bde-4cd8-d73d-b2dc578b1636"
      },
      "source": [
        "is_isogram(\"Algorism\")"
      ],
      "id": "a8913d35",
      "execution_count": null,
      "outputs": [
        {
          "data": {
            "text/plain": [
              "True"
            ]
          },
          "execution_count": 53,
          "metadata": {},
          "output_type": "execute_result"
        }
      ]
    },
    {
      "cell_type": "code",
      "metadata": {
        "id": "b788e277",
        "outputId": "2fe2ca7f-a410-4981-825f-22cce3675de4"
      },
      "source": [
        "is_isogram(\"PasSword\")"
      ],
      "id": "b788e277",
      "execution_count": null,
      "outputs": [
        {
          "data": {
            "text/plain": [
              "False"
            ]
          },
          "execution_count": 54,
          "metadata": {},
          "output_type": "execute_result"
        }
      ]
    },
    {
      "cell_type": "code",
      "metadata": {
        "id": "d487c8e6",
        "outputId": "1999f4d9-45ec-47c7-f5ad-e1af89e8da55"
      },
      "source": [
        "is_isogram(\"Consecutive\")"
      ],
      "id": "d487c8e6",
      "execution_count": null,
      "outputs": [
        {
          "data": {
            "text/plain": [
              "False"
            ]
          },
          "execution_count": 55,
          "metadata": {},
          "output_type": "execute_result"
        }
      ]
    },
    {
      "cell_type": "markdown",
      "metadata": {
        "id": "74effe42"
      },
      "source": [
        "#### Question5\n",
        "#### Create a function that takes a string and returns True or False, depending on whether the\n",
        "#### characters are in order or not.\n",
        "#### Examples\n",
        "#### is_in_order(&quot;abc&quot;) ➞ True\n",
        "#### is_in_order(&quot;edabit&quot;) ➞ False\n",
        "#### is_in_order(&quot;123&quot;) ➞ True\n",
        "#### is_in_order(&quot;xyzz&quot;) ➞ True\n",
        "#### Notes\n",
        "#### You don&#39;t have to handle empty strings."
      ],
      "id": "74effe42"
    },
    {
      "cell_type": "code",
      "metadata": {
        "id": "66973bbf"
      },
      "source": [
        "def is_in_order(string):\n",
        "    string1 = sorted(string)\n",
        "    string1 = ''.join(string1)\n",
        "    if string1==string:\n",
        "        return True\n",
        "    else:\n",
        "        return False"
      ],
      "id": "66973bbf",
      "execution_count": null,
      "outputs": []
    },
    {
      "cell_type": "code",
      "metadata": {
        "id": "33861640",
        "outputId": "db8d5a1b-3ef3-4ce0-bbd0-39fdd5a43f88"
      },
      "source": [
        "is_in_order(\"abc\")"
      ],
      "id": "33861640",
      "execution_count": null,
      "outputs": [
        {
          "data": {
            "text/plain": [
              "True"
            ]
          },
          "execution_count": 61,
          "metadata": {},
          "output_type": "execute_result"
        }
      ]
    },
    {
      "cell_type": "code",
      "metadata": {
        "id": "1afddbea",
        "outputId": "1928164f-f2ed-4c14-e3ee-48727ffbc893"
      },
      "source": [
        "is_in_order(\"edabit\")"
      ],
      "id": "1afddbea",
      "execution_count": null,
      "outputs": [
        {
          "data": {
            "text/plain": [
              "False"
            ]
          },
          "execution_count": 62,
          "metadata": {},
          "output_type": "execute_result"
        }
      ]
    },
    {
      "cell_type": "code",
      "metadata": {
        "id": "eeb53eeb",
        "outputId": "bce011ed-8d8c-4b01-9050-1c37aa007c1e"
      },
      "source": [
        "is_in_order(\"123\")"
      ],
      "id": "eeb53eeb",
      "execution_count": null,
      "outputs": [
        {
          "data": {
            "text/plain": [
              "True"
            ]
          },
          "execution_count": 63,
          "metadata": {},
          "output_type": "execute_result"
        }
      ]
    },
    {
      "cell_type": "code",
      "metadata": {
        "id": "a0ce9d70",
        "outputId": "24fa7b7e-0b7b-456e-a7d6-5688ece5604f"
      },
      "source": [
        "is_in_order(\"xyzz\")"
      ],
      "id": "a0ce9d70",
      "execution_count": null,
      "outputs": [
        {
          "data": {
            "text/plain": [
              "True"
            ]
          },
          "execution_count": 64,
          "metadata": {},
          "output_type": "execute_result"
        }
      ]
    }
  ]
}