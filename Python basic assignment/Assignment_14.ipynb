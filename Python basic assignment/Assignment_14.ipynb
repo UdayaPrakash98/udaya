{
  "nbformat": 4,
  "nbformat_minor": 5,
  "metadata": {
    "kernelspec": {
      "display_name": "Python 3",
      "language": "python",
      "name": "python3"
    },
    "language_info": {
      "codemirror_mode": {
        "name": "ipython",
        "version": 3
      },
      "file_extension": ".py",
      "mimetype": "text/x-python",
      "name": "python",
      "nbconvert_exporter": "python",
      "pygments_lexer": "ipython3",
      "version": "3.8.5"
    },
    "colab": {
      "name": "Assignment_14.ipynb",
      "provenance": []
    }
  },
  "cells": [
    {
      "cell_type": "markdown",
      "metadata": {
        "id": "e6ecbeab"
      },
      "source": [
        "### 1. What does RGBA stand for?"
      ],
      "id": "e6ecbeab"
    },
    {
      "cell_type": "markdown",
      "metadata": {
        "id": "76a84555"
      },
      "source": [
        "    An RGBA value is a group of numbers that specify the amount of red, green, blue, and alpha (or transparency) in a color."
      ],
      "id": "76a84555"
    },
    {
      "cell_type": "markdown",
      "metadata": {
        "id": "47f784cd"
      },
      "source": [
        "### 2. From the Pillow module, how do you get the RGBA value of any images?"
      ],
      "id": "47f784cd"
    },
    {
      "cell_type": "markdown",
      "metadata": {
        "id": "c4b9672c"
      },
      "source": [
        "    ImageColor.getcolor() gives rgba value of any image."
      ],
      "id": "c4b9672c"
    },
    {
      "cell_type": "markdown",
      "metadata": {
        "id": "78b8493b"
      },
      "source": [
        "### 3. What is a box tuple, and how does it work?"
      ],
      "id": "78b8493b"
    },
    {
      "cell_type": "markdown",
      "metadata": {
        "id": "97418350"
      },
      "source": [
        "    Box tuple is container of tuple of four integers where x-coordinate is represented by left edge, y-coordinate by top\n",
        "    edge width and height respectively."
      ],
      "id": "97418350"
    },
    {
      "cell_type": "markdown",
      "metadata": {
        "id": "462486da"
      },
      "source": [
        "### 4. Use your image and load in notebook then, How can you find out the width and height of an Image object?"
      ],
      "id": "462486da"
    },
    {
      "cell_type": "code",
      "metadata": {
        "id": "4f305100"
      },
      "source": [
        "from PIL import Image"
      ],
      "id": "4f305100",
      "execution_count": null,
      "outputs": []
    },
    {
      "cell_type": "code",
      "metadata": {
        "id": "b13a7bb9",
        "outputId": "5cba6fa5-985a-428a-f8fb-863f5c9efc3b"
      },
      "source": [
        "pic = PIL.Image.open('trial.jpg')\n",
        "width = pic.width\n",
        "height = pic.height\n",
        "\n",
        "print(\"width and height of image is {}, {} respectively\".format(width,height))"
      ],
      "id": "b13a7bb9",
      "execution_count": null,
      "outputs": [
        {
          "name": "stdout",
          "output_type": "stream",
          "text": [
            "width and height of image is 1280, 720 respectively\n"
          ]
        }
      ]
    },
    {
      "cell_type": "markdown",
      "metadata": {
        "id": "5b6a9cd9"
      },
      "source": [
        "### 5. What method would you call to get Image object for a 100×100 image, excluding the lower-left quarter of it?"
      ],
      "id": "5b6a9cd9"
    },
    {
      "cell_type": "markdown",
      "metadata": {
        "id": "2c636872"
      },
      "source": [
        "    imageObj.crop((0, 50, 50, 50))"
      ],
      "id": "2c636872"
    },
    {
      "cell_type": "markdown",
      "metadata": {
        "id": "8d080f66"
      },
      "source": [
        "### 6. After making changes to an Image object, how could you save it as an image file?"
      ],
      "id": "8d080f66"
    },
    {
      "cell_type": "markdown",
      "metadata": {
        "id": "34725ae3"
      },
      "source": [
        "    imageObj.save('new_name.jpg')"
      ],
      "id": "34725ae3"
    },
    {
      "cell_type": "markdown",
      "metadata": {
        "id": "f5230d30"
      },
      "source": [
        "### 7. What module contains Pillow’s shape-drawing code?"
      ],
      "id": "f5230d30"
    },
    {
      "cell_type": "markdown",
      "metadata": {
        "id": "f1dcc9a0"
      },
      "source": [
        "    ImageDraw module"
      ],
      "id": "f1dcc9a0"
    },
    {
      "cell_type": "markdown",
      "metadata": {
        "id": "61a64d64"
      },
      "source": [
        "### 8. Image objects do not have drawing methods. What kind of object does? How do you get this kind of object?"
      ],
      "id": "61a64d64"
    },
    {
      "cell_type": "markdown",
      "metadata": {
        "id": "f28e3f72"
      },
      "source": [
        "    They have shape drawing methods like line(), point(), rectangle()\n",
        "    we can call they by using ImageDraw.Draw() function."
      ],
      "id": "f28e3f72"
    }
  ]
}