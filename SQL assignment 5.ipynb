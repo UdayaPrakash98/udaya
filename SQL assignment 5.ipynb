{
 "cells": [
  {
   "cell_type": "code",
   "execution_count": null,
   "id": "07eb9e9e",
   "metadata": {},
   "outputs": [],
   "source": [
    "1.Write an SQL query to print details of workers excluding first names, “Vipul” and\n",
    "“Satish” from Worker table.\n",
    "\n",
    "Select * from Worker \n",
    "where FIRST_NAME not in ('Vipul','Satish');\n"
   ]
  },
  {
   "cell_type": "code",
   "execution_count": null,
   "id": "fd2de2db",
   "metadata": {},
   "outputs": [],
   "source": [
    "2.Write an SQL query to print details of the Workers whose FIRST_NAME ends with\n",
    "‘h’ and contains six alphabets.\n",
    "\n",
    "Select * from Worker \n",
    "where FIRST_NAME like '_____h';\n"
   ]
  },
  {
   "cell_type": "code",
   "execution_count": null,
   "id": "330e1b52",
   "metadata": {},
   "outputs": [],
   "source": [
    "3.Write a query to validate Email of Employee.\n",
    "\n",
    "SELECT * FROM Employee\n",
    "WHERE Email LIKE '%@gmail.com';"
   ]
  }
 ],
 "metadata": {
  "kernelspec": {
   "display_name": "Python 3",
   "language": "python",
   "name": "python3"
  },
  "language_info": {
   "codemirror_mode": {
    "name": "ipython",
    "version": 3
   },
   "file_extension": ".py",
   "mimetype": "text/x-python",
   "name": "python",
   "nbconvert_exporter": "python",
   "pygments_lexer": "ipython3",
   "version": "3.9.5"
  }
 },
 "nbformat": 4,
 "nbformat_minor": 5
}
