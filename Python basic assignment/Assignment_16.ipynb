{
  "nbformat": 4,
  "nbformat_minor": 5,
  "metadata": {
    "kernelspec": {
      "display_name": "Python 3",
      "language": "python",
      "name": "python3"
    },
    "language_info": {
      "codemirror_mode": {
        "name": "ipython",
        "version": 3
      },
      "file_extension": ".py",
      "mimetype": "text/x-python",
      "name": "python",
      "nbconvert_exporter": "python",
      "pygments_lexer": "ipython3",
      "version": "3.8.5"
    },
    "colab": {
      "name": "Assignment_16.ipynb",
      "provenance": []
    }
  },
  "cells": [
    {
      "cell_type": "markdown",
      "metadata": {
        "id": "82321a8a"
      },
      "source": [
        "### 1. Create a list called years_list, starting with the year of your birth, and each year thereafter until the year of your fifth birthday. For example, if you were born in 1980. the list would be years_list = [1980, 1981, 1982, 1983, 1984, 1985]."
      ],
      "id": "82321a8a"
    },
    {
      "cell_type": "code",
      "metadata": {
        "id": "0e9e404e",
        "outputId": "863236c1-90c2-48cb-d254-8858dde74192"
      },
      "source": [
        "yob = int(input(\"Enter year of birth\"))\n",
        "years_list = []\n",
        "if type(yob)==int:\n",
        "    for i in range(yob,yob+6):\n",
        "        years_list.append(i)\n",
        "print(years_list)"
      ],
      "id": "0e9e404e",
      "execution_count": null,
      "outputs": [
        {
          "name": "stdout",
          "output_type": "stream",
          "text": [
            "Enter year of birth1998\n",
            "[1998, 1999, 2000, 2001, 2002, 2003]\n"
          ]
        }
      ]
    },
    {
      "cell_type": "markdown",
      "metadata": {
        "id": "6127d4a5"
      },
      "source": [
        "### 2. In which year in years_list was your third birthday? Remember, you were 0 years of age for your first year."
      ],
      "id": "6127d4a5"
    },
    {
      "cell_type": "code",
      "metadata": {
        "id": "42d64cd7",
        "outputId": "697b0e77-f6bc-4bfb-af97-5d33388614ef"
      },
      "source": [
        "years_list[3]"
      ],
      "id": "42d64cd7",
      "execution_count": null,
      "outputs": [
        {
          "data": {
            "text/plain": [
              "2001"
            ]
          },
          "execution_count": 16,
          "metadata": {},
          "output_type": "execute_result"
        }
      ]
    },
    {
      "cell_type": "markdown",
      "metadata": {
        "id": "5762ba77"
      },
      "source": [
        "### 3.In the years list, which year were you the oldest?"
      ],
      "id": "5762ba77"
    },
    {
      "cell_type": "code",
      "metadata": {
        "id": "0e935d8c",
        "outputId": "3db74030-1870-4312-d79e-9cf160621bab"
      },
      "source": [
        "years_list[-1]"
      ],
      "id": "0e935d8c",
      "execution_count": null,
      "outputs": [
        {
          "data": {
            "text/plain": [
              "2003"
            ]
          },
          "execution_count": 17,
          "metadata": {},
          "output_type": "execute_result"
        }
      ]
    },
    {
      "cell_type": "markdown",
      "metadata": {
        "id": "32119c74"
      },
      "source": [
        "### 4. Make a list called things with these three strings as elements: &quot;mozzarella&quot;, &quot;cinderella&quot;, &quot;salmonella&quot;."
      ],
      "id": "32119c74"
    },
    {
      "cell_type": "code",
      "metadata": {
        "id": "d8cf302f",
        "outputId": "d78863a3-f5fb-49c2-e5da-6b0235bf494a"
      },
      "source": [
        "things = [\"mozzarella\", \"cinderella\", \"salmonella\"]\n",
        "things"
      ],
      "id": "d8cf302f",
      "execution_count": null,
      "outputs": [
        {
          "data": {
            "text/plain": [
              "['mozzarella', 'cinderella', 'salmonella']"
            ]
          },
          "execution_count": 1,
          "metadata": {},
          "output_type": "execute_result"
        }
      ]
    },
    {
      "cell_type": "markdown",
      "metadata": {
        "id": "90981fb6"
      },
      "source": [
        "### 5. Capitalize the element in things that refers to a person and then print the list. Did it change the  element in the list?"
      ],
      "id": "90981fb6"
    },
    {
      "cell_type": "code",
      "metadata": {
        "id": "e01b53c0",
        "outputId": "64c40b36-25a5-403a-87d5-2a2bce11aedf"
      },
      "source": [
        "things[1].capitalize()"
      ],
      "id": "e01b53c0",
      "execution_count": null,
      "outputs": [
        {
          "data": {
            "text/plain": [
              "'Cinderella'"
            ]
          },
          "execution_count": 5,
          "metadata": {},
          "output_type": "execute_result"
        }
      ]
    },
    {
      "cell_type": "code",
      "metadata": {
        "id": "c89d6be7",
        "outputId": "4ea76b29-f7ea-4ec0-933e-a486d4db0087"
      },
      "source": [
        "things"
      ],
      "id": "c89d6be7",
      "execution_count": null,
      "outputs": [
        {
          "data": {
            "text/plain": [
              "['mozzarella', 'cinderella', 'salmonella']"
            ]
          },
          "execution_count": 6,
          "metadata": {},
          "output_type": "execute_result"
        }
      ]
    },
    {
      "cell_type": "code",
      "metadata": {
        "id": "67fe5895"
      },
      "source": [
        "# it didn't change original list"
      ],
      "id": "67fe5895",
      "execution_count": null,
      "outputs": []
    },
    {
      "cell_type": "markdown",
      "metadata": {
        "id": "c8135902"
      },
      "source": [
        "### 6. Make a surprise list with the elements &quot;Groucho,&quot; &quot;Chico,&quot; and &quot;Harpo.&quot;"
      ],
      "id": "c8135902"
    },
    {
      "cell_type": "code",
      "metadata": {
        "id": "a9380213",
        "outputId": "6c7d67b2-03a5-4a21-e71e-6df8802eab0c"
      },
      "source": [
        "surprise_list = [\"Groucho\" ,\"Chico\" ,\"Harpo\"]\n",
        "surprise_list"
      ],
      "id": "a9380213",
      "execution_count": null,
      "outputs": [
        {
          "data": {
            "text/plain": [
              "['Groucho', 'Chico', 'Harpo']"
            ]
          },
          "execution_count": 12,
          "metadata": {},
          "output_type": "execute_result"
        }
      ]
    },
    {
      "cell_type": "markdown",
      "metadata": {
        "id": "b6bfc14b"
      },
      "source": [
        "### 7. Lowercase the last element of the surprise list, reverse it, and then capitalize it."
      ],
      "id": "b6bfc14b"
    },
    {
      "cell_type": "code",
      "metadata": {
        "id": "679bbb53",
        "outputId": "53967d2b-1125-4f93-bd07-55c6745e8d9a"
      },
      "source": [
        "surprise_1 = []\n",
        "for i in surprise_list:\n",
        "    if i!=surprise_list[-1]:\n",
        "        surprise_1.append(i)\n",
        "    else:\n",
        "        b = i.lower()\n",
        "        c = b[::-1]\n",
        "        d = c.capitalize()\n",
        "            \n",
        "        surprise_1.append(d)\n",
        "surprise_list=surprise_1\n",
        "surprise_list\n",
        "    "
      ],
      "id": "679bbb53",
      "execution_count": null,
      "outputs": [
        {
          "data": {
            "text/plain": [
              "['Groucho', 'Chico', 'Oprah']"
            ]
          },
          "execution_count": 28,
          "metadata": {},
          "output_type": "execute_result"
        }
      ]
    },
    {
      "cell_type": "markdown",
      "metadata": {
        "id": "84e46dfb"
      },
      "source": [
        "### 8. Make an English-to-French dictionary called e2f and print it. Here are your starter words: dog is chien, cat is chat, and walrus is morse."
      ],
      "id": "84e46dfb"
    },
    {
      "cell_type": "code",
      "metadata": {
        "id": "9f065ffa"
      },
      "source": [
        "def e2f(english_word):\n",
        "    english = {\"dog\":\"chein\",\"cat\":\"chat\",\"walrus\":\"morse\"}\n",
        "    for key,value in english.items():\n",
        "        if key==english_word:\n",
        "            print(english.get(english_word))"
      ],
      "id": "9f065ffa",
      "execution_count": null,
      "outputs": []
    },
    {
      "cell_type": "markdown",
      "metadata": {
        "id": "34ac0bf6"
      },
      "source": [
        "### 9. Write the French word for walrus in your three-word dictionary e2f."
      ],
      "id": "34ac0bf6"
    },
    {
      "cell_type": "code",
      "metadata": {
        "id": "bd5c48ed",
        "outputId": "e3f047b0-8741-41a5-d7ba-7c4c0f3f5e4a"
      },
      "source": [
        "e2f(\"walrus\")"
      ],
      "id": "bd5c48ed",
      "execution_count": null,
      "outputs": [
        {
          "name": "stdout",
          "output_type": "stream",
          "text": [
            "morse\n"
          ]
        }
      ]
    },
    {
      "cell_type": "markdown",
      "metadata": {
        "id": "bd59e60a"
      },
      "source": [
        "### 10. Make a French-to-English dictionary called f2e from e2f. Use the items method."
      ],
      "id": "bd59e60a"
    },
    {
      "cell_type": "code",
      "metadata": {
        "id": "ba3f2b24"
      },
      "source": [
        "def f2e(french_word):\n",
        "    french = {\"chien\":\"dog\",\"chat\":\"cat\",\"morse\":\"walrus\"}\n",
        "    for key,value in french.items():\n",
        "        if key==french_word:\n",
        "            print(french.get(french_word))\n",
        "            "
      ],
      "id": "ba3f2b24",
      "execution_count": null,
      "outputs": []
    },
    {
      "cell_type": "markdown",
      "metadata": {
        "id": "c221f0e6"
      },
      "source": [
        "### 11. Print the English version of the French word chien using f2e."
      ],
      "id": "c221f0e6"
    },
    {
      "cell_type": "code",
      "metadata": {
        "id": "0f837b39"
      },
      "source": [
        "f2e(\"chien\")"
      ],
      "id": "0f837b39",
      "execution_count": null,
      "outputs": []
    },
    {
      "cell_type": "markdown",
      "metadata": {
        "id": "1de745d9"
      },
      "source": [
        "### 12. Make and print a set of English words from the keys in e2f."
      ],
      "id": "1de745d9"
    },
    {
      "cell_type": "code",
      "metadata": {
        "id": "b3e4b0c5"
      },
      "source": [
        "def e2f():\n",
        "    english = {\"cat\":\"chat\",\"walrus\":\"morse\",\"dog\":\"chien\"}\n",
        "    english_set = set()\n",
        "    for i in english.items():\n",
        "        english_set.add(i[0])\n",
        "    return english_set"
      ],
      "id": "b3e4b0c5",
      "execution_count": null,
      "outputs": []
    },
    {
      "cell_type": "code",
      "metadata": {
        "id": "bf142f7c",
        "outputId": "9c924935-f11e-40b4-f78a-e137b8292bb7"
      },
      "source": [
        "e2f()"
      ],
      "id": "bf142f7c",
      "execution_count": null,
      "outputs": [
        {
          "data": {
            "text/plain": [
              "{'cat', 'dog', 'walrus'}"
            ]
          },
          "execution_count": 63,
          "metadata": {},
          "output_type": "execute_result"
        }
      ]
    },
    {
      "cell_type": "markdown",
      "metadata": {
        "id": "f839f773"
      },
      "source": [
        "### 13. Make a multilevel dictionary called life. Use these strings for the topmost keys: &#39;animals&#39;, &#39;plants&#39;, and &#39;other&#39;. Make the &#39;animals&#39; key refer to another dictionary with the keys &#39;cats&#39;, &#39;octopi&#39;, and &#39;emus&#39;. Make the &#39;cats&#39; key refer to a list of strings with the values &#39;Henri&#39;, &#39;Grumpy&#39;, and &#39;Lucy&#39;. Make all the other keys refer to empty dictionaries."
      ],
      "id": "f839f773"
    },
    {
      "cell_type": "code",
      "metadata": {
        "id": "5779f0ac",
        "outputId": "3400ed0f-f447-481f-b308-73f3618f7fae"
      },
      "source": [
        "life = { 'animals' : { 'cats' : [ 'Henri', 'Grumpy', 'Lucy' ], 'octopi' : {}, 'emus' : {}  }, 'plants' : {}, 'other' : {} }\n",
        "life"
      ],
      "id": "5779f0ac",
      "execution_count": null,
      "outputs": [
        {
          "data": {
            "text/plain": [
              "{'animals': {'cats': ['Henri', 'Grumpy', 'Lucy'], 'octopi': {}, 'emus': {}},\n",
              " 'plants': {},\n",
              " 'other': {}}"
            ]
          },
          "execution_count": 64,
          "metadata": {},
          "output_type": "execute_result"
        }
      ]
    },
    {
      "cell_type": "markdown",
      "metadata": {
        "id": "04d8dd19"
      },
      "source": [
        "### 14. Print the top-level keys of life."
      ],
      "id": "04d8dd19"
    },
    {
      "cell_type": "code",
      "metadata": {
        "id": "d31352a9",
        "outputId": "623214e3-e483-4da9-8831-e44ed4527036"
      },
      "source": [
        "print(life.keys())"
      ],
      "id": "d31352a9",
      "execution_count": null,
      "outputs": [
        {
          "name": "stdout",
          "output_type": "stream",
          "text": [
            "dict_keys(['animals', 'plants', 'other'])\n"
          ]
        }
      ]
    },
    {
      "cell_type": "markdown",
      "metadata": {
        "id": "0c7747a0"
      },
      "source": [
        "### 15. Print the keys for life[&#39;animals&#39;]."
      ],
      "id": "0c7747a0"
    },
    {
      "cell_type": "code",
      "metadata": {
        "id": "2aa9c5a1",
        "outputId": "c640c284-212b-4a84-b06b-7c2861d40b0a"
      },
      "source": [
        "life['animals']"
      ],
      "id": "2aa9c5a1",
      "execution_count": null,
      "outputs": [
        {
          "data": {
            "text/plain": [
              "{'cats': ['Henri', 'Grumpy', 'Lucy'], 'octopi': {}, 'emus': {}}"
            ]
          },
          "execution_count": 66,
          "metadata": {},
          "output_type": "execute_result"
        }
      ]
    },
    {
      "cell_type": "markdown",
      "metadata": {
        "id": "bd503239"
      },
      "source": [
        "### 16. Print the values for life[&#39;animals&#39;][&#39;cats&#39;]"
      ],
      "id": "bd503239"
    },
    {
      "cell_type": "code",
      "metadata": {
        "id": "d4ccc24b",
        "outputId": "4de2e787-2d57-4308-c0fc-62d17d3ca9e1"
      },
      "source": [
        "life['animals']['cats']"
      ],
      "id": "d4ccc24b",
      "execution_count": null,
      "outputs": [
        {
          "data": {
            "text/plain": [
              "['Henri', 'Grumpy', 'Lucy']"
            ]
          },
          "execution_count": 67,
          "metadata": {},
          "output_type": "execute_result"
        }
      ]
    }
  ]
}