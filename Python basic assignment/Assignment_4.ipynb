{
  "nbformat": 4,
  "nbformat_minor": 0,
  "metadata": {
    "kernelspec": {
      "display_name": "Python 3",
      "language": "python",
      "name": "python3"
    },
    "language_info": {
      "codemirror_mode": {
        "name": "ipython",
        "version": 3
      },
      "file_extension": ".py",
      "mimetype": "text/x-python",
      "name": "python",
      "nbconvert_exporter": "python",
      "pygments_lexer": "ipython3",
      "version": "3.8.5"
    },
    "colab": {
      "name": "Assignment_4.ipynb",
      "provenance": []
    }
  },
  "cells": [
    {
      "cell_type": "markdown",
      "metadata": {
        "id": "vjUVb3y75v3O"
      },
      "source": [
        "### 1. What exactly is []?"
      ]
    },
    {
      "cell_type": "markdown",
      "metadata": {
        "id": "kexor5Ww5v3T"
      },
      "source": [
        "[ ] represents an empty container of list\n"
      ]
    },
    {
      "cell_type": "markdown",
      "metadata": {
        "id": "OiCgM4W35v3U"
      },
      "source": [
        "### 2. In a list of values stored in a variable called spam, how would you assign the value &#39;hello&#39; as the\n",
        "###    third value? (Assume [2, 4, 6, 8, 10] are in spam.)"
      ]
    },
    {
      "cell_type": "code",
      "metadata": {
        "id": "ix5H1abN5v3W",
        "outputId": "f7e69b22-1930-4488-aa60-a9006aa7e088"
      },
      "source": [
        "spam = [2,3,4,6,8,10]\n",
        "spam[2]='hello'\n",
        "spam"
      ],
      "execution_count": null,
      "outputs": [
        {
          "data": {
            "text/plain": [
              "[2, 3, 'hello', 6, 8, 10]"
            ]
          },
          "execution_count": 2,
          "metadata": {},
          "output_type": "execute_result"
        }
      ]
    },
    {
      "cell_type": "markdown",
      "metadata": {
        "id": "8UopKXCb5v3Z"
      },
      "source": [
        "### Let&#39;s pretend the spam includes the list [&#39;a&#39;, &#39;b&#39;, &#39;c&#39;, &#39;d&#39;] for the next three queries.\n",
        "3. What is the value of spam[int(int(&#39;3&#39; * 2) / 11)]?\n",
        "4. What is the value of spam[-1]?\n",
        "5. What is the value of spam[:2]?"
      ]
    },
    {
      "cell_type": "code",
      "metadata": {
        "id": "Ue2wi2nD5v3a"
      },
      "source": [
        "spam = ['a', 'b', 'c', 'd']"
      ],
      "execution_count": null,
      "outputs": []
    },
    {
      "cell_type": "code",
      "metadata": {
        "id": "Y4nYrRbX5v3b",
        "outputId": "052dfc99-dab5-44ea-bb1a-3f6b834aecf4"
      },
      "source": [
        "spam[int(int('3' * 2) / 11)]"
      ],
      "execution_count": null,
      "outputs": [
        {
          "data": {
            "text/plain": [
              "'d'"
            ]
          },
          "execution_count": 7,
          "metadata": {},
          "output_type": "execute_result"
        }
      ]
    },
    {
      "cell_type": "code",
      "metadata": {
        "id": "15lWE1sb5v3c",
        "outputId": "4ec8d96b-034c-470a-aa84-1c1ed99f4655"
      },
      "source": [
        "spam[-1]"
      ],
      "execution_count": null,
      "outputs": [
        {
          "data": {
            "text/plain": [
              "'d'"
            ]
          },
          "execution_count": 8,
          "metadata": {},
          "output_type": "execute_result"
        }
      ]
    },
    {
      "cell_type": "code",
      "metadata": {
        "id": "urBqb5MV5v3d",
        "outputId": "2f853b87-6397-44e8-f699-be0683ca83b5"
      },
      "source": [
        "spam[:2]"
      ],
      "execution_count": null,
      "outputs": [
        {
          "data": {
            "text/plain": [
              "['a', 'b']"
            ]
          },
          "execution_count": 10,
          "metadata": {},
          "output_type": "execute_result"
        }
      ]
    },
    {
      "cell_type": "markdown",
      "metadata": {
        "id": "C_lJRZPy5v3e"
      },
      "source": [
        "### Let&#39;s pretend bacon has the list [3.14, &#39;cat,&#39; 11, &#39;cat,&#39; True] for the next three questions.\n",
        "6. What is the value of bacon.index(&#39;cat&#39;)?\n",
        "7. How does bacon.append(99) change the look of the list value in bacon?\n",
        "8. How does bacon.remove(&#39;cat&#39;) change the look of the list in bacon?"
      ]
    },
    {
      "cell_type": "code",
      "metadata": {
        "id": "XJAqKrV_5v3f"
      },
      "source": [
        "bacon = [3.14, 'cat', 11, 'cat', True]"
      ],
      "execution_count": null,
      "outputs": []
    },
    {
      "cell_type": "code",
      "metadata": {
        "id": "wzkUhBQG5v3f",
        "outputId": "13d36f8a-26bf-4baf-83a8-01147418c17d"
      },
      "source": [
        "bacon.index('cat')"
      ],
      "execution_count": null,
      "outputs": [
        {
          "data": {
            "text/plain": [
              "1"
            ]
          },
          "execution_count": 14,
          "metadata": {},
          "output_type": "execute_result"
        }
      ]
    },
    {
      "cell_type": "code",
      "metadata": {
        "id": "uUkaBxK05v3g",
        "outputId": "ddff7f31-fa79-4648-c470-9babbf47c333"
      },
      "source": [
        "bacon.append(99) #appends at end\n",
        "bacon"
      ],
      "execution_count": null,
      "outputs": [
        {
          "data": {
            "text/plain": [
              "[3.14, 'cat', 11, 'cat', True, 99]"
            ]
          },
          "execution_count": 19,
          "metadata": {},
          "output_type": "execute_result"
        }
      ]
    },
    {
      "cell_type": "code",
      "metadata": {
        "id": "OglkgrI95v3h",
        "outputId": "24a29f37-f557-422f-a82d-21ffb9653a4a"
      },
      "source": [
        "bacon.remove('cat') # as it parses through the list as soon as it sees cat it removes it from the list and exit\n",
        "bacon"
      ],
      "execution_count": null,
      "outputs": [
        {
          "data": {
            "text/plain": [
              "[3.14, 11, 'cat', True, 99]"
            ]
          },
          "execution_count": 20,
          "metadata": {},
          "output_type": "execute_result"
        }
      ]
    },
    {
      "cell_type": "markdown",
      "metadata": {
        "id": "UekSG8W05v3i"
      },
      "source": [
        "### 9. What are the list concatenation and list replication operators?"
      ]
    },
    {
      "cell_type": "code",
      "metadata": {
        "id": "PLE2nxmF5v3i",
        "outputId": "6e0c37df-6905-42fb-d531-14dc8798ff7d"
      },
      "source": [
        "#Concatenation:\n",
        "l1 = [1,2,3,4]\n",
        "l2 = [5,6,7,8]\n",
        "l1+l2"
      ],
      "execution_count": null,
      "outputs": [
        {
          "data": {
            "text/plain": [
              "[1, 2, 3, 4, 5, 6, 7, 8]"
            ]
          },
          "execution_count": 25,
          "metadata": {},
          "output_type": "execute_result"
        }
      ]
    },
    {
      "cell_type": "code",
      "metadata": {
        "id": "bPADhsnL5v3i",
        "outputId": "7704318f-9f93-4fa7-99d8-6595130a570a"
      },
      "source": [
        "#Replication:\n",
        "l1 = [1,2,3,4]\n",
        "l2 = l1*1\n",
        "l2\n"
      ],
      "execution_count": null,
      "outputs": [
        {
          "data": {
            "text/plain": [
              "[1, 2, 3, 4]"
            ]
          },
          "execution_count": 28,
          "metadata": {},
          "output_type": "execute_result"
        }
      ]
    },
    {
      "cell_type": "markdown",
      "metadata": {
        "id": "cgt2lIl_5v3j"
      },
      "source": [
        "### 10. What is difference between the list methods append() and insert()?"
      ]
    },
    {
      "cell_type": "code",
      "metadata": {
        "id": "WNUk-sC55v3j",
        "outputId": "73e8763a-151e-4434-831a-f8153d2551e3"
      },
      "source": [
        "l1 = [1,2,3,4]\n",
        "l1.append(5) #It adds element to the end of list.\n",
        "l1"
      ],
      "execution_count": null,
      "outputs": [
        {
          "data": {
            "text/plain": [
              "[1, 2, 3, 4, 5]"
            ]
          },
          "execution_count": 34,
          "metadata": {},
          "output_type": "execute_result"
        }
      ]
    },
    {
      "cell_type": "code",
      "metadata": {
        "id": "aVKPVoiT5v3k",
        "outputId": "5ed92582-c683-44f8-9a88-34936e9e9ad8"
      },
      "source": [
        "l1.insert(2,10) #it inserts element at particular index/position.\n",
        "l1"
      ],
      "execution_count": null,
      "outputs": [
        {
          "data": {
            "text/plain": [
              "[1, 2, 10, 3, 4, 5]"
            ]
          },
          "execution_count": 35,
          "metadata": {},
          "output_type": "execute_result"
        }
      ]
    },
    {
      "cell_type": "markdown",
      "metadata": {
        "id": "IbzOU4t45v3k"
      },
      "source": [
        "### 11. What are the two methods for removing items from a list?"
      ]
    },
    {
      "cell_type": "code",
      "metadata": {
        "id": "BJXd36sY5v3k",
        "outputId": "9538710a-3532-4319-ec5b-4f98fbd18530"
      },
      "source": [
        "#Method 1:\n",
        "l1 = [1,2,3,4]\n",
        "print(l1)\n",
        "l1.remove(3)\n",
        "l1\n"
      ],
      "execution_count": null,
      "outputs": [
        {
          "name": "stdout",
          "output_type": "stream",
          "text": [
            "[1, 2, 3, 4]\n"
          ]
        },
        {
          "data": {
            "text/plain": [
              "[1, 2, 4]"
            ]
          },
          "execution_count": 37,
          "metadata": {},
          "output_type": "execute_result"
        }
      ]
    },
    {
      "cell_type": "code",
      "metadata": {
        "id": "_GriKA-T5v3l",
        "outputId": "65b09b58-0365-45fc-bd6d-0b58c0438bdd"
      },
      "source": [
        "#method 2:\n",
        "l1 = [1,2,3,4]\n",
        "print(l1)\n",
        "l1.pop(0)\n",
        "l1"
      ],
      "execution_count": null,
      "outputs": [
        {
          "name": "stdout",
          "output_type": "stream",
          "text": [
            "[1, 2, 3, 4]\n"
          ]
        },
        {
          "data": {
            "text/plain": [
              "[2, 3, 4]"
            ]
          },
          "execution_count": 38,
          "metadata": {},
          "output_type": "execute_result"
        }
      ]
    },
    {
      "cell_type": "markdown",
      "metadata": {
        "id": "9vTACKA85v3l"
      },
      "source": [
        "### 12. Describe how list values and string values are identical."
      ]
    },
    {
      "cell_type": "markdown",
      "metadata": {
        "id": "-pvWRXoZ5v3l"
      },
      "source": [
        "\n",
        "both list and string are ordered collection of elements except in list it can contain different data types."
      ]
    },
    {
      "cell_type": "markdown",
      "metadata": {
        "id": "ZB9YizRw5v3l"
      },
      "source": [
        "### 13. What's the difference between tuples and lists?"
      ]
    },
    {
      "cell_type": "markdown",
      "metadata": {
        "id": "H-oaAVrN5v3m"
      },
      "source": [
        "list are mutable but tuples are immutable i.e we can add,delete,reassign elements in list which we cannot do in tuples."
      ]
    },
    {
      "cell_type": "markdown",
      "metadata": {
        "id": "mBTBqyVJ5v3m"
      },
      "source": [
        "### 14. How do you type a tuple value that only contains the integer 42?"
      ]
    },
    {
      "cell_type": "code",
      "metadata": {
        "id": "TAuxFoCL5v3m",
        "outputId": "69fd840d-ee05-4aa6-e8b3-a3071d8f961e"
      },
      "source": [
        "(42,)"
      ],
      "execution_count": null,
      "outputs": [
        {
          "data": {
            "text/plain": [
              "(42,)"
            ]
          },
          "execution_count": 40,
          "metadata": {},
          "output_type": "execute_result"
        }
      ]
    },
    {
      "cell_type": "markdown",
      "metadata": {
        "id": "v2sUmP0V5v3m"
      },
      "source": [
        "### 15. How do you get a list value&#39;s tuple form? How do you get a tuple value&#39;s list form?"
      ]
    },
    {
      "cell_type": "code",
      "metadata": {
        "id": "w7u3Fgdf5v3n",
        "outputId": "de7f2fac-d59f-45d8-de78-428bb1b67485"
      },
      "source": [
        "tuple([1,2,3])"
      ],
      "execution_count": null,
      "outputs": [
        {
          "data": {
            "text/plain": [
              "(1, 2, 3)"
            ]
          },
          "execution_count": 41,
          "metadata": {},
          "output_type": "execute_result"
        }
      ]
    },
    {
      "cell_type": "code",
      "metadata": {
        "id": "5yt1f1kf5v3n",
        "outputId": "6279dd66-b900-4cd2-c8ab-fafae0b0c60d"
      },
      "source": [
        "list((1,2,3))"
      ],
      "execution_count": null,
      "outputs": [
        {
          "data": {
            "text/plain": [
              "[1, 2, 3]"
            ]
          },
          "execution_count": 44,
          "metadata": {},
          "output_type": "execute_result"
        }
      ]
    },
    {
      "cell_type": "markdown",
      "metadata": {
        "id": "8IHYc_n85v3n"
      },
      "source": [
        "### 16. Variables that &quot;contain&quot; list values are not necessarily lists themselves. Instead, what do they contain?"
      ]
    },
    {
      "cell_type": "code",
      "metadata": {
        "id": "rDRyWb2T5v3n",
        "outputId": "469eb92e-f79f-433d-e3ee-eaecc37a4047"
      },
      "source": [
        "a = [1,2,3]\n",
        "type(a)\n",
        "#its just a name reference because list itself is a object."
      ],
      "execution_count": null,
      "outputs": [
        {
          "data": {
            "text/plain": [
              "list"
            ]
          },
          "execution_count": 46,
          "metadata": {},
          "output_type": "execute_result"
        }
      ]
    },
    {
      "cell_type": "markdown",
      "metadata": {
        "id": "yF9JivkG5v3o"
      },
      "source": [
        "### 17. How do you distinguish between copy.copy() and copy.deepcopy()?"
      ]
    },
    {
      "cell_type": "markdown",
      "metadata": {
        "id": "pfiP8C-a5v3o"
      },
      "source": [
        "deepcopy does not change original object if in future we change deepcopied object. where as original object changes with copy()"
      ]
    }
  ]
}