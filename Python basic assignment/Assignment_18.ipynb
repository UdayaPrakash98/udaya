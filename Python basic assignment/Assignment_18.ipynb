{
  "nbformat": 4,
  "nbformat_minor": 5,
  "metadata": {
    "kernelspec": {
      "display_name": "Python 3",
      "language": "python",
      "name": "python3"
    },
    "language_info": {
      "codemirror_mode": {
        "name": "ipython",
        "version": 3
      },
      "file_extension": ".py",
      "mimetype": "text/x-python",
      "name": "python",
      "nbconvert_exporter": "python",
      "pygments_lexer": "ipython3",
      "version": "3.8.5"
    },
    "colab": {
      "name": "Assignment_18.ipynb",
      "provenance": []
    }
  },
  "cells": [
    {
      "cell_type": "markdown",
      "metadata": {
        "id": "c98f0d98"
      },
      "source": [
        "### 1. Create a zoo.py file first. Define the hours() function, which prints the string &#39;Open 9-5 daily&#39;.Then, use the interactive interpreter to import the zoo module and call its hours() function."
      ],
      "id": "c98f0d98"
    },
    {
      "cell_type": "code",
      "metadata": {
        "id": "f8040110"
      },
      "source": [
        "import zoo"
      ],
      "id": "f8040110",
      "execution_count": null,
      "outputs": []
    },
    {
      "cell_type": "code",
      "metadata": {
        "id": "4f927ea7",
        "outputId": "10bb2c35-8d7d-4a2d-ade7-b722d5c82e7c"
      },
      "source": [
        "zoo.hours()"
      ],
      "id": "4f927ea7",
      "execution_count": null,
      "outputs": [
        {
          "name": "stdout",
          "output_type": "stream",
          "text": [
            "open 9-5 daily\n"
          ]
        }
      ]
    },
    {
      "cell_type": "markdown",
      "metadata": {
        "id": "22845aa4"
      },
      "source": [
        "### 2. In the interactive interpreter, import the zoo module as menagerie and call its hours() function."
      ],
      "id": "22845aa4"
    },
    {
      "cell_type": "code",
      "metadata": {
        "id": "05c11bb3",
        "outputId": "5265ae76-b582-4a38-d15d-93a70bd30a18"
      },
      "source": [
        "import zoo as menagerie\n",
        "\n",
        "menagerie.hours()"
      ],
      "id": "05c11bb3",
      "execution_count": null,
      "outputs": [
        {
          "name": "stdout",
          "output_type": "stream",
          "text": [
            "open 9-5 daily\n"
          ]
        }
      ]
    },
    {
      "cell_type": "markdown",
      "metadata": {
        "id": "91a0956c"
      },
      "source": [
        "### 3. Using the interpreter, explicitly import and call the hours() function from zoo."
      ],
      "id": "91a0956c"
    },
    {
      "cell_type": "code",
      "metadata": {
        "id": "7e2d9204"
      },
      "source": [
        "from zoo import hours"
      ],
      "id": "7e2d9204",
      "execution_count": null,
      "outputs": []
    },
    {
      "cell_type": "code",
      "metadata": {
        "id": "99e26060",
        "outputId": "ba75bfba-6bc8-49b1-cf7c-8033712e91d3"
      },
      "source": [
        "hours()"
      ],
      "id": "99e26060",
      "execution_count": null,
      "outputs": [
        {
          "name": "stdout",
          "output_type": "stream",
          "text": [
            "open 9-5 daily\n"
          ]
        }
      ]
    },
    {
      "cell_type": "markdown",
      "metadata": {
        "id": "38326443"
      },
      "source": [
        "### 4. Import the hours() function as info and call it."
      ],
      "id": "38326443"
    },
    {
      "cell_type": "code",
      "metadata": {
        "id": "ff0d0223",
        "outputId": "bda537aa-ec17-4d4f-8f3a-ba556f27c068"
      },
      "source": [
        "from zoo import hours as info\n",
        "info()"
      ],
      "id": "ff0d0223",
      "execution_count": null,
      "outputs": [
        {
          "name": "stdout",
          "output_type": "stream",
          "text": [
            "open 9-5 daily\n"
          ]
        }
      ]
    },
    {
      "cell_type": "markdown",
      "metadata": {
        "id": "2187cd63"
      },
      "source": [
        "### 5. Create a plain dictionary with the key-value pairs &#39;a&#39;: 1, &#39;b&#39;: 2, and &#39;c&#39;: 3, and print it out."
      ],
      "id": "2187cd63"
    },
    {
      "cell_type": "code",
      "metadata": {
        "id": "ed780035",
        "outputId": "121b4b17-2302-4e8a-d83f-928e6c923135"
      },
      "source": [
        "d = {'a': 1, 'b': 2,'c': 3}\n",
        "d"
      ],
      "id": "ed780035",
      "execution_count": null,
      "outputs": [
        {
          "data": {
            "text/plain": [
              "{'a': 1, 'b': 2, 'c': 3}"
            ]
          },
          "execution_count": 2,
          "metadata": {},
          "output_type": "execute_result"
        }
      ]
    },
    {
      "cell_type": "markdown",
      "metadata": {
        "id": "8da13940"
      },
      "source": [
        "### 6.Make an OrderedDict called fancy from the same pairs listed in 5 and print it. Did it print in the same order as plain?"
      ],
      "id": "8da13940"
    },
    {
      "cell_type": "code",
      "metadata": {
        "id": "d5141274",
        "outputId": "17ffd781-6599-4726-9d05-de4d80c9a774"
      },
      "source": [
        "from collections import OrderedDict\n",
        "OD = OrderedDict(d)\n",
        "print(OD)"
      ],
      "id": "d5141274",
      "execution_count": null,
      "outputs": [
        {
          "name": "stdout",
          "output_type": "stream",
          "text": [
            "OrderedDict([('a', 1), ('b', 2), ('c', 3)])\n"
          ]
        }
      ]
    },
    {
      "cell_type": "markdown",
      "metadata": {
        "id": "6a23289e"
      },
      "source": [
        "### 7. Make a default dictionary called dict_of_lists and pass it the argument list. Make the list dict_of_lists[&#39;a&#39;] and append the value &#39;something for a&#39; to it in one assignment. Print dict_of_lists[&#39;a&#39;]."
      ],
      "id": "6a23289e"
    },
    {
      "cell_type": "code",
      "metadata": {
        "id": "13e7d686",
        "outputId": "4d03ca77-778d-452c-9f6c-bc3bdae7384f"
      },
      "source": [
        "from collections import defaultdict\n",
        "\n",
        "dict_of_lists = defaultdict(list)\n",
        "dict_of_lists['a'].append('something for a')\n",
        "print(dict_of_lists['a'])"
      ],
      "id": "13e7d686",
      "execution_count": null,
      "outputs": [
        {
          "name": "stdout",
          "output_type": "stream",
          "text": [
            "['something for a']\n"
          ]
        }
      ]
    }
  ]
}