{
  "nbformat": 4,
  "nbformat_minor": 5,
  "metadata": {
    "kernelspec": {
      "display_name": "Python 3",
      "language": "python",
      "name": "python3"
    },
    "language_info": {
      "codemirror_mode": {
        "name": "ipython",
        "version": 3
      },
      "file_extension": ".py",
      "mimetype": "text/x-python",
      "name": "python",
      "nbconvert_exporter": "python",
      "pygments_lexer": "ipython3",
      "version": "3.8.5"
    },
    "colab": {
      "name": "Programming Assignment_18.ipynb",
      "provenance": []
    }
  },
  "cells": [
    {
      "cell_type": "markdown",
      "metadata": {
        "id": "8eed00f1"
      },
      "source": [
        "### Question 1 Create a function that takes a list of non-negative integers and strings and return a new list without the strings.\n",
        "#### Examples\n",
        "#### filter_list([1, 2, &quot;a&quot;, &quot;b&quot;]) ➞ [1, 2]\n",
        "#### filter_list([1, &quot;a&quot;, &quot;b&quot;, 0, 15]) ➞ [1, 0, 15]\n",
        "#### filter_list([1, 2, &quot;aasf&quot;, &quot;1&quot;, &quot;123&quot;, 123]) ➞ [1, 2, 123]"
      ],
      "id": "8eed00f1"
    },
    {
      "cell_type": "code",
      "metadata": {
        "id": "21da0c4d"
      },
      "source": [
        "def filter_list(l):\n",
        "    filtered_List=[]\n",
        "    for i in l:\n",
        "        if type(i)==int and i>=0:\n",
        "            filtered_List.append(i)\n",
        "    return filtered_List"
      ],
      "id": "21da0c4d",
      "execution_count": null,
      "outputs": []
    },
    {
      "cell_type": "code",
      "metadata": {
        "id": "f558b538",
        "outputId": "5d6bb9a4-1617-4cca-d4e8-5441bd4211a3"
      },
      "source": [
        "filter_list([1, 2, \"a\", \"b\"])"
      ],
      "id": "f558b538",
      "execution_count": null,
      "outputs": [
        {
          "data": {
            "text/plain": [
              "[1, 2]"
            ]
          },
          "execution_count": 6,
          "metadata": {},
          "output_type": "execute_result"
        }
      ]
    },
    {
      "cell_type": "code",
      "metadata": {
        "id": "0f51ac1e",
        "outputId": "b305a759-cf77-42c1-8ae8-79e4aa387ef4"
      },
      "source": [
        "filter_list([1, \"a\", \"b\", 0, 15])"
      ],
      "id": "0f51ac1e",
      "execution_count": null,
      "outputs": [
        {
          "data": {
            "text/plain": [
              "[1, 0, 15]"
            ]
          },
          "execution_count": 7,
          "metadata": {},
          "output_type": "execute_result"
        }
      ]
    },
    {
      "cell_type": "code",
      "metadata": {
        "id": "469a99d4",
        "outputId": "aae92c4b-4675-4b75-fc36-38c9de9c58a0"
      },
      "source": [
        "filter_list([1, 2, \"aasf\", \"1\", \"123\", 123])"
      ],
      "id": "469a99d4",
      "execution_count": null,
      "outputs": [
        {
          "data": {
            "text/plain": [
              "[1, 2, 123]"
            ]
          },
          "execution_count": 8,
          "metadata": {},
          "output_type": "execute_result"
        }
      ]
    },
    {
      "cell_type": "markdown",
      "metadata": {
        "id": "f9eccbaf"
      },
      "source": [
        "### Question 2 The &quot;Reverser&quot; takes a string as input and returns that string in reverse order, with the opposite case.\n",
        "#### Examples\n",
        "#### reverse(&quot;Hello World&quot;) ➞ &quot;DLROw OLLEh&quot;\n",
        "#### reverse(&quot;ReVeRsE&quot;) ➞ &quot;eSrEvEr&quot;\n",
        "#### reverse(&quot;Radar&quot;) ➞ &quot;RADAr&quot;"
      ],
      "id": "f9eccbaf"
    },
    {
      "cell_type": "code",
      "metadata": {
        "id": "ff8e9a49"
      },
      "source": [
        "def reverse(string):\n",
        "    rev = string[::-1]\n",
        "    case = rev.swapcase()\n",
        "    return case\n",
        "    "
      ],
      "id": "ff8e9a49",
      "execution_count": null,
      "outputs": []
    },
    {
      "cell_type": "code",
      "metadata": {
        "id": "7e0f508d",
        "outputId": "c941a130-2592-4ce7-9261-05066a0f4903"
      },
      "source": [
        "reverse(\"Hello World\")"
      ],
      "id": "7e0f508d",
      "execution_count": null,
      "outputs": [
        {
          "data": {
            "text/plain": [
              "'DLROw OLLEh'"
            ]
          },
          "execution_count": 12,
          "metadata": {},
          "output_type": "execute_result"
        }
      ]
    },
    {
      "cell_type": "code",
      "metadata": {
        "id": "87d0ff44",
        "outputId": "045083db-3464-415b-e793-dd9a0b77c785"
      },
      "source": [
        "reverse(\"ReVeRsE\")"
      ],
      "id": "87d0ff44",
      "execution_count": null,
      "outputs": [
        {
          "data": {
            "text/plain": [
              "'eSrEvEr'"
            ]
          },
          "execution_count": 13,
          "metadata": {},
          "output_type": "execute_result"
        }
      ]
    },
    {
      "cell_type": "code",
      "metadata": {
        "id": "6a84a5de",
        "outputId": "10a17e94-5e9b-4f2e-b4d2-0c02e314456e"
      },
      "source": [
        "reverse(\"Radar\")"
      ],
      "id": "6a84a5de",
      "execution_count": null,
      "outputs": [
        {
          "data": {
            "text/plain": [
              "'RADAr'"
            ]
          },
          "execution_count": 14,
          "metadata": {},
          "output_type": "execute_result"
        }
      ]
    },
    {
      "cell_type": "markdown",
      "metadata": {
        "id": "6925e09e"
      },
      "source": [
        "### Question 3\n",
        "#### You can assign variables from lists like this:\n",
        "#### lst = [1, 2, 3, 4, 5, 6]\n",
        "#### first = lst[0]\n",
        "#### middle = lst[1:-1]\n",
        "#### last = lst[-1]\n",
        "#### print(first) ➞ outputs 1\n",
        "#### print(middle) ➞ outputs [2, 3, 4, 5]\n",
        "#### print(last) ➞ outputs 6\n",
        "#### With Python 3, you can assign variables from lists in a much more succinct way. Create\n",
        "#### variables first, middle and last from the given list using destructuring assignment\n",
        "#### (check the Resources tab for some examples), where:\n",
        "#### first ➞ 1\n",
        "#### middle ➞ [2, 3, 4, 5]\n",
        "#### last ➞ 6\n",
        "#### \n",
        "#### Your task is to unpack the list writeyourcodehere into three variables, being first,\n",
        "#### middle, and last, with middle being everything in between the first and last element. Then\n",
        "#### print all three variables."
      ],
      "id": "6925e09e"
    },
    {
      "cell_type": "code",
      "metadata": {
        "id": "176fb6d5"
      },
      "source": [
        "lst = [1, 2, 3, 4, 5, 6]\n",
        "first ,*middle,last = lst"
      ],
      "id": "176fb6d5",
      "execution_count": null,
      "outputs": []
    },
    {
      "cell_type": "code",
      "metadata": {
        "id": "c686b1dd",
        "outputId": "5d8f8768-b274-4717-edc0-5880a2124324"
      },
      "source": [
        "first"
      ],
      "id": "c686b1dd",
      "execution_count": null,
      "outputs": [
        {
          "data": {
            "text/plain": [
              "1"
            ]
          },
          "execution_count": 17,
          "metadata": {},
          "output_type": "execute_result"
        }
      ]
    },
    {
      "cell_type": "code",
      "metadata": {
        "id": "96d319db",
        "outputId": "80390133-6bdc-4db6-9cf4-af942276dab8"
      },
      "source": [
        "middle"
      ],
      "id": "96d319db",
      "execution_count": null,
      "outputs": [
        {
          "data": {
            "text/plain": [
              "[2, 3, 4, 5]"
            ]
          },
          "execution_count": 18,
          "metadata": {},
          "output_type": "execute_result"
        }
      ]
    },
    {
      "cell_type": "code",
      "metadata": {
        "id": "e2e536c4",
        "outputId": "1595eeca-0264-44d9-9e01-c2daa9c54f0f"
      },
      "source": [
        "last"
      ],
      "id": "e2e536c4",
      "execution_count": null,
      "outputs": [
        {
          "data": {
            "text/plain": [
              "6"
            ]
          },
          "execution_count": 19,
          "metadata": {},
          "output_type": "execute_result"
        }
      ]
    },
    {
      "cell_type": "markdown",
      "metadata": {
        "id": "173d580e"
      },
      "source": [
        "### Question 4\n",
        "#### Write a function that calculates the factorial of a number recursively.\n",
        "#### Examples\n",
        "#### factorial(5) ➞ 120\n",
        "#### factorial(3) ➞ 6\n",
        "#### factorial(1) ➞ 1\n",
        "#### factorial(0) ➞ 1"
      ],
      "id": "173d580e"
    },
    {
      "cell_type": "code",
      "metadata": {
        "id": "08890ec3"
      },
      "source": [
        "def factorial(n):\n",
        "    if n==0:\n",
        "        return 1\n",
        "    return n*factorial(n-1)"
      ],
      "id": "08890ec3",
      "execution_count": null,
      "outputs": []
    },
    {
      "cell_type": "code",
      "metadata": {
        "id": "4294acf4",
        "outputId": "4e2ae412-7fb8-43e0-bd48-4de7923e1061"
      },
      "source": [
        "print(factorial(5),factorial(3),factorial(1),factorial(0))"
      ],
      "id": "4294acf4",
      "execution_count": null,
      "outputs": [
        {
          "name": "stdout",
          "output_type": "stream",
          "text": [
            "120 6 1 1\n"
          ]
        }
      ]
    },
    {
      "cell_type": "markdown",
      "metadata": {
        "id": "34276bcb"
      },
      "source": [
        "### Question 5\n",
        "#### Write a function that moves all elements of one type to the end of the list.\n",
        "#### Examples\n",
        "#### move_to_end([1, 3, 2, 4, 4, 1], 1) ➞ [3, 2, 4, 4, 1, 1]\n",
        "#### # Move all the 1s to the end of the array.\n",
        "#### move_to_end([7, 8, 9, 1, 2, 3, 4], 9) ➞ [7, 8, 1, 2, 3, 4, 9]\n",
        "#### move_to_end([&quot;a&quot;, &quot;a&quot;, &quot;a&quot;, &quot;b&quot;], &quot;a&quot;) ➞ [&quot;b&quot;, &quot;a&quot;, &quot;a&quot;, &quot;a&quot;]"
      ],
      "id": "34276bcb"
    },
    {
      "cell_type": "code",
      "metadata": {
        "id": "d4684bd9"
      },
      "source": [
        "def move_to_end(l,n):\n",
        "    for i in l:\n",
        "        l.append(n)\n",
        "        l.remove(n)\n",
        "    return l"
      ],
      "id": "d4684bd9",
      "execution_count": null,
      "outputs": []
    },
    {
      "cell_type": "code",
      "metadata": {
        "id": "10aeb62c",
        "outputId": "10b63e88-dc73-4aee-9dcf-933cb48f3512"
      },
      "source": [
        "move_to_end([1, 3, 2, 4, 4, 1], 1)"
      ],
      "id": "10aeb62c",
      "execution_count": null,
      "outputs": [
        {
          "data": {
            "text/plain": [
              "[3, 2, 4, 4, 1, 1]"
            ]
          },
          "execution_count": 47,
          "metadata": {},
          "output_type": "execute_result"
        }
      ]
    },
    {
      "cell_type": "code",
      "metadata": {
        "id": "1e4b5739",
        "outputId": "579c772a-6518-41a2-801a-6534aa41d0e0"
      },
      "source": [
        "move_to_end([7, 8, 9, 1, 2, 3, 4], 9)"
      ],
      "id": "1e4b5739",
      "execution_count": null,
      "outputs": [
        {
          "data": {
            "text/plain": [
              "[7, 8, 1, 2, 3, 4, 9]"
            ]
          },
          "execution_count": 48,
          "metadata": {},
          "output_type": "execute_result"
        }
      ]
    },
    {
      "cell_type": "code",
      "metadata": {
        "id": "b0395b30",
        "outputId": "fe3d84f1-b5ee-4235-d6ea-df3b4f711bd3"
      },
      "source": [
        "move_to_end([\"a\", \"a\", \"a\", \"b\"], \"a\")"
      ],
      "id": "b0395b30",
      "execution_count": null,
      "outputs": [
        {
          "data": {
            "text/plain": [
              "['b', 'a', 'a', 'a']"
            ]
          },
          "execution_count": 49,
          "metadata": {},
          "output_type": "execute_result"
        }
      ]
    }
  ]
}