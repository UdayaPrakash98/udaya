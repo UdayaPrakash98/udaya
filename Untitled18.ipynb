{
 "cells": [
  {
   "cell_type": "code",
   "execution_count": 6,
   "id": "interior-poetry",
   "metadata": {},
   "outputs": [
    {
     "name": "stdout",
     "output_type": "stream",
     "text": [
      "14.000000 kilometer is equal to 8.84 mile \n"
     ]
    }
   ],
   "source": [
    "#convert kilometers into  miles\n",
    "kilometer = 14\n",
    "one_mile =0.63171\n",
    "mile = kilometer * one_mile\n",
    "print('%2f kilometer is equal to %0.2f mile '%(kilometer,mile))"
   ]
  },
  {
   "cell_type": "code",
   "execution_count": 13,
   "id": "greater-meaning",
   "metadata": {},
   "outputs": [
    {
     "name": "stdout",
     "output_type": "stream",
     "text": [
      "26.30 celsius is 79.34 farenheit\n"
     ]
    }
   ],
   "source": [
    "#celsius into farenheit\n",
    "celsius = 26.3\n",
    "farenheit = (celsius *(9/5)+32)\n",
    "print('%.2f celsius is %0.2f farenheit'%(celsius,farenheit))"
   ]
  },
  {
   "cell_type": "code",
   "execution_count": 15,
   "id": "imperial-monroe",
   "metadata": {},
   "outputs": [
    {
     "name": "stdout",
     "output_type": "stream",
     "text": [
      "     April 2021\n",
      "Mo Tu We Th Fr Sa Su\n",
      "          1  2  3  4\n",
      " 5  6  7  8  9 10 11\n",
      "12 13 14 15 16 17 18\n",
      "19 20 21 22 23 24 25\n",
      "26 27 28 29 30\n",
      "\n"
     ]
    }
   ],
   "source": [
    "#display calendar\n",
    "import calendar\n",
    "yy=2021\n",
    "mm= 4\n",
    "print(calendar.month(yy,mm))"
   ]
  },
  {
   "cell_type": "code",
   "execution_count": 20,
   "id": "aggressive-architecture",
   "metadata": {
    "scrolled": true
   },
   "outputs": [
    {
     "name": "stdout",
     "output_type": "stream",
     "text": [
      "The solution are (-0.7-1.1445523142259597j) and (-0.7+1.1445523142259597j)\n"
     ]
    }
   ],
   "source": [
    "#solve quadratic euation\n",
    "import cmath\n",
    "\n",
    "a = 5\n",
    "b = 7\n",
    "c = 9\n",
    "#calculate of discriminent\n",
    "d = (b*2) - (4*a*c)\n",
    "\n",
    "# find two solutions\n",
    "s1 = (-b-cmath.sqrt(d))/(2*a)\n",
    "s2 = (-b+cmath.sqrt(d))/(2*a)\n",
    "\n",
    "print('The solution are {0} and {1}'.format(s1,s2))"
   ]
  },
  {
   "cell_type": "code",
   "execution_count": 16,
   "id": "occupied-entertainment",
   "metadata": {},
   "outputs": [
    {
     "name": "stdout",
     "output_type": "stream",
     "text": [
      "x 30\n",
      "y 20\n"
     ]
    }
   ],
   "source": [
    "#swap two without temp variable\n",
    "x =20\n",
    "y=30\n",
    "x,y = y,x\n",
    "print('x',x)\n",
    "print('y',y)"
   ]
  },
  {
   "cell_type": "code",
   "execution_count": null,
   "id": "immediate-shoulder",
   "metadata": {},
   "outputs": [],
   "source": []
  }
 ],
 "metadata": {
  "kernelspec": {
   "display_name": "Python 3",
   "language": "python",
   "name": "python3"
  },
  "language_info": {
   "codemirror_mode": {
    "name": "ipython",
    "version": 3
   },
   "file_extension": ".py",
   "mimetype": "text/x-python",
   "name": "python",
   "nbconvert_exporter": "python",
   "pygments_lexer": "ipython3",
   "version": "3.9.2"
  }
 },
 "nbformat": 4,
 "nbformat_minor": 5
}
