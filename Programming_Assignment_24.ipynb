{
  "nbformat": 4,
  "nbformat_minor": 5,
  "metadata": {
    "kernelspec": {
      "display_name": "Python 3",
      "language": "python",
      "name": "python3"
    },
    "language_info": {
      "codemirror_mode": {
        "name": "ipython",
        "version": 3
      },
      "file_extension": ".py",
      "mimetype": "text/x-python",
      "name": "python",
      "nbconvert_exporter": "python",
      "pygments_lexer": "ipython3",
      "version": "3.8.5"
    },
    "colab": {
      "name": "Programming Assignment_24.ipynb",
      "provenance": []
    }
  },
  "cells": [
    {
      "cell_type": "markdown",
      "metadata": {
        "id": "8b64fe9d"
      },
      "source": [
        "### Question1\n",
        "#### Create a function that takes an integer and returns a list from 1 to the given number, where:\n",
        "#### 1. If the number can be divided evenly by 4, amplify it by 10 (i.e. return 10 times the\n",
        "#### number).\n",
        "#### 2. If the number cannot be divided evenly by 4, simply return the number.\n",
        "#### Examples\n",
        "#### amplify(4) ➞ [1, 2, 3, 40]\n",
        "#### amplify(3) ➞ [1, 2, 3]\n",
        "#### amplify(25) ➞ [1, 2, 3, 40, 5, 6, 7, 80, 9, 10, 11, 120, 13, 14, 15, 160,\n",
        "#### 17, 18, 19, 200, 21, 22, 23, 240, 25]\n",
        "#### Notes\n",
        "####  The given integer will always be equal to or greater than 1.\n",
        "####  Include the number (see example above).\n",
        "####  To perform this problem with its intended purpose, try doing it with list\n",
        "#### comprehensions. If that&#39;s too difficult, just solve the challenge any way you can."
      ],
      "id": "8b64fe9d"
    },
    {
      "cell_type": "code",
      "metadata": {
        "id": "bb55bc32"
      },
      "source": [
        "def amplify(n):\n",
        "    return [i*10 if i%4==0 else i for i in range(1, n+1)]"
      ],
      "id": "bb55bc32",
      "execution_count": null,
      "outputs": []
    },
    {
      "cell_type": "code",
      "metadata": {
        "id": "21d8c04b",
        "outputId": "5da55fae-f80f-465d-f34b-9cefb290bfbb"
      },
      "source": [
        "amplify(4)"
      ],
      "id": "21d8c04b",
      "execution_count": null,
      "outputs": [
        {
          "data": {
            "text/plain": [
              "[1, 2, 3, 40]"
            ]
          },
          "execution_count": 7,
          "metadata": {},
          "output_type": "execute_result"
        }
      ]
    },
    {
      "cell_type": "code",
      "metadata": {
        "id": "eecbfa57",
        "outputId": "960d61ba-fa21-4b39-bde5-84ae23aeb0b4"
      },
      "source": [
        "amplify(3)"
      ],
      "id": "eecbfa57",
      "execution_count": null,
      "outputs": [
        {
          "data": {
            "text/plain": [
              "[1, 2, 3]"
            ]
          },
          "execution_count": 8,
          "metadata": {},
          "output_type": "execute_result"
        }
      ]
    },
    {
      "cell_type": "code",
      "metadata": {
        "id": "142b3fd7",
        "outputId": "eb4884b9-9cf5-4cbf-f90c-fd43554e21f4"
      },
      "source": [
        "print(amplify(25))"
      ],
      "id": "142b3fd7",
      "execution_count": null,
      "outputs": [
        {
          "name": "stdout",
          "output_type": "stream",
          "text": [
            "[1, 2, 3, 40, 5, 6, 7, 80, 9, 10, 11, 120, 13, 14, 15, 160, 17, 18, 19, 200, 21, 22, 23, 240, 25]\n"
          ]
        }
      ]
    },
    {
      "cell_type": "markdown",
      "metadata": {
        "id": "c92be812"
      },
      "source": [
        "### Question2\n",
        "#### Create a function that takes a list of numbers and return the number that&#39;s unique.\n",
        "#### Examples\n",
        "#### unique([3, 3, 3, 7, 3, 3]) ➞ 7\n",
        "#### unique([0, 0, 0.77, 0, 0]) ➞ 0.77\n",
        "#### unique([0, 1, 1, 1, 1, 1, 1, 1]) ➞ 0\n",
        "#### Notes\n",
        "#### Test cases will always have exactly one unique number while all others are the same."
      ],
      "id": "c92be812"
    },
    {
      "cell_type": "code",
      "metadata": {
        "id": "4b656677"
      },
      "source": [
        "def unique(l):\n",
        "    for i in list(set(l)):\n",
        "        if l.count(i)==1:\n",
        "            return i\n",
        "    \n",
        "                          "
      ],
      "id": "4b656677",
      "execution_count": null,
      "outputs": []
    },
    {
      "cell_type": "code",
      "metadata": {
        "id": "e9b273f3",
        "outputId": "48296753-1ba1-48af-de94-7ca3e7d117ce"
      },
      "source": [
        "unique([3, 3, 3, 7, 3, 3])"
      ],
      "id": "e9b273f3",
      "execution_count": null,
      "outputs": [
        {
          "data": {
            "text/plain": [
              "7"
            ]
          },
          "execution_count": 30,
          "metadata": {},
          "output_type": "execute_result"
        }
      ]
    },
    {
      "cell_type": "code",
      "metadata": {
        "id": "28b2fd45",
        "outputId": "74599d51-6e12-4e1c-e664-9980959015aa"
      },
      "source": [
        "unique([0, 0, 0.77, 0, 0])"
      ],
      "id": "28b2fd45",
      "execution_count": null,
      "outputs": [
        {
          "data": {
            "text/plain": [
              "0.77"
            ]
          },
          "execution_count": 31,
          "metadata": {},
          "output_type": "execute_result"
        }
      ]
    },
    {
      "cell_type": "code",
      "metadata": {
        "id": "30f443de",
        "outputId": "0d63b51a-ab01-4cb9-bf2a-0f5fb0e1aa0a"
      },
      "source": [
        "unique([0, 1, 1, 1, 1, 1, 1, 1])"
      ],
      "id": "30f443de",
      "execution_count": null,
      "outputs": [
        {
          "data": {
            "text/plain": [
              "0"
            ]
          },
          "execution_count": 32,
          "metadata": {},
          "output_type": "execute_result"
        }
      ]
    },
    {
      "cell_type": "markdown",
      "metadata": {
        "id": "1adfd484"
      },
      "source": [
        "### Question3\n",
        "#### Your task is to create a Circle constructor that creates a circle with a radius provided by an\n",
        "#### argument. The circles constructed must have two getters getArea() (PIr^2) and\n",
        "#### getPerimeter() (2PI*r) which give both respective areas and perimeter (circumference).\n",
        "#### For help with this class, I have provided you with a Rectangle constructor which you can use\n",
        "#### as a base example.\n",
        "#### Examples\n",
        "#### circy = Circle(11)\n",
        "#### circy.getArea()\n",
        "#### # Should return 380.132711084365\n",
        "#### circy = Circle(4.44)\n",
        "#### circy.getPerimeter()\n",
        "#### # Should return 27.897342763877365\n",
        "#### Notes\n",
        "#### Round results up to the nearest integer."
      ],
      "id": "1adfd484"
    },
    {
      "cell_type": "code",
      "metadata": {
        "id": "eb82bfba"
      },
      "source": [
        "class Circle:\n",
        "    def __init__(self,r):\n",
        "        self.radius = r\n",
        "    \n",
        "    def getArea(self):\n",
        "        return round(3.14*self.radius*self.radius)\n",
        "    \n",
        "    def getPerimeter(self):\n",
        "        return round(2*3.14*self.radius)"
      ],
      "id": "eb82bfba",
      "execution_count": null,
      "outputs": []
    },
    {
      "cell_type": "code",
      "metadata": {
        "id": "1a35d54c",
        "outputId": "e032f22d-ef9e-4e29-c7b1-1398dd37d131"
      },
      "source": [
        "circy = Circle(11)\n",
        "circy.getArea()"
      ],
      "id": "1a35d54c",
      "execution_count": null,
      "outputs": [
        {
          "data": {
            "text/plain": [
              "380"
            ]
          },
          "execution_count": 39,
          "metadata": {},
          "output_type": "execute_result"
        }
      ]
    },
    {
      "cell_type": "code",
      "metadata": {
        "id": "89a2c6af",
        "outputId": "68847575-9c0a-4d93-df27-b8bb63f06002"
      },
      "source": [
        "circy = Circle(4.44)\n",
        "circy.getPerimeter()"
      ],
      "id": "89a2c6af",
      "execution_count": null,
      "outputs": [
        {
          "data": {
            "text/plain": [
              "28"
            ]
          },
          "execution_count": 40,
          "metadata": {},
          "output_type": "execute_result"
        }
      ]
    },
    {
      "cell_type": "markdown",
      "metadata": {
        "id": "a62397b0"
      },
      "source": [
        "### Question4\n",
        "#### Create a function that takes a list of strings and return a list, sorted from shortest to longest.\n",
        "#### Examples\n",
        "#### sort_by_length([&quot;Google&quot;, &quot;Apple&quot;, &quot;Microsoft&quot;])\n",
        "#### ➞ [&quot;Apple&quot;, &quot;Google&quot;, &quot;Microsoft&quot;]\n",
        "#### sort_by_length([&quot;Leonardo&quot;, &quot;Michelangelo&quot;, &quot;Raphael&quot;, &quot;Donatello&quot;])\n",
        "#### ➞ [&quot;Raphael&quot;, &quot;Leonardo&quot;, &quot;Donatello&quot;, &quot;Michelangelo&quot;]\n",
        "#### sort_by_length([&quot;Turing&quot;, &quot;Einstein&quot;, &quot;Jung&quot;])\n",
        "#### ➞ [&quot;Jung&quot;, &quot;Turing&quot;, &quot;Einstein&quot;]\n",
        "#### Notes\n",
        "#### All test cases contain lists with strings of different lengths, so you won&#39;t have to deal with\n",
        "#### multiple strings of the same length."
      ],
      "id": "a62397b0"
    },
    {
      "cell_type": "code",
      "metadata": {
        "id": "fe64e986"
      },
      "source": [
        "def sort_by_length(l):\n",
        "    return (sorted(l, key = len))"
      ],
      "id": "fe64e986",
      "execution_count": null,
      "outputs": []
    },
    {
      "cell_type": "code",
      "metadata": {
        "id": "0e7fd188",
        "outputId": "6a1e4052-6304-4946-c714-405d9aaaf22d"
      },
      "source": [
        "sort_by_length([\"Google\", \"Apple\", \"Microsoft\"])"
      ],
      "id": "0e7fd188",
      "execution_count": null,
      "outputs": [
        {
          "data": {
            "text/plain": [
              "['Apple', 'Google', 'Microsoft']"
            ]
          },
          "execution_count": 44,
          "metadata": {},
          "output_type": "execute_result"
        }
      ]
    },
    {
      "cell_type": "code",
      "metadata": {
        "id": "53e664f3",
        "outputId": "27d7795c-4ce2-4ed9-94a9-ed8935f49c1d"
      },
      "source": [
        "sort_by_length([\"Leonardo\", \"Michelangelo\", \"Raphael\", \"Donatello\"])"
      ],
      "id": "53e664f3",
      "execution_count": null,
      "outputs": [
        {
          "data": {
            "text/plain": [
              "['Raphael', 'Leonardo', 'Donatello', 'Michelangelo']"
            ]
          },
          "execution_count": 45,
          "metadata": {},
          "output_type": "execute_result"
        }
      ]
    },
    {
      "cell_type": "code",
      "metadata": {
        "id": "b03d807d",
        "outputId": "82899711-22b7-42e1-e313-3454d6805bf5"
      },
      "source": [
        "sort_by_length([\"Turing\", \"Einstein\", \"Jung\"])"
      ],
      "id": "b03d807d",
      "execution_count": null,
      "outputs": [
        {
          "data": {
            "text/plain": [
              "['Jung', 'Turing', 'Einstein']"
            ]
          },
          "execution_count": 46,
          "metadata": {},
          "output_type": "execute_result"
        }
      ]
    },
    {
      "cell_type": "markdown",
      "metadata": {
        "id": "f7e42080"
      },
      "source": [
        "### Question5\n",
        "#### Create a function that validates whether three given integers form a Pythagorean triplet. The\n",
        "#### sum of the squares of the two smallest integers must equal the square of the largest number to\n",
        "#### be validated.\n",
        "#### \n",
        "#### Examples\n",
        "#### is_triplet(3, 4, 5) ➞ True\n",
        "#### # 3² + 4² = 25\n",
        "#### # 5² = 25\n",
        "#### is_triplet(13, 5, 12) ➞ True\n",
        "#### # 5² + 12² = 169\n",
        "#### # 13² = 169\n",
        "#### is_triplet(1, 2, 3) ➞ False\n",
        "#### # 1² + 2² = 5\n",
        "#### # 3² = 9\n",
        "#### Notes\n",
        "#### Numbers may not be given in a sorted order."
      ],
      "id": "f7e42080"
    },
    {
      "cell_type": "code",
      "metadata": {
        "id": "5ec02d02"
      },
      "source": [
        "def is_triplet(*args):\n",
        "    l = []\n",
        "    l.extend((args))\n",
        "    l = sorted(l)\n",
        "    if l[0]**2 + l[1]**2 == l[2]**2:\n",
        "        return True\n",
        "    return False"
      ],
      "id": "5ec02d02",
      "execution_count": null,
      "outputs": []
    },
    {
      "cell_type": "code",
      "metadata": {
        "id": "514de4b9",
        "outputId": "e8812cbc-3606-4363-867c-e51fdfc6dc6a"
      },
      "source": [
        "is_triplet(13,5,12)"
      ],
      "id": "514de4b9",
      "execution_count": null,
      "outputs": [
        {
          "data": {
            "text/plain": [
              "True"
            ]
          },
          "execution_count": 87,
          "metadata": {},
          "output_type": "execute_result"
        }
      ]
    },
    {
      "cell_type": "code",
      "metadata": {
        "id": "bbb49073",
        "outputId": "ce415077-310e-46d1-e6b7-941f232bbeb6"
      },
      "source": [
        "is_triplet(3, 4, 5)"
      ],
      "id": "bbb49073",
      "execution_count": null,
      "outputs": [
        {
          "data": {
            "text/plain": [
              "True"
            ]
          },
          "execution_count": 88,
          "metadata": {},
          "output_type": "execute_result"
        }
      ]
    },
    {
      "cell_type": "code",
      "metadata": {
        "id": "c9df62d1",
        "outputId": "dc560551-def1-4926-c577-382893876e3a"
      },
      "source": [
        "is_triplet(1, 2, 3)"
      ],
      "id": "c9df62d1",
      "execution_count": null,
      "outputs": [
        {
          "data": {
            "text/plain": [
              "False"
            ]
          },
          "execution_count": 89,
          "metadata": {},
          "output_type": "execute_result"
        }
      ]
    }
  ]
}