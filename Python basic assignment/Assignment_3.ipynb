{
  "nbformat": 4,
  "nbformat_minor": 0,
  "metadata": {
    "kernelspec": {
      "display_name": "Python 3",
      "language": "python",
      "name": "python3"
    },
    "language_info": {
      "codemirror_mode": {
        "name": "ipython",
        "version": 3
      },
      "file_extension": ".py",
      "mimetype": "text/x-python",
      "name": "python",
      "nbconvert_exporter": "python",
      "pygments_lexer": "ipython3",
      "version": "3.8.5"
    },
    "colab": {
      "name": "Assignment_3.ipynb",
      "provenance": []
    }
  },
  "cells": [
    {
      "cell_type": "markdown",
      "metadata": {
        "id": "4jo1q1xu5l55"
      },
      "source": [
        "### 1. Why are functions advantageous to have in your programs?"
      ]
    },
    {
      "cell_type": "markdown",
      "metadata": {
        "id": "8AE4vyKH5l5-"
      },
      "source": [
        "ANS:  because of their reusuability which makes program shorter, easy to rean and update"
      ]
    },
    {
      "cell_type": "markdown",
      "metadata": {
        "id": "VyFCpwRo5l5_"
      },
      "source": [
        "### 2. When does the code in a function run: when it&#39;s specified or when it&#39;s called?"
      ]
    },
    {
      "cell_type": "markdown",
      "metadata": {
        "id": "si78_soB5l6A"
      },
      "source": [
        "Ans:- When a function is called and starts executing the function"
      ]
    },
    {
      "cell_type": "markdown",
      "metadata": {
        "id": "UPf42qEw5l6B"
      },
      "source": [
        "### 3. What statement creates a function?"
      ]
    },
    {
      "cell_type": "code",
      "metadata": {
        "id": "82ieu5665l6B"
      },
      "source": [
        "def function_name(arguments):\n",
        "    return arguments"
      ],
      "execution_count": null,
      "outputs": []
    },
    {
      "cell_type": "markdown",
      "metadata": {
        "id": "OG7oak565l6C"
      },
      "source": [
        "### 4. What is the difference between a function and a function call?"
      ]
    },
    {
      "cell_type": "markdown",
      "metadata": {
        "id": "9mJBNE6D5l6E"
      },
      "source": [
        "function means a pre-coded task which will only perform if it is called \n",
        "this is where function call comes into picture to achieve the task."
      ]
    },
    {
      "cell_type": "markdown",
      "metadata": {
        "id": "OYBxu7v15l6F"
      },
      "source": [
        "### 5. How many global scopes are there in a Python program? How many local scopes?"
      ]
    },
    {
      "cell_type": "markdown",
      "metadata": {
        "id": "T_3RB8LT5l6H"
      },
      "source": [
        "there is only one global scope per python program and remains there untill program is terminated.\n"
      ]
    },
    {
      "cell_type": "markdown",
      "metadata": {
        "id": "SaCQ3htY5l6I"
      },
      "source": [
        "there can be as many local scopes as you in side a program because variable crearted inside a function can only be used in that space."
      ]
    },
    {
      "cell_type": "markdown",
      "metadata": {
        "id": "H_k6Ie1f5l6I"
      },
      "source": [
        "### 6. What happens to variables in a local scope when the function call returns?"
      ]
    },
    {
      "cell_type": "markdown",
      "metadata": {
        "id": "bLcoA_Eh5l6J"
      },
      "source": [
        "variable in a local space is confined to that space of function can only be used in that function and therefore retains its value untill next time function is called"
      ]
    },
    {
      "cell_type": "markdown",
      "metadata": {
        "id": "M7MtvcTO5l6J"
      },
      "source": [
        "### 7. What is the concept of a return value? Is it possible to have a return value in an expression?"
      ]
    },
    {
      "cell_type": "markdown",
      "metadata": {
        "id": "_DJJeXoQ5l6J"
      },
      "source": [
        "It is a special statement in a function used to sent result to caller who called function.\n",
        "\n"
      ]
    },
    {
      "cell_type": "markdown",
      "metadata": {
        "id": "sOtJTPrZ5l6K"
      },
      "source": [
        "yes it is possible to have return value in an expression."
      ]
    },
    {
      "cell_type": "markdown",
      "metadata": {
        "id": "aSqVVNIM5l6K"
      },
      "source": [
        "### 8. If a function does not have a return statement, what is the return value of a call to that function?"
      ]
    },
    {
      "cell_type": "markdown",
      "metadata": {
        "id": "5TjwIvui5l6K"
      },
      "source": [
        "\n",
        "it doesnt return any particular value  for example if you want to addition of number it will perform addition but not return the results without return statement."
      ]
    },
    {
      "cell_type": "markdown",
      "metadata": {
        "id": "cPolqVjI5l6K"
      },
      "source": [
        "### 9. How do you make a function variable refer to the global variable?"
      ]
    },
    {
      "cell_type": "markdown",
      "metadata": {
        "id": "U5l7WcWc5l6L"
      },
      "source": [
        "Global variable is a variable which is not connected to any particular function i.e it is free to be called in any function and also be reused.\n",
        "Therefore to refer a function variable to global variable we use global keyword to declare which variable are global"
      ]
    },
    {
      "cell_type": "markdown",
      "metadata": {
        "id": "BX11KLZs5l6L"
      },
      "source": [
        "### 10. What is the data type of None?"
      ]
    },
    {
      "cell_type": "code",
      "metadata": {
        "id": "B9wHfG7p5l6L",
        "outputId": "fc13770f-9d5b-43e5-e53a-ff433b9a1074"
      },
      "source": [
        "type(None) # it is null neither Zero nor any other value"
      ],
      "execution_count": null,
      "outputs": [
        {
          "data": {
            "text/plain": [
              "NoneType"
            ]
          },
          "execution_count": 7,
          "metadata": {},
          "output_type": "execute_result"
        }
      ]
    },
    {
      "cell_type": "markdown",
      "metadata": {
        "id": "dbHci8qf5l6M"
      },
      "source": [
        "### 11. What does the sentence import areallyourpetsnamederic do?"
      ]
    },
    {
      "cell_type": "markdown",
      "metadata": {
        "id": "dJf_4zkU5l6N"
      },
      "source": [
        "it will import areallyourpetnamederic module."
      ]
    },
    {
      "cell_type": "markdown",
      "metadata": {
        "id": "_cKurf8W5l6N"
      },
      "source": [
        "### 12. If you had a bacon() feature in a spam module, what would you call it after importing spam?"
      ]
    },
    {
      "cell_type": "markdown",
      "metadata": {
        "id": "8W8EZD655l6N"
      },
      "source": [
        "spam.bacon()"
      ]
    },
    {
      "cell_type": "markdown",
      "metadata": {
        "id": "sD_9r5Dm5l6N"
      },
      "source": [
        "### 13. What can you do to save a programme from crashing if it encounters an error?\n"
      ]
    },
    {
      "cell_type": "markdown",
      "metadata": {
        "id": "k4Oimf8I5l6O"
      },
      "source": [
        "I will use try and catch for preventing crash"
      ]
    },
    {
      "cell_type": "markdown",
      "metadata": {
        "id": "RJ7XF0uE5l6O"
      },
      "source": [
        "### 14. What is the purpose of the try clause? What is the purpose of the except clause?"
      ]
    },
    {
      "cell_type": "markdown",
      "metadata": {
        "id": "3-wbhUmI5l6O"
      },
      "source": [
        "TRY CLAUSE:\n",
        "    try clause is used when you think that program can crash so you try to run the program and it crashes it wont disturb other part of program"
      ]
    },
    {
      "cell_type": "markdown",
      "metadata": {
        "id": "i37kYnLE5l6O"
      },
      "source": [
        "EXCEPT CLAUSE:\n",
        "    except clause is used when you are trying a certain part of program but it fails so it used as a response to exception.\n",
        "\n",
        "    "
      ]
    }
  ]
}